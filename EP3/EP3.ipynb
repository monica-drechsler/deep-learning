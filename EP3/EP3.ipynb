{
  "cells": [
    {
      "cell_type": "markdown",
      "metadata": {
        "id": "P_dmuntW9raN"
      },
      "source": [
        "# **EP3**\n",
        "*Nome:* Monica Maria Funk Drechsler (11275391)\n",
        "\n",
        "\n",
        "## **Introdução**\n",
        "Dando continuidade à atividade proposta na Quick Task 3, neste notebook implementaremos um modelo de tradução sequência para sequência (Seq2Seq) utilizando Redes Neurais Recorrentes (RNNs) para converter datas no formato legível por humanos (como \"12 de outubro de 2024\") para um formato legível por máquinas (como \"12/10/2024\").\n",
        "\n",
        "### **Contexto**\n",
        "\n",
        "Modelos Seq2Seq são amplamente utilizados em tarefas que envolvem a transformação de uma sequência de entrada em outra sequência de saída, como tradução automática de idiomas, sumarização de texto e, neste caso, a transformação de formatos de data. Esses modelos geralmente consistem em dois componentes principais:\n",
        "\n",
        "1. **Encoder**: Lê e compreende a sequência de entrada (neste caso, a data no formato legível por humanos).\n",
        "2. **Decoder**: Gera a sequência de saída correspondente (a data no formato legível por máquinas).\n",
        "\n",
        "### **Objetivo**\n",
        "\n",
        " O objetivo desta tarefa é aplicar os conceitos discutidos nos artigos \"Sequence to Sequence Learning with Neural Networks\" e \"Neural Machine Translation by Jointly Learning to Align and Translate\", utilizando-os em um problema de tradução de formatos de datas. Este exercício servirá como um exemplo prático do poder dos modelos Seq2Seq e do uso de RNNs em tarefas de tradução.\n",
        "\n",
        " Você deve rodar o código e tentar entender o que está acontecendo nas primeiras três seções. À medida que você se familiariza com a implementação, sinta-se à vontade para continuar a exploração em algum caminho que você achar interessante. Isso pode incluir experimentar diferentes configurações de modelo, aplicar novos datasets ou investigar alternativas aos mecanismos de atenção. O objetivo é que você desenvolva uma compreensão mais profunda dos modelos Seq2Seq e das suas aplicações práticas.\n",
        "\n",
        "Este notebook possui as seguintes seções:\n",
        "\n",
        "1. **Carregando os dados:** Iremos carregar um dataset pronto e em seguida converteremos as datas no formato de string para um formato numérico para que o modelo possa entender.\n",
        "2. **Construção do modelo sem atenção:** Implementaremos o modelo Seq2Seq com base em GRU, uma variante das RNNs.\n",
        "3. **Adicionando atenção:** Implementaremos uma versão do Decoder com atenção.\n",
        "4. **Exercícios de Exploração Sugeridos:** Sugestões de explorações para que você possa explorar um pouco mais a tarefa.\n",
        "\n",
        "\n",
        "\n",
        "### **Referências**\n",
        "\n",
        "Este EP foi baseado em dois notebooks, do primeiro retirou a ideia do dataset [1] e o código PyTorch foi adaptado do segundo [2]. Revisão no texto e alguns comentários nos códigos foram gerados com ChatGPT.\n",
        "\n",
        "[1] “Coursera-Deep-Learning-Specialization/C5 - Sequence Models/Week 3/Machine Translation/Neural Machine Translation with Attention - v4.Ipynb at Master · Amanchadha/Coursera-Deep-Learning-Specialization”. GitHub, https://github.com/amanchadha/coursera-deep-learning-specialization/blob/master/C5%20-%20Sequence%20Models/Week%203/Machine%20Translation/Neural%20machine%20translation%20with%20attention%20-%20v4.ipynb.\n",
        "\n",
        "[2] NLP From Scratch: Translation with a Sequence to Sequence Network and Attention — PyTorch Tutorials 2.4.0+cu121 documentation. Por Sean Robertson. https://pytorch.org/tutorials/intermediate/seq2seq_translation_tutorial.html.\n",
        "\n"
      ]
    },
    {
      "cell_type": "markdown",
      "metadata": {
        "id": "uLPa1uOm9raP"
      },
      "source": [
        "----\n",
        "# 0. Setup"
      ]
    },
    {
      "cell_type": "code",
      "execution_count": null,
      "metadata": {
        "colab": {
          "base_uri": "https://localhost:8080/"
        },
        "id": "KiRUkoMv9raP",
        "outputId": "fb7b0033-1a39-45fd-9f25-15b8dcf14fab"
      },
      "outputs": [
        {
          "name": "stdout",
          "output_type": "stream",
          "text": [
            "device=cuda\n"
          ]
        }
      ],
      "source": [
        "import random\n",
        "import re\n",
        "import time\n",
        "import numpy as np\n",
        "import torch\n",
        "import torch.nn as nn\n",
        "from torch import optim\n",
        "import torch.nn.functional as F\n",
        "from torch.utils.data import TensorDataset, DataLoader, RandomSampler\n",
        "\n",
        "\n",
        "import matplotlib.pyplot as plt\n",
        "import matplotlib.ticker as ticker\n",
        "import gdown\n",
        "\n",
        "plt.switch_backend('agg')\n",
        "%matplotlib inline\n",
        "\n",
        "# Device setup\n",
        "device = torch.device(\"cuda\" if torch.cuda.is_available() else \"cpu\")\n",
        "print(f'device={device}')"
      ]
    },
    {
      "cell_type": "markdown",
      "metadata": {
        "id": "dfJOPvRL9raR"
      },
      "source": [
        "----\n",
        "## 1. **Carregando os dados**\n",
        "\n",
        "Iremos carregar um dataset pronto e em seguida converteremos as datas no formato de string para um formato numérico que o modelo possa entender.\n",
        "\n",
        "Vamos treinar o modelo em um dataset de 10.000 datas legíveis por humanos e suas equivalentes, padronizadas, legíveis por máquinas."
      ]
    },
    {
      "cell_type": "code",
      "execution_count": null,
      "metadata": {
        "colab": {
          "base_uri": "https://localhost:8080/"
        },
        "id": "v-9HrQSu9raR",
        "outputId": "548748a9-4f8d-41c5-8fcd-7c2e5c1b652c"
      },
      "outputs": [
        {
          "name": "stderr",
          "output_type": "stream",
          "text": [
            "Downloading...\n",
            "From: https://drive.google.com/uc?id=1REoydh9WkcbiiOvRoGSFGz-usDwQdgQ6\n",
            "To: /content/datahumana-datamaquina.txt\n",
            "100%|██████████| 328k/328k [00:00<00:00, 27.9MB/s]"
          ]
        },
        {
          "name": "stdout",
          "output_type": "stream",
          "text": [
            "\n",
            "Read 10000 samples from datahumana-datamaquina.txt\n",
            "\n",
            "['25 de abril de 1990', '25/04/1990']\n",
            "['sexta-feira 11 de junho de 1976', '11/06/1976']\n",
            "['23 02 16', '23/02/2016']\n",
            "['13.10.75', '13/10/1975']\n",
            "['25 jul. 2009', '25/07/2009']\n",
            "['domingo 23 de dezembro de 1990', '23/12/1990']\n",
            "['26 de jun. de 1990', '26/06/1990']\n",
            "['domingo 15 de agosto de 1976', '15/08/1976']\n",
            "['07/06/2002', '07/06/2002']\n",
            "['sexta-feira 13 de marco de 2020', '13/03/2020']\n",
            "['quinta-feira 26 de dezembro de 2013', '26/12/2013']\n",
            "['10/09/2017', '10/09/2017']\n",
            "['25 abr. 2005', '25/04/2005']\n",
            "['20 02 06', '20/02/2006']\n",
            "['8 jul. 1990', '08/07/1990']\n"
          ]
        },
        {
          "name": "stderr",
          "output_type": "stream",
          "text": [
            "\n"
          ]
        }
      ],
      "source": [
        "def readDataset():\n",
        "  url = 'https://drive.google.com/uc?id=1REoydh9WkcbiiOvRoGSFGz-usDwQdgQ6' ##Apenas um ajuste para fazer o upload dos dados no Colab\n",
        "  file = 'datahumana-datamaquina.txt'\n",
        "  gdown.download(url, file, quiet=False)\n",
        "  lines = open(file, encoding='utf-8').read().strip().split('\\n')\n",
        "  pairs = [[s for s in l.split('\\t')] for l in lines]\n",
        "  print()\n",
        "  print(f'Read {len(pairs)} samples from {file}')\n",
        "  print()\n",
        "  print(\"\\n\".join(map(str, random.sample(pairs, 15))))\n",
        "  return pairs\n",
        "pairs = readDataset()"
      ]
    },
    {
      "cell_type": "markdown",
      "metadata": {
        "id": "0XLjOkTI9raR"
      },
      "source": [
        "É necessário codificar as entradas e saídas em representações que o modelo consiga entender. Neste caso, representaremos as 'palavras' como inteiros atribuídos de forma sequencial.\n",
        "\n",
        "\n",
        "Além disso, é necessário definir os tokens especiais para o início e fim de uma sequência.\n",
        "- SOS_token (Start of Sequence - Início da Sequência) é usado para inicializar a entrada do decodificador ao gerar frases.\n",
        "- EOS_token (End of Sequence - Fim da Sequência) indica o fim da frase, para que o decodificador saiba quando parar de gerar.\n"
      ]
    },
    {
      "cell_type": "code",
      "execution_count": null,
      "metadata": {
        "colab": {
          "base_uri": "https://localhost:8080/"
        },
        "id": "Jqpxo91c9raR",
        "outputId": "c3bd1a9d-4e7b-4677-e1a7-b7e5ece19adf"
      },
      "outputs": [
        {
          "name": "stdout",
          "output_type": "stream",
          "text": [
            "Number of input words: 164\n",
            "Number of output words: 89\n"
          ]
        }
      ],
      "source": [
        "SOS_token = 0\n",
        "EOS_token = 1\n",
        "\n",
        "def prepareData(pairs):\n",
        "  input_dict  = {\"SOS\": SOS_token, \"EOS\": EOS_token}\n",
        "  output_dict = {\"SOS\": SOS_token, \"EOS\": EOS_token}\n",
        "\n",
        "  input_dict_reverse  = {SOS_token: \"SOS\", EOS_token: \"EOS\"}\n",
        "  output_dict_reverse = {SOS_token: \"SOS\", EOS_token: \"EOS\"}\n",
        "\n",
        "  for pair in pairs:\n",
        "    ipt, tgt = pair\n",
        "\n",
        "    mask = '([^a-zA-Z0-9])'\n",
        "    result = [token for token in re.split(mask, ipt) if token.strip()]\n",
        "    for word_input in result:\n",
        "      if word_input not in input_dict:\n",
        "        next_int = max(input_dict.values()) + 1\n",
        "        input_dict[word_input] = next_int\n",
        "        input_dict_reverse[next_int] = word_input\n",
        "\n",
        "    for word_output in re.split(mask, tgt):\n",
        "      if word_output not in output_dict:\n",
        "        next_int = max(output_dict.values()) + 1\n",
        "        output_dict[word_output] = next_int\n",
        "        output_dict_reverse[next_int] = word_output\n",
        "\n",
        "  print(f'Number of input words: {len(input_dict.keys())}')\n",
        "  print(f'Number of output words: {len(output_dict.keys())}')\n",
        "\n",
        "  return input_dict, output_dict, input_dict_reverse, output_dict_reverse\n",
        "\n",
        "input_dict, output_dict, input_dict_reverse, output_dict_reverse = prepareData(pairs)"
      ]
    },
    {
      "cell_type": "code",
      "execution_count": null,
      "metadata": {
        "colab": {
          "base_uri": "https://localhost:8080/"
        },
        "id": "OLc1Ol849raR",
        "outputId": "cd39fe56-5710-4f47-95de-e1eaffcf21e5"
      },
      "outputs": [
        {
          "name": "stdout",
          "output_type": "stream",
          "text": [
            "'segunda-feira 18 de outubro de 1999' => [33, 11, 12, 102, 7, 66, 7, 39]\n",
            "'30/09/2022' => [46, 3, 7, 3, 47]\n"
          ]
        }
      ],
      "source": [
        "def indexesFromSentence(language_dict, sentence, verbose=False):\n",
        "  '''\n",
        "    Função utilitária para converter uma sentença em índices\n",
        "  '''\n",
        "  encoded = [language_dict[word] for word in re.split('([^a-zA-Z0-9])', sentence) if word.strip()]\n",
        "  if verbose:\n",
        "    print(f\"'{sentence}' => {encoded}\")\n",
        "  return encoded\n",
        "\n",
        "indexesFromSentence(input_dict, 'segunda-feira 18 de outubro de 1999', verbose=True);\n",
        "indexesFromSentence(output_dict, '30/09/2022', verbose=True);\n"
      ]
    },
    {
      "cell_type": "code",
      "execution_count": null,
      "metadata": {
        "colab": {
          "base_uri": "https://localhost:8080/"
        },
        "id": "SLoNq_pt9raS",
        "outputId": "98fb1f18-3bfe-4555-a6c9-fa5e9f411dc0"
      },
      "outputs": [
        {
          "data": {
            "text/plain": [
              "(tensor([[ 33,  11,  12, 102,   7,  66,   7,  39,   1]]),\n",
              " tensor([[65,  3, 11,  3, 28,  1]]))"
            ]
          },
          "execution_count": 31,
          "metadata": {},
          "output_type": "execute_result"
        }
      ],
      "source": [
        "# Funções utilitárias\n",
        "def tensorFromSentence(language_dict, sentence):\n",
        "  indexes = indexesFromSentence(language_dict, sentence)\n",
        "  indexes.append(EOS_token)\n",
        "  return torch.tensor(indexes, dtype=torch.long, device=device).view(1, -1)\n",
        "\n",
        "def tensorsFromPair(pair):\n",
        "    input_tensor = tensorFromSentence(input_dict, pair[0])\n",
        "    target_tensor = tensorFromSentence(output_dict, pair[1])\n",
        "    return (input_tensor, target_tensor)\n",
        "\n",
        "tensorsFromPair(['segunda-feira 18 de outubro de 1999', '18/10/1999'])"
      ]
    },
    {
      "cell_type": "markdown",
      "metadata": {
        "id": "6yyu2iw89raS"
      },
      "source": [
        "### Implementando data loader para treinamento"
      ]
    },
    {
      "cell_type": "code",
      "execution_count": null,
      "metadata": {
        "id": "sS5H3uCa9raS"
      },
      "outputs": [],
      "source": [
        "def get_dataloader(batch_size, pairs, input_dict, output_dict):\n",
        "  n = len(pairs)\n",
        "  input_ids = np.zeros((n, MAX_LENGTH), dtype=np.int32)\n",
        "  target_ids = np.zeros((n, MAX_LENGTH), dtype=np.int32)\n",
        "\n",
        "  for idx, (inp, tgt) in enumerate(pairs):\n",
        "    inp_ids = indexesFromSentence(input_dict, inp)\n",
        "    tgt_ids = indexesFromSentence(output_dict, tgt)\n",
        "    inp_ids.append(EOS_token)\n",
        "    tgt_ids.append(EOS_token)\n",
        "    input_ids[idx, :len(inp_ids)] = inp_ids\n",
        "    target_ids[idx, :len(tgt_ids)] = tgt_ids\n",
        "\n",
        "  train_data = TensorDataset(torch.LongTensor(input_ids).to(device), torch.LongTensor(target_ids).to(device))\n",
        "\n",
        "  train_sampler = RandomSampler(train_data)\n",
        "  train_dataloader = DataLoader(train_data, sampler=train_sampler, batch_size=batch_size)\n",
        "  return train_dataloader"
      ]
    },
    {
      "cell_type": "markdown",
      "metadata": {
        "id": "ns7V2tv09raS"
      },
      "source": [
        "----\n",
        "## 2. **Construção do modelo sem atenção:**\n",
        "\n",
        "Dando continuidade, vamos implementar o modelo Seq2Seq utilizando a célula GRU.\n",
        "\n",
        "Uma rede Encoder-Decoder é composta por duas RNNs: o Encoder e o Decoder.\n",
        "O Encoder lê uma sequência de entrada e gera um vetor único, que o Decoder usa para produzir a sequência de saída.\n",
        "\n",
        "Por simplicidade, utilizaremos a célula GRU. Como sugestão, você também pode explorar outras células RNN, como, por exemplo, a LSTM."
      ]
    },
    {
      "cell_type": "code",
      "execution_count": null,
      "metadata": {
        "id": "b_VpBGrP9raS"
      },
      "outputs": [],
      "source": [
        "class EncoderRNN(nn.Module):\n",
        "  def __init__(self, input_size, hidden_size, dropout_p=0.1):\n",
        "    \"\"\"\n",
        "    Initializes the encoding layer (Encoder) of an RNN.\n",
        "\n",
        "    Parameters:\n",
        "    - input_size: The number of expected features in the input x\n",
        "    - hidden_size: The number of features in the hidden state h\n",
        "    - dropout_p: If non-zero, introduces a Dropout layer on the outputs of each GRU layer except the last layer\n",
        "    \"\"\"\n",
        "    super(EncoderRNN, self).__init__()\n",
        "    self.hidden_size = hidden_size\n",
        "\n",
        "    # Embedding layer that transforms word indices into dense vectors of size 'hidden_size'.\n",
        "    self.embedding = nn.Embedding(input_size, hidden_size)\n",
        "\n",
        "    # Defines the GRU (Gated Recurrent Unit) with both input and output dimensions of 'hidden_size'.\n",
        "    # 'batch_first=True' indicates that the first input dimension is the batch (batch_size, seq_len, hidden_size).\n",
        "    self.gru = nn.GRU(hidden_size, hidden_size, batch_first=True)\n",
        "\n",
        "    # Dropout applied after the embedding layer to prevent overfitting.\n",
        "    self.dropout = nn.Dropout(dropout_p)\n",
        "\n",
        "  def forward(self, input):\n",
        "    \"\"\"\n",
        "    Defines the forward pass of the model.\n",
        "\n",
        "    Parameter:\n",
        "    - input: Sequence of word indices of size (batch_size, seq_len).\n",
        "\n",
        "    Returns:\n",
        "    - output: GRU outputs for each step in the sequence (batch_size, seq_len, hidden_size).\n",
        "    - hidden: The last hidden state vector of the GRU (1, batch_size, hidden_size).\n",
        "        \"\"\"\n",
        "    embedded = self.dropout(self.embedding(input))\n",
        "    output, hidden = self.gru(embedded)\n",
        "    return output, hidden"
      ]
    },
    {
      "cell_type": "code",
      "execution_count": null,
      "metadata": {
        "id": "jJns4i2-9raT"
      },
      "outputs": [],
      "source": [
        "# MAX_LENGTH defines the sequence length limit\n",
        "MAX_LENGTH = 18"
      ]
    },
    {
      "cell_type": "code",
      "execution_count": null,
      "metadata": {
        "id": "59tQR6Vu9raT"
      },
      "outputs": [],
      "source": [
        "class DecoderRNN(nn.Module):\n",
        "  def __init__(self, hidden_size, output_size):\n",
        "    \"\"\"\n",
        "    Initializes the decoding layer (Decoder) of an RNN.\n",
        "\n",
        "    Parameters:\n",
        "    - hidden_size: The size of the hidden state vector.\n",
        "    - output_size: The size of the output vocabulary (number of unique words in the target language).\n",
        "    \"\"\"\n",
        "    super(DecoderRNN, self).__init__()\n",
        "\n",
        "    # Embedding layer that transforms word indices into dense vectors of size 'hidden_size'.\n",
        "    self.embedding = nn.Embedding(output_size, hidden_size)\n",
        "\n",
        "    # Defines a GRU layer that processes input sequences. Both input and output dimensions are 'hidden_size'.\n",
        "    self.gru = nn.GRU(hidden_size, hidden_size, batch_first=True)\n",
        "\n",
        "    # Linear layer that maps the hidden state of the GRU to the output vocabulary space.\n",
        "    self.out = nn.Linear(hidden_size, output_size)\n",
        "\n",
        "  def forward(self, encoder_outputs, encoder_hidden, target_tensor=None):\n",
        "    \"\"\"\n",
        "    Defines the forward pass for the decoder.\n",
        "\n",
        "    Parameters:\n",
        "    - encoder_outputs: The output sequence from the encoder (batch_size, seq_len, hidden_size).\n",
        "    - encoder_hidden: The last hidden state of the encoder (1, batch_size, hidden_size).\n",
        "    - target_tensor: The target sequence for teacher forcing (optional).\n",
        "\n",
        "    Returns:\n",
        "    - decoder_outputs: The output probabilities (log-softmax) for each time step (batch_size, seq_len, output_size).\n",
        "    - decoder_hidden: The final hidden state of the decoder (1, batch_size, hidden_size).\n",
        "    - None: Placeholder for consistency with other methods (e.g., attention).\n",
        "    \"\"\"\n",
        "    batch_size = encoder_outputs.size(0)\n",
        "\n",
        "    # Initial decoder input is the <SOS> token for every sequence in the batch.\n",
        "    decoder_input = torch.empty(batch_size, 1, dtype=torch.long, device=device).fill_(SOS_token)\n",
        "    decoder_hidden = encoder_hidden\n",
        "    decoder_outputs = []\n",
        "\n",
        "    # Loop through each time step\n",
        "    for i in range(MAX_LENGTH):\n",
        "      # Call the forward_step function to get output and hidden state for the current time step.\n",
        "      decoder_output, decoder_hidden  = self.forward_step(decoder_input, decoder_hidden)\n",
        "      decoder_outputs.append(decoder_output)\n",
        "\n",
        "      if target_tensor is not None:\n",
        "        # Teacher forcing: Use the target token as the next input to the decoder.\n",
        "        decoder_input = target_tensor[:, i].unsqueeze(1)\n",
        "      else:\n",
        "        # Without teacher forcing: use its own predictions as the next input\n",
        "        _, topi = decoder_output.topk(1)\n",
        "        decoder_input = topi.squeeze(-1).detach()\n",
        "\n",
        "    # Concatenate all the decoder outputs along the time step dimension.\n",
        "    decoder_outputs = torch.cat(decoder_outputs, dim=1)\n",
        "\n",
        "    # Apply log softmax to the outputs to get log-probabilities.\n",
        "    decoder_outputs = F.log_softmax(decoder_outputs, dim=-1)\n",
        "\n",
        "    # Return the outputs, final hidden state, and `None` (for consistency with attention models implemented next).\n",
        "    return decoder_outputs, decoder_hidden, None\n",
        "\n",
        "  def forward_step(self, input, hidden):\n",
        "    \"\"\"\n",
        "    Processes a single step in the decoding sequence.\n",
        "\n",
        "    Parameters:\n",
        "    - input: The current input to the decoder (batch_size, 1).\n",
        "    - hidden: The current hidden state of the decoder (1, batch_size, hidden_size).\n",
        "\n",
        "    Returns:\n",
        "    - output: The predicted output (batch_size, 1, output_size).\n",
        "    - hidden: The updated hidden state (1, batch_size, hidden_size).\n",
        "    \"\"\"\n",
        "    output = self.embedding(input)\n",
        "    output = F.relu(output)\n",
        "    output, hidden = self.gru(output, hidden)\n",
        "    output = self.out(output)\n",
        "    return output, hidden"
      ]
    },
    {
      "cell_type": "markdown",
      "metadata": {
        "id": "I-rP4Qak9raT"
      },
      "source": [
        "### **Treinando uma época**\n",
        "\n",
        "Para treinar, inserimos a sequência de entrada no Encoder, e capturamos  cada saída e o último hidden state.\n",
        "A partir disso, o Decoder é alimentado com o token de início de sequência (SOS) e o último hidden state do Encoder.\n",
        "\n",
        "Para acelerar a convergência do treinamento, utilizamos o Teacher Forcing, ou seja, realimentamos o Decoder com as palavras esperadas, em vez de usar a última saída gerada pelo modelo."
      ]
    },
    {
      "cell_type": "code",
      "execution_count": null,
      "metadata": {
        "id": "Fcn8LmUR9raT"
      },
      "outputs": [],
      "source": [
        "def train_epoch(dataloader, encoder, decoder, encoder_optimizer, decoder_optimizer, criterion):\n",
        "  \"\"\"\n",
        "  Train the encoder and decoder for one epoch.\n",
        "\n",
        "  Parameters:\n",
        "  - dataloader: Iterable that provides batches of input and target tensors.\n",
        "  - encoder: The encoder model.\n",
        "  - decoder: The decoder model.\n",
        "  - encoder_optimizer: Optimizer for updating the encoder's parameters.\n",
        "  - decoder_optimizer: Optimizer for updating the decoder's parameters.\n",
        "  - criterion: Loss function to measure the difference between the predicted and target outputs.\n",
        "\n",
        "  Returns:\n",
        "  - The average loss over the epoch.\n",
        "  \"\"\"\n",
        "  total_loss = 0\n",
        "  for data in dataloader:\n",
        "    input_tensor, target_tensor = data\n",
        "\n",
        "    encoder_optimizer.zero_grad()\n",
        "    decoder_optimizer.zero_grad()\n",
        "\n",
        "    encoder_outputs, encoder_hidden = encoder(input_tensor)\n",
        "    decoder_outputs, _, _ = decoder(encoder_outputs, encoder_hidden, target_tensor)\n",
        "\n",
        "    loss = criterion(\n",
        "        decoder_outputs.view(-1, decoder_outputs.size(-1)),\n",
        "        target_tensor.view(-1)\n",
        "    )\n",
        "    loss.backward()\n",
        "\n",
        "    encoder_optimizer.step()\n",
        "    decoder_optimizer.step()\n",
        "\n",
        "    total_loss += loss.item()\n",
        "\n",
        "  return total_loss / len(dataloader)"
      ]
    },
    {
      "cell_type": "code",
      "execution_count": null,
      "metadata": {
        "id": "B3lj8hYH9raT"
      },
      "outputs": [],
      "source": [
        "def train(train_dataloader, encoder, decoder, n_epochs, learning_rate=0.001):\n",
        "  loss_points = []\n",
        "\n",
        "  plot_losses = []\n",
        "  print_loss_total = 0  # Reset every print_every\n",
        "  plot_loss_total = 0  # Reset every plot_every\n",
        "\n",
        "  encoder_optimizer = optim.Adam(encoder.parameters(), lr=learning_rate)\n",
        "  decoder_optimizer = optim.Adam(decoder.parameters(), lr=learning_rate)\n",
        "  criterion = nn.NLLLoss()\n",
        "\n",
        "  for epoch in range(1, n_epochs + 1):\n",
        "    loss = train_epoch(train_dataloader, encoder, decoder, encoder_optimizer, decoder_optimizer, criterion)\n",
        "    loss_points.append(loss)\n",
        "\n",
        "    if epoch % 10 == 0:\n",
        "      print(f'Epoch: {epoch:4}/{n_epochs:4} - Loss: {loss:.4f}')\n",
        "\n",
        "\n",
        "  return loss_points\n"
      ]
    },
    {
      "cell_type": "code",
      "execution_count": null,
      "metadata": {
        "colab": {
          "base_uri": "https://localhost:8080/"
        },
        "id": "POVkXyMo9raT",
        "outputId": "785f9f33-2d12-48f2-c874-47d6db4910e0"
      },
      "outputs": [
        {
          "name": "stdout",
          "output_type": "stream",
          "text": [
            "Epoch:   10/ 100 - Loss: 0.6127\n",
            "Epoch:   20/ 100 - Loss: 0.5535\n",
            "Epoch:   30/ 100 - Loss: 0.4852\n",
            "Epoch:   40/ 100 - Loss: 0.3258\n",
            "Epoch:   50/ 100 - Loss: 0.2403\n",
            "Epoch:   60/ 100 - Loss: 0.1732\n",
            "Epoch:   70/ 100 - Loss: 0.0743\n",
            "Epoch:   80/ 100 - Loss: 0.0276\n",
            "Epoch:   90/ 100 - Loss: 0.0139\n",
            "Epoch:  100/ 100 - Loss: 0.0087\n"
          ]
        }
      ],
      "source": [
        "hidden_size = 128\n",
        "batch_size = 1024\n",
        "\n",
        "train_dataloader = get_dataloader(batch_size, pairs, input_dict, output_dict)\n",
        "\n",
        "encoder = EncoderRNN(\n",
        "  input_size = len(input_dict.keys()),\n",
        "  hidden_size = hidden_size\n",
        ").to(device)\n",
        "\n",
        "decoder = DecoderRNN(\n",
        "  hidden_size = hidden_size,\n",
        "  output_size = len(output_dict.keys())\n",
        ").to(device)\n",
        "\n",
        "\n",
        "loss_points = train(train_dataloader, encoder, decoder, 100, learning_rate=0.001)\n"
      ]
    },
    {
      "cell_type": "code",
      "execution_count": null,
      "metadata": {
        "colab": {
          "base_uri": "https://localhost:8080/",
          "height": 472
        },
        "id": "TIiOMV-Z9raU",
        "outputId": "c94021eb-ecce-4688-cfb4-11003f0c41f7"
      },
      "outputs": [
        {
          "data": {
            "image/png": "[encoded data removed]",
            "text/plain": [
              "<Figure size 640x480 with 1 Axes>"
            ]
          },
          "metadata": {},
          "output_type": "display_data"
        }
      ],
      "source": [
        "def plot_train_loss(loss_points):\n",
        "  plt.plot(loss_points);\n",
        "  plt.title('Training Loss')\n",
        "  plt.xlabel('Epochs')\n",
        "  plt.ylabel('Loss')\n",
        "plot_train_loss(loss_points);"
      ]
    },
    {
      "cell_type": "markdown",
      "metadata": {
        "id": "U9RWlrWA9raU"
      },
      "source": [
        "### **Avaliando a predição**\n",
        "\n",
        "Para avaliar a predição, usamos o modelo de forma semelhante ao treinamento, mas sem utilizar o Teacher Forcing. Simplesmente realimentamos o decoder com suas próprias predições a cada passo. Quando o decoder produz o token EOS, o processo é interrompido."
      ]
    },
    {
      "cell_type": "code",
      "execution_count": null,
      "metadata": {
        "id": "vuRmSp1G9raU"
      },
      "outputs": [],
      "source": [
        "def evaluate(encoder, decoder, sentence):\n",
        "  encoder.eval()\n",
        "  decoder.eval()\n",
        "  with torch.no_grad():\n",
        "    input_tensor = tensorFromSentence(input_dict, sentence)\n",
        "\n",
        "    encoder_outputs, encoder_hidden = encoder(input_tensor)\n",
        "    decoder_outputs, decoder_hidden, decoder_attn = decoder(encoder_outputs, encoder_hidden)\n",
        "\n",
        "    _, topi = decoder_outputs.topk(1)\n",
        "    decoded_ids = topi.squeeze()\n",
        "\n",
        "    decoded_words = []\n",
        "    for idx in decoded_ids:\n",
        "      if idx.item() == EOS_token:\n",
        "        # decoded_words.append('<EOS>')\n",
        "        break\n",
        "      decoded_words.append(output_dict_reverse[idx.item()])\n",
        "  return decoded_words, decoder_attn"
      ]
    },
    {
      "cell_type": "code",
      "execution_count": null,
      "metadata": {
        "id": "4VOE4W1D9raU"
      },
      "outputs": [],
      "source": [
        "def evaluateRandomly(encoder, decoder, n=5):\n",
        "  for i in range(n):\n",
        "    pair = random.choice(pairs)\n",
        "    print(f'Input: {pair[0]}')\n",
        "    print(f'Ground truth: {pair[1]}')\n",
        "    output_words, _ = evaluate(encoder, decoder, pair[0])\n",
        "    output_sentence = ''.join(output_words)\n",
        "    print(f'Predicted: {output_sentence}')\n",
        "    print('')"
      ]
    },
    {
      "cell_type": "code",
      "execution_count": null,
      "metadata": {
        "colab": {
          "base_uri": "https://localhost:8080/"
        },
        "id": "ec9Jb18q9raU",
        "outputId": "92ebd407-49cd-47a8-935c-3b63164bd6fb"
      },
      "outputs": [
        {
          "name": "stdout",
          "output_type": "stream",
          "text": [
            "Input: quinta-feira 20 de outubro de 2022\n",
            "Ground truth: 20/10/2022\n",
            "Predicted: 20/2022\n",
            "\n",
            "Input: quarta-feira 21 de maio de 1986\n",
            "Ground truth: 21/05/1986\n",
            "Predicted: 21SOSSOSSOSSOSSOSSOSSOSSOSSOSSOSSOSSOSSOSSOSSOSSOSSOS\n",
            "\n",
            "Input: setembro 13 1987\n",
            "Ground truth: 13/09/1987\n",
            "Predicted: SOSSOSSOSSOSSOSSOSSOSSOSSOSSOSSOSSOSSOSSOSSOSSOSSOSSOS\n",
            "\n",
            "Input: 28 ago. 1973\n",
            "Ground truth: 28/08/1973\n",
            "Predicted: 28/1973\n",
            "\n",
            "Input: quarta-feira 3 de agosto de 1988\n",
            "Ground truth: 03/08/1988\n",
            "Predicted: 03/1988\n",
            "\n"
          ]
        }
      ],
      "source": [
        "evaluateRandomly(encoder, decoder)"
      ]
    },
    {
      "cell_type": "markdown",
      "metadata": {
        "id": "ao-Y4-wf9raU"
      },
      "source": [
        "----\n",
        "## 3.  **Adicionando Atenção**\n",
        "\n",
        "A atenção permite que a rede do decoder \"foque\" em uma parte diferente das saídas do encoder a cada passo das suas próprias saídas. Primeiro, calculamos um conjunto de pesos de atenção. Esses pesos serão multiplicados pelos vetores de saída do encoder para criar uma combinação ponderada. O resultado (chamado attn_applied no código) deve conter informações sobre aquela parte específica da sequência de entrada e, assim, ajudar o decoder a escolher as palavras corretas na saída.\n",
        "\n",
        "![](https://i.imgur.com/1152PYf.png)"
      ]
    },
    {
      "cell_type": "code",
      "execution_count": null,
      "metadata": {
        "id": "Ps2RHPRR9raU"
      },
      "outputs": [],
      "source": [
        "# Bahdanau attention, also known as additive attention, is a commonly used\n",
        "# attention mechanism in sequence-to-sequence models, particularly in\n",
        "# neural machine translation tasks. It was introduced by Bahdanau et al.\n",
        "# in their paper titled [Neural Machine Translation by Jointly Learning to\n",
        "# Align and Translate](https://arxiv.org/pdf/1409.0473.pdf). This\n",
        "# attention mechanism employs a learned alignment model to compute\n",
        "# attention scores between the encoder and decoder hidden states. It\n",
        "# utilizes a feed-forward neural network to calculate alignment scores.\n",
        "\n",
        "class BahdanauAttention(nn.Module):\n",
        "  def __init__(self, hidden_size):\n",
        "    '''Initialize the BahdanauAttention class.\n",
        "\n",
        "    Parameters:\n",
        "    - hidden_size: The size of the hidden state used in the attention mechanism.\n",
        "    '''\n",
        "    super(BahdanauAttention, self).__init__()\n",
        "    self.Wa = nn.Linear(hidden_size, hidden_size)\n",
        "    self.Ua = nn.Linear(hidden_size, hidden_size)\n",
        "    self.Va = nn.Linear(hidden_size, 1)\n",
        "\n",
        "  def forward(self, query, keys):\n",
        "    scores = self.Va(torch.tanh(self.Wa(query) + self.Ua(keys)))\n",
        "    scores = scores.squeeze(2).unsqueeze(1)\n",
        "\n",
        "    weights = F.softmax(scores, dim=-1)\n",
        "    context = torch.bmm(weights, keys)\n",
        "    return context, weights  # Return the context vector and attention weights."
      ]
    },
    {
      "cell_type": "code",
      "execution_count": null,
      "metadata": {
        "id": "QSGxVUPn9raV"
      },
      "outputs": [],
      "source": [
        "class AttnDecoderRNN(nn.Module):\n",
        "  def __init__(self, hidden_size, output_size, dropout_p=0.1):\n",
        "    \"\"\"\n",
        "    Initializes the decoding layer (Decoder with Attention) of an RNN.\n",
        "\n",
        "    Parameters:\n",
        "    - hidden_size: The size of the hidden state vector.\n",
        "    - output_size: The size of the output vocabulary (number of unique words in the target language).\n",
        "    - dropout_p: The dropout probability for regularization during training.\n",
        "    \"\"\"\n",
        "    super(AttnDecoderRNN, self).__init__()\n",
        "\n",
        "    # Embedding layer transforms word indices into dense vectors of size 'hidden_size'.\n",
        "    self.embedding = nn.Embedding(output_size, hidden_size)\n",
        "\n",
        "    # Attention mechanism to compute context vectors from encoder outputs.\n",
        "    self.attention = BahdanauAttention(hidden_size)\n",
        "\n",
        "    # GRU layer that processes the combined input of embeddings and context vectors.\n",
        "    self.gru = nn.GRU(2 * hidden_size, hidden_size, batch_first=True)\n",
        "\n",
        "    # Linear layer maps the GRU output to the output vocabulary space.\n",
        "    self.out = nn.Linear(hidden_size, output_size)\n",
        "\n",
        "    # Dropout layer for regularization to prevent overfitting during training.\n",
        "    self.dropout = nn.Dropout(dropout_p)\n",
        "\n",
        "  def forward(self, encoder_outputs, encoder_hidden, target_tensor=None):\n",
        "    \"\"\"\n",
        "    Defines the forward pass for the attention decoder.\n",
        "\n",
        "    Parameters:\n",
        "    - encoder_outputs: The output sequences from the encoder (shape: batch_size, seq_len, hidden_size).\n",
        "    - encoder_hidden: The last hidden state of the encoder (shape: 1, batch_size, hidden_size).\n",
        "    - target_tensor: The target sequence for teacher forcing (optional).\n",
        "\n",
        "    Returns:\n",
        "    - decoder_outputs: The output probabilities (log-softmax) for each time step (shape: batch_size, seq_len, output_size).\n",
        "    - decoder_hidden: The final hidden state of the decoder (shape: 1, batch_size, hidden_size).\n",
        "    - attentions: The attention weights for each time step (shape: batch_size, seq_len).\n",
        "    \"\"\"\n",
        "    batch_size = encoder_outputs.size(0)\n",
        "    decoder_input = torch.empty(batch_size, 1, dtype=torch.long, device=device).fill_(SOS_token)\n",
        "    decoder_hidden = encoder_hidden\n",
        "    decoder_outputs = []\n",
        "    attentions = []\n",
        "\n",
        "    # Loop through each time step to generate the output sequence.\n",
        "    for i in range(MAX_LENGTH):\n",
        "      # Call the forward_step function to get output, hidden state, and attention weights for the current time step.\n",
        "      decoder_output, decoder_hidden, attn_weights = self.forward_step(decoder_input, decoder_hidden, encoder_outputs)\n",
        "      decoder_outputs.append(decoder_output)\n",
        "      attentions.append(attn_weights)\n",
        "\n",
        "      if target_tensor is not None:\n",
        "        # Teacher forcing: Feed the target token as the next input to the decoder.\n",
        "        decoder_input = target_tensor[:, i].unsqueeze(1)\n",
        "      else:\n",
        "        # Without teacher forcing: Use its own predictions as the next input.\n",
        "        _, topi = decoder_output.topk(1)\n",
        "        decoder_input = topi.squeeze(-1).detach()  # detach from history as input\n",
        "\n",
        "    # Concatenate all decoder outputs along the time step dimension.\n",
        "    decoder_outputs = torch.cat(decoder_outputs, dim=1)\n",
        "\n",
        "    # Apply log softmax to the outputs to get log-probabilities.\n",
        "    decoder_outputs = F.log_softmax(decoder_outputs, dim=-1)\n",
        "\n",
        "    # Concatenate all attention weights along the time step dimension.\n",
        "    attentions = torch.cat(attentions, dim=1)\n",
        "\n",
        "    # Return the outputs, final hidden state, and attention weights.\n",
        "    return decoder_outputs, decoder_hidden, attentions\n",
        "\n",
        "\n",
        "  def forward_step(self, input, hidden, encoder_outputs):\n",
        "    \"\"\"\n",
        "    Processes a single step in the decoding sequence with attention.\n",
        "\n",
        "    Parameters:\n",
        "    - input: The current input to the decoder (shape: batch_size, 1).\n",
        "    - hidden: The current hidden state of the decoder (shape: 1, batch_size, hidden_size).\n",
        "    - encoder_outputs: The outputs from the encoder (shape: batch_size, seq_len, hidden_size).\n",
        "\n",
        "    Returns:\n",
        "    - output: The predicted output (shape: batch_size, 1, output_size).\n",
        "    - hidden: The updated hidden state (shape: 1, batch_size, hidden_size).\n",
        "    - attn_weights: The attention weights for the current input (shape: batch_size, seq_len).\n",
        "    \"\"\"\n",
        "    # Get the embedded representation of the current input with dropout for regularization.\n",
        "    embedded =  self.dropout(self.embedding(input))\n",
        "\n",
        "    # Permute hidden state to match the query shape for the attention mechanism.\n",
        "    query = hidden.permute(1, 0, 2)\n",
        "\n",
        "    # Compute the context vector and attention weights using the attention mechanism.\n",
        "    context, attn_weights = self.attention(query, encoder_outputs)\n",
        "\n",
        "    # Concatenate the embedded input and the context vector for the GRU.\n",
        "    input_gru = torch.cat((embedded, context), dim=2)\n",
        "\n",
        "    # Pass the combined input through the GRU layer to get the output and updated hidden state.\n",
        "    output, hidden = self.gru(input_gru, hidden)\n",
        "\n",
        "    # Map the GRU output to the output vocabulary space using the linear layer.\n",
        "    output = self.out(output)\n",
        "\n",
        "    return output, hidden, attn_weights"
      ]
    },
    {
      "cell_type": "markdown",
      "metadata": {
        "id": "5_qQ2v3o9raV"
      },
      "source": [
        "### Treinando"
      ]
    },
    {
      "cell_type": "code",
      "execution_count": null,
      "metadata": {
        "colab": {
          "base_uri": "https://localhost:8080/"
        },
        "id": "YJjRAlR69raV",
        "outputId": "366b5f60-42a4-4351-fce3-909caab99e1a"
      },
      "outputs": [
        {
          "name": "stdout",
          "output_type": "stream",
          "text": [
            "Epoch:   10/ 100 - Loss: 0.5882\n",
            "Epoch:   20/ 100 - Loss: 0.5569\n",
            "Epoch:   30/ 100 - Loss: 0.5368\n",
            "Epoch:   40/ 100 - Loss: 0.4517\n",
            "Epoch:   50/ 100 - Loss: 0.3055\n",
            "Epoch:   60/ 100 - Loss: 0.1211\n",
            "Epoch:   70/ 100 - Loss: 0.0225\n",
            "Epoch:   80/ 100 - Loss: 0.0092\n",
            "Epoch:   90/ 100 - Loss: 0.0055\n",
            "Epoch:  100/ 100 - Loss: 0.0038\n"
          ]
        }
      ],
      "source": [
        "hidden_size = 128\n",
        "batch_size = 1024\n",
        "\n",
        "train_dataloader = get_dataloader(batch_size, pairs, input_dict, output_dict)\n",
        "\n",
        "encoder = EncoderRNN(\n",
        "  input_size = len(input_dict.keys()),\n",
        "  hidden_size = hidden_size\n",
        ").to(device)\n",
        "\n",
        "# decoder = DecoderRNN(\n",
        "decoder = AttnDecoderRNN(\n",
        "  hidden_size = hidden_size,\n",
        "  output_size = len(output_dict.keys())\n",
        ").to(device)\n",
        "\n",
        "\n",
        "loss_points = train(train_dataloader, encoder, decoder, 100, learning_rate=0.001)\n"
      ]
    },
    {
      "cell_type": "code",
      "execution_count": null,
      "metadata": {
        "colab": {
          "base_uri": "https://localhost:8080/",
          "height": 472
        },
        "id": "5A5PQ1O39raV",
        "outputId": "8530c4fe-ee26-435f-e14e-850a06e2e853"
      },
      "outputs": [
        {
          "data": {
            "image/png": "[encoded data removed]",
            "text/plain": [
              "<Figure size 640x480 with 1 Axes>"
            ]
          },
          "metadata": {},
          "output_type": "display_data"
        }
      ],
      "source": [
        "plot_train_loss(loss_points);"
      ]
    },
    {
      "cell_type": "code",
      "execution_count": null,
      "metadata": {
        "colab": {
          "base_uri": "https://localhost:8080/"
        },
        "id": "qYpK1YeS9raV",
        "outputId": "aebd2126-b895-413c-95e6-99f49f17c864"
      },
      "outputs": [
        {
          "name": "stdout",
          "output_type": "stream",
          "text": [
            "Input: sabado 14 de dezembro de 2013\n",
            "Ground truth: 14/12/2013\n",
            "Predicted: 14/12/2013\n",
            "\n",
            "Input: 8 fevereiro 1994\n",
            "Ground truth: 08/02/1994\n",
            "Predicted: SOSSOSSOSSOSSOSSOSSOSSOSSOSSOSSOSSOSSOSSOSSOSSOSSOSSOS\n",
            "\n",
            "Input: sabado 10 de marco de 2018\n",
            "Ground truth: 10/03/2018\n",
            "Predicted: 10/2018\n",
            "\n",
            "Input: quinta-feira 8 de outubro de 1998\n",
            "Ground truth: 08/10/1998\n",
            "Predicted: 08/1998\n",
            "\n",
            "Input: 14 abril 2003\n",
            "Ground truth: 14/04/2003\n",
            "Predicted: 14/04/2003\n",
            "\n"
          ]
        }
      ],
      "source": [
        "evaluateRandomly(encoder, decoder)"
      ]
    },
    {
      "cell_type": "markdown",
      "metadata": {
        "id": "5csanNTq9raV"
      },
      "source": [
        "### **Visualizando as máscaras de Atenção**\n",
        "\n",
        "Uma propriedade útil do mecanismo de atenção é a alta interpretabilidade de suas saídas. Como ele é usado para atribuir pesos específicos às saídas do encoder da sequência de entrada, podemos imaginar onde a rede está mais focada em cada passo de tempo."
      ]
    },
    {
      "cell_type": "code",
      "execution_count": null,
      "metadata": {
        "colab": {
          "base_uri": "https://localhost:8080/",
          "height": 1000
        },
        "id": "fQdJWaKs9raW",
        "outputId": "2fb2161e-2816-4b03-da2b-e911db2648ef"
      },
      "outputs": [
        {
          "name": "stdout",
          "output_type": "stream",
          "text": [
            "input = 20 de novembro de 2015\n",
            "output = 20/11/2015\n"
          ]
        },
        {
          "data": {
            "image/png": "[encoded data removed]",
            "text/plain": [
              "<Figure size 640x480 with 2 Axes>"
            ]
          },
          "metadata": {},
          "output_type": "display_data"
        },
        {
          "name": "stdout",
          "output_type": "stream",
          "text": [
            "input = 22 de maio 1981\n",
            "output = 22SOSSOSSOSSOSSOSSOSSOSSOSSOSSOSSOSSOSSOSSOSSOSSOSSOS\n"
          ]
        },
        {
          "data": {
            "image/png": "[encoded data removed]",
            "text/plain": [
              "<Figure size 640x480 with 2 Axes>"
            ]
          },
          "metadata": {},
          "output_type": "display_data"
        },
        {
          "name": "stdout",
          "output_type": "stream",
          "text": [
            "input = 15.11.2013\n",
            "output = 15/11/2013\n"
          ]
        },
        {
          "data": {
            "image/png": "[encoded data removed]",
            "text/plain": [
              "<Figure size 640x480 with 2 Axes>"
            ]
          },
          "metadata": {},
          "output_type": "display_data"
        },
        {
          "name": "stdout",
          "output_type": "stream",
          "text": [
            "input = 01 de jan. 1989\n",
            "output = 01/01/1989\n"
          ]
        },
        {
          "data": {
            "image/png": "[encoded data removed]",
            "text/plain": [
              "<Figure size 640x480 with 2 Axes>"
            ]
          },
          "metadata": {},
          "output_type": "display_data"
        }
      ],
      "source": [
        "%matplotlib inline\n",
        "def showAttention(input_sentence, output_words, attentions):\n",
        "  fig = plt.figure()\n",
        "  ax = fig.add_subplot()\n",
        "  data = attentions.cpu().numpy().squeeze()\n",
        "  cax = ax.matshow(data, cmap='bone')\n",
        "  fig.colorbar(cax)\n",
        "\n",
        "  # Set up axes\n",
        "  input_tokens = [token for token in re.split('([^a-zA-Z0-9])', input_sentence) if token.strip()]\n",
        "  ax.set_xticks(ticks=range(len(input_tokens)), labels=input_tokens)\n",
        "  ax.set_yticks(ticks=range(len(output_words)), labels=output_words)\n",
        "\n",
        "  # Show label at every tick\n",
        "  ax.xaxis.set_major_locator(ticker.MultipleLocator(1))\n",
        "  ax.yaxis.set_major_locator(ticker.MultipleLocator(1))\n",
        "\n",
        "  for (i, j), z in np.ndenumerate(data):\n",
        "    ax.text(j, i, '{:0.1f}'.format(z), ha='center', va='center')\n",
        "\n",
        "  plt.show()\n",
        "\n",
        "\n",
        "def evaluateAndShowAttention(input_sentence):\n",
        "  output_words, attentions = evaluate(encoder, decoder, input_sentence)\n",
        "  print('input =', input_sentence)\n",
        "  print('output =', ''.join(output_words))\n",
        "  showAttention(input_sentence, output_words, attentions[0, :len(output_words), 1:])\n",
        "  plt.show()\n",
        "\n",
        "\n",
        "\n",
        "evaluateAndShowAttention('20 de novembro de 2015')\n",
        "\n",
        "evaluateAndShowAttention('22 de maio 1981')\n",
        "\n",
        "evaluateAndShowAttention('15.11.2013')\n",
        "\n",
        "evaluateAndShowAttention('01 de jan. 1989')"
      ]
    },
    {
      "cell_type": "markdown",
      "metadata": {
        "id": "7871c7Fs9raW"
      },
      "source": [
        "----\n",
        "##  4. **Exercícios de Exploração Sugeridos**\n",
        "\n",
        "1. **Experimentar com outros datasets:**\n",
        "   - Tente utilizar um dataset diferente para observar como o modelo se comporta com dados novos. Algumas sugestões incluem:\n",
        "     - **Outro par de idiomas**: Experimente traduzir entre diferentes idiomas para testar a flexibilidade do modelo Seq2Seq.\n",
        "     - **Chat → Resposta**: Utilize um dataset de conversas e explore o mapeamento de mensagens para respostas.\n",
        "     - **Pergunta → Resposta**: Experimente um dataset de perguntas e respostas, onde o modelo aprende a fornecer respostas a perguntas específicas.\n",
        "\n",
        "2. **Explorar codificações alternativas:**\n",
        "   - Em vez de utilizar representações simples de palavras, tente usar **embeddings de palavras**. Isso pode melhorar a capacidade do modelo de capturar relacionamentos semânticos entre as palavras. Exemplos incluem: **Word2Vec** ou **GloVe**: Substitua as embeddings atuais por embeddings pré-treinadas para aproveitar o conhecimento adicional aprendido em grandes corpora.\n",
        "   - Experimente outras maneiras de **tokenizar o dataset**. Por exemplo, você pode usar subpalavras (como BPE - Byte Pair Encoding) ou tokens baseados em caracteres em vez de palavras inteiras.\n",
        "\n",
        "3. **Ajustes na arquitetura do modelo:**\n",
        "   - **Aumentar a complexidade do modelo**: Tente aumentar o número de camadas, o número de unidades ocultas (*hidden units*) e experimente treinar com sentenças mais longas. Compare o tempo de treinamento e a qualidade dos resultados obtidos. Isso pode revelar como o modelo escala com a complexidade.\n",
        "   - Em vez de utilizar células GRU, tente implementar o modelo com células **LSTM**. Compare os resultados e observe as diferenças no tempo de convergência e na qualidade da tradução.\n",
        "\n",
        "   - **Treinamento de um autoencoder**:\n",
        "     - Use um arquivo de tradução em que as frases de entrada e saída sejam idênticas (exemplo: \"Eu sou um teste \\t Eu sou um teste\").\n",
        "     - Treine o modelo como um **autoencoder**.\n",
        "     - Após o treinamento, **salve apenas a rede Encoder** e, em seguida, treine um novo Decoder para realizar a tradução a partir das representações do Encoder.\n",
        "\n",
        "4. **Explorar diferentes mecanismos de atenção:**\n",
        "   - Tente usar outro tipo de **mecanismo de atenção** (como **multi-head attention**) e compare os resultados em termos de precisão e capacidade de generalização.\n",
        "\n",
        "5. **Revisão e Contribuição:**\n",
        "   - Como o notebook não foi extensivamente testado, sinta-se à vontade para procurar e corrigir quaisquer erros que encontrar. Agradecemos qualquer contribuição para melhorar o código e a documentação. Seu feedback é valioso para aprimorar a experiência de aprendizado para todos os alunos.\n",
        "\n",
        "...\n"
      ]
    },
    {
      "cell_type": "markdown",
      "metadata": {
        "id": "jUBwIsrBkUk8"
      },
      "source": [
        "\n",
        "\n",
        "---\n",
        "\n"
      ]
    },
    {
      "cell_type": "markdown",
      "metadata": {
        "id": "Q2LMNaeeoHYz"
      },
      "source": [
        "# EP 3 - Implementações e discussões"
      ]
    },
    {
      "cell_type": "markdown",
      "metadata": {
        "id": "mQm-WNAZo24g"
      },
      "source": [
        "De modo a ter mais liberdade para mexer no encoder e no decoder, optei por experimentar utilizando modelos de tradução. Para isto, tomei como principal referência o tutorial do pytorch: https://pytorch.org/tutorials/intermediate/seq2seq_translation_tutorial.html que já havia sido recomendado como uma referência na elaboração do EP. Além disso, como o próprio site recomenda, utilizei o site https://www.manythings.org/anki/ para baixar o dataset de tradução já tratado. Neste site estão dispostas várias traduções para inglês. Aqui estaremos usando o dataset de tradução português <-> inglês. Utilizei duas tentativas: usando o mesmo método descrito já anteriormente, mas com algumas adaptações por serem palavras e o método descrito pelo tutorial do pytorch. Dentro de ambos os métodos, brinquei com alguns detalhes extras para tentar entender melhor como cada um funciona."
      ]
    },
    {
      "cell_type": "markdown",
      "metadata": {
        "id": "NMa65vueq_Nl"
      },
      "source": [
        "## Adaptando o modelo do EP:"
      ]
    },
    {
      "cell_type": "code",
      "execution_count": null,
      "metadata": {
        "colab": {
          "base_uri": "https://localhost:8080/"
        },
        "id": "y7YbTKwzANXk",
        "outputId": "b906f824-e07d-4442-e006-3b0666cf8633"
      },
      "outputs": [
        {
          "output_type": "stream",
          "name": "stdout",
          "text": [
            "device=cuda\n"
          ]
        }
      ],
      "source": [
        "import random\n",
        "import re\n",
        "import time\n",
        "import numpy as np\n",
        "import torch\n",
        "import torch.nn as nn\n",
        "from torch import optim\n",
        "import torch.nn.functional as F\n",
        "from torch.utils.data import TensorDataset, DataLoader, RandomSampler\n",
        "\n",
        "import matplotlib.pyplot as plt\n",
        "import matplotlib.ticker as ticker\n",
        "import gdown\n",
        "\n",
        "plt.switch_backend('agg')\n",
        "%matplotlib inline\n",
        "\n",
        "# Device setup\n",
        "device = torch.device(\"cuda\" if torch.cuda.is_available() else \"cpu\")\n",
        "print(f'device={device}')"
      ]
    },
    {
      "cell_type": "markdown",
      "metadata": {
        "id": "LeH3XbUPhQ4a"
      },
      "source": [
        "Tipo do dataset:\n",
        "![image.png](data:image/png;base64,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)"
      ]
    },
    {
      "cell_type": "code",
      "execution_count": null,
      "metadata": {
        "colab": {
          "base_uri": "https://localhost:8080/"
        },
        "id": "3MVL7sL4Abw4",
        "outputId": "9df99eb9-ea55-4996-f9fc-760faf32d137"
      },
      "outputs": [
        {
          "output_type": "stream",
          "name": "stderr",
          "text": [
            "Downloading...\n",
            "From: https://drive.google.com/uc?id=1Dt96VaplAImAPwJP1-FjHZQiP-0Tcvi1\n",
            "To: /content/por.txt\n",
            "100%|██████████| 28.3M/28.3M [00:00<00:00, 93.7MB/s]\n"
          ]
        },
        {
          "output_type": "stream",
          "name": "stdout",
          "text": [
            "\n",
            "Read 193633 samples from por.txt\n",
            "\n",
            "['The further we are from one disaster, the closer we are to the next.', 'Quanto mais longe estamos de um desastre, mais perto estamos do próximo.']\n",
            "[\"I'm not going to ask again.\", 'Eu não vou pedir novamente.']\n",
            "['What am I to do?', 'O que eu devo fazer?']\n",
            "['What did Tom think?', 'O que Tom achou?']\n",
            "['Tom planted some flower seeds in his garden.', 'Tom plantou algumas sementes de flores em seu jardim.']\n",
            "['Nobody is here.', 'Não há ninguém aqui.']\n",
            "[\"I'm not doing this for you.\", 'Não estou fazendo isso por você.']\n",
            "[\"That's something I can't control.\", 'Isso é algo que não posso controlar.']\n",
            "['You should be brief.', 'Você deveria ser breve.']\n",
            "['Where are the sandwiches?', 'Cadê os sanduíches?']\n",
            "['Deposit your money in the bank.', 'Deposite o seu dinheiro no banco.']\n",
            "['Please remain standing.', 'Por favor, permaneçam de pé.']\n",
            "['Get a ticket for me.', 'Pega um ingresso para mim.']\n",
            "['No one saw anything.', 'Ninguém viu nada.']\n",
            "[\"Tom said that he thought he'd be able to do that on Monday.\", 'O Tom disse que achava que poderia fazer isso na segunda.']\n"
          ]
        }
      ],
      "source": [
        "def readDataset(reverse=False): #Utilizando um link online para realizar puxar o dataset\n",
        "  url = 'https://drive.google.com/uc?id=1Dt96VaplAImAPwJP1-FjHZQiP-0Tcvi1'\n",
        "  file = 'por.txt'\n",
        "  gdown.download(url, file, quiet=False)\n",
        "  lines = open(file, encoding='utf-8').read().strip().split('\\n') #abrindo cada linha\n",
        "  pairs = [[s for s in l.split('\\t')[:2]] for l in lines] #tomando apenas os dois primeiros itens que se trata da real informação\n",
        "  print()\n",
        "  print(f'Read {len(pairs)} samples from {file}')\n",
        "  print()\n",
        "  print(\"\\n\".join(map(str, random.sample(pairs, 15))))\n",
        "  return  pairs\n",
        "\n",
        "pairs = readDataset()"
      ]
    },
    {
      "cell_type": "markdown",
      "metadata": {
        "id": "AwHOcg_AO3xm"
      },
      "source": [
        "Para facilitar o treinamento sem cair o kernel, vamos tomar uma restrição da amostra:"
      ]
    },
    {
      "cell_type": "code",
      "execution_count": null,
      "metadata": {
        "colab": {
          "base_uri": "https://localhost:8080/"
        },
        "id": "QIlMEK5IR6pU",
        "outputId": "5ec033c7-0e75-486a-d085-f83d49386151"
      },
      "outputs": [
        {
          "output_type": "stream",
          "name": "stdout",
          "text": [
            "Digite o tamanho da amostra: 10000\n",
            "Amostra de tamanho 10000 criada\n"
          ]
        }
      ],
      "source": [
        "sample_size = int(input(\"Digite o tamanho da amostra: \"))\n",
        "print(f\"Amostra de tamanho {sample_size} criada\")\n",
        "sampled_pairs = random.sample(pairs, sample_size)"
      ]
    },
    {
      "cell_type": "markdown",
      "metadata": {
        "id": "FHTIUjyHSSmM"
      },
      "source": [
        "Agora, iremos separar cada par na palavra de input (inglês) e output (português) e incluir os tokens de SOS - Start of Sentence, EOS - End of Sentence e um token para os espaços entre as palavras. Faço isso pois, nas primeiras vezes que rodei o código, os outputs apresentavam resultado sem nenhum espaço entre as palavras. Adicionar o token de espaço ajudou muito neste problema. Além disso, adicionamos o modo \"reverse\" para caso queiramos treinar a tradução de português para inglês."
      ]
    },
    {
      "cell_type": "code",
      "execution_count": null,
      "metadata": {
        "colab": {
          "base_uri": "https://localhost:8080/"
        },
        "id": "5ZHQGEg0NLVq",
        "outputId": "432e4776-fec0-4444-debf-528a7ccd7c6e"
      },
      "outputs": [
        {
          "output_type": "stream",
          "name": "stdout",
          "text": [
            "Number of input words: 4577\n",
            "Number of output words: 6421\n"
          ]
        }
      ],
      "source": [
        "SOS_token = 0\n",
        "EOS_token = 1\n",
        "space_token = 2\n",
        "\n",
        "\n",
        "def prepareData(pairs):\n",
        "  input_dict  = {\"SOS\": SOS_token, \"EOS\": EOS_token, \" \": space_token}\n",
        "  output_dict = {\"SOS\": SOS_token, \"EOS\": EOS_token, \" \": space_token}\n",
        "\n",
        "  input_dict_reverse  = {SOS_token: \"SOS\", EOS_token: \"EOS\", \" \": space_token}\n",
        "  output_dict_reverse = {SOS_token: \"SOS\", EOS_token: \"EOS\", \" \": space_token}\n",
        "\n",
        "  for pair in pairs:\n",
        "    ipt, tgt = pair\n",
        "\n",
        "    mask = '([^a-zA-Z0-9])' #para tirar todos os inputs que não sejam letras ou números e separar acentos\n",
        "    result = [token for token in re.split(mask, ipt) if token.strip()]\n",
        "    for word_input in result:\n",
        "      if word_input not in input_dict:\n",
        "        next_int = max(input_dict.values()) + 1\n",
        "        input_dict[word_input] = next_int\n",
        "        input_dict_reverse[next_int] = word_input\n",
        "\n",
        "    for word_output in re.split(mask, tgt):\n",
        "      if word_output not in output_dict:\n",
        "        next_int = max(output_dict.values()) + 1\n",
        "        output_dict[word_output] = next_int\n",
        "        output_dict_reverse[word_output] = word_output\n",
        "\n",
        "  print(f'Number of input words: {len(input_dict.keys())}')\n",
        "  print(f'Number of output words: {len(output_dict.keys())}')\n",
        "\n",
        "  return input_dict, output_dict, input_dict_reverse, output_dict_reverse\n",
        "\n",
        "input_dict, output_dict, input_dict_reverse, output_dict_reverse = prepareData(sampled_pairs)"
      ]
    },
    {
      "cell_type": "markdown",
      "metadata": {
        "id": "NR1aa7fkT_6A"
      },
      "source": [
        "Estamos primeiro utilizando o indexes from sentences para fazer o embeding das palavras. Neste caso, veja que cada palavra recebe um número associado na lista, seguindo a ordem do dicionário a que está atribuída. Por tal motivo que os espaços são numerados por 2. Neste caso, estamos fazendo como um OneHotEmbedding, separando as palavras em tokens menores (como o There's vira There + ' + s e enumerando a cada um em uma lista)"
      ]
    },
    {
      "cell_type": "code",
      "execution_count": null,
      "metadata": {
        "colab": {
          "base_uri": "https://localhost:8080/"
        },
        "id": "2imLcAJlNaTx",
        "outputId": "c55c75da-353f-4e4f-9c1e-32b1e528de82"
      },
      "outputs": [
        {
          "output_type": "stream",
          "name": "stdout",
          "text": [
            "'There's nothing left to worry about.' => [377, 21, 126, 2, 290, 2, 130, 2, 51, 2, 135, 2, 63, 9]\n",
            "'Eu acredito que você gosta do seu trabalho' => [21, 2, 1715, 2, 23, 2, 74, 75, 2, 77, 2, 138, 2, 333, 2, 1019]\n"
          ]
        }
      ],
      "source": [
        "def indexesFromSentence(language_dict, sentence, verbose=False):\n",
        "  '''\n",
        "    Função utilitária para converter uma sentença em índices\n",
        "  '''\n",
        "  encoded = []\n",
        "  for word in re.split('([^a-zA-Z0-9])', sentence):\n",
        "    if word.strip():\n",
        "      encoded.append(language_dict.get(word, language_dict[' ']))\n",
        "    elif word == ' ':\n",
        "      encoded.append(language_dict[' '])\n",
        "  if verbose:\n",
        "    print(f\"'{sentence}' => {encoded}\")\n",
        "  return encoded\n",
        "\n",
        "indexesFromSentence(input_dict, \"There's nothing left to worry about.\", verbose=True);\n",
        "indexesFromSentence(output_dict, 'Eu acredito que você gosta do seu trabalho', verbose=True);"
      ]
    },
    {
      "cell_type": "code",
      "execution_count": null,
      "metadata": {
        "colab": {
          "base_uri": "https://localhost:8080/"
        },
        "id": "09Mq_fMKUn9T",
        "outputId": "aa9ad1ff-9556-4c46-8304-dc614d413708"
      },
      "outputs": [
        {
          "output_type": "stream",
          "name": "stdout",
          "text": [
            "There\n",
            "'\n",
            "s\n",
            "There's\n"
          ]
        }
      ],
      "source": [
        "print(input_dict_reverse[377])\n",
        "print(input_dict_reverse[21])\n",
        "print(input_dict_reverse[126])\n",
        "print(input_dict_reverse[377]+input_dict_reverse[21]+input_dict_reverse[126])"
      ]
    },
    {
      "cell_type": "markdown",
      "metadata": {
        "id": "f6X7F9mgUwfF"
      },
      "source": [
        "Agora, com o TensorFromSentence vamos adicionar o token de SOS e EOS, transformando-os também em tensores para abastecer o DataLoader"
      ]
    },
    {
      "cell_type": "code",
      "execution_count": null,
      "metadata": {
        "colab": {
          "base_uri": "https://localhost:8080/"
        },
        "id": "uzMI-G4jOD_j",
        "outputId": "2219ea30-a214-4b63-d218-bf1326ce0d79"
      },
      "outputs": [
        {
          "output_type": "stream",
          "name": "stdout",
          "text": [
            "Input: It hurts here.\n",
            "Output: Dói-me aqui.\n"
          ]
        },
        {
          "output_type": "execute_result",
          "data": {
            "text/plain": [
              "(tensor([[   0,  211,    2, 4004,    2,   32,    9,    1]], device='cuda:0'),\n",
              " tensor([[   0,  516,   52, 4211,  132,  133,    2,   62,   11,    1]],\n",
              "        device='cuda:0'))"
            ]
          },
          "metadata": {},
          "execution_count": 7
        }
      ],
      "source": [
        "# Funções utilitárias\n",
        "def tensorFromSentence(language_dict, sentence):\n",
        "  indexes = indexesFromSentence(language_dict, sentence)\n",
        "  indexes.insert(0, SOS_token)\n",
        "  indexes.append(EOS_token)\n",
        "  return torch.tensor(indexes, dtype=torch.long, device=device).view(1, -1)\n",
        "\n",
        "def tensorsFromPair(pair):\n",
        "    input_tensor = tensorFromSentence(input_dict, pair[0])\n",
        "    target_tensor = tensorFromSentence(output_dict, pair[1])\n",
        "    return (input_tensor, target_tensor)\n",
        "\n",
        "sample = random.sample(sampled_pairs, 1)\n",
        "ipt, out = sample[0]\n",
        "print(f'Input: {ipt}')\n",
        "print(f'Output: {out}')\n",
        "tensorsFromPair([ipt,out])"
      ]
    },
    {
      "cell_type": "markdown",
      "metadata": {
        "id": "yQbJ9HOFym7a"
      },
      "source": [
        "##### Testando com MAX_LENGTH = 18"
      ]
    },
    {
      "cell_type": "code",
      "execution_count": null,
      "metadata": {
        "id": "qOzvZTgPqav6"
      },
      "outputs": [],
      "source": [
        "MAX_LENGTH = 18 #definindo um Max_length - qual a influência dele aqui? Entendo que seja o tamanho da frase, mas o quão irá influenciar no treinamento?"
      ]
    },
    {
      "cell_type": "code",
      "execution_count": null,
      "metadata": {
        "id": "uXvjt79XOHKK"
      },
      "outputs": [],
      "source": [
        "def get_dataloader(batch_size, pairs, input_dict, output_dict):\n",
        "  n = len(pairs)\n",
        "  input_ids = np.zeros((n, MAX_LENGTH), dtype=np.int32)\n",
        "  target_ids = np.zeros((n, MAX_LENGTH), dtype=np.int32)\n",
        "\n",
        "  for idx, (inp, tgt) in enumerate(pairs):\n",
        "    inp_ids = indexesFromSentence(input_dict, inp)\n",
        "    tgt_ids = indexesFromSentence(output_dict, tgt)\n",
        "    inp_ids.append(EOS_token)\n",
        "    tgt_ids.append(EOS_token)\n",
        "    input_ids[idx, :min(len(inp_ids), MAX_LENGTH)] = inp_ids[:MAX_LENGTH]\n",
        "    target_ids[idx, :min(len(tgt_ids), MAX_LENGTH)] = tgt_ids[:MAX_LENGTH]\n",
        "\n",
        "  train_data = TensorDataset(torch.LongTensor(input_ids).to(device), torch.LongTensor(target_ids).to(device))\n",
        "\n",
        "  train_sampler = RandomSampler(train_data)\n",
        "  train_dataloader = DataLoader(train_data, sampler=train_sampler, batch_size=batch_size)\n",
        "  return train_dataloader"
      ]
    },
    {
      "cell_type": "code",
      "execution_count": null,
      "metadata": {
        "id": "0o0wiTytOzHR"
      },
      "outputs": [],
      "source": [
        "class EncoderRNN(nn.Module):\n",
        "  def __init__(self, input_size, hidden_size, dropout_p=0.1):\n",
        "    \"\"\"\n",
        "    Initializes the encoding layer (Encoder) of an RNN.\n",
        "\n",
        "    Parameters:\n",
        "    - input_size: The number of expected features in the input x\n",
        "    - hidden_size: The number of features in the hidden state h\n",
        "    - dropout_p: If non-zero, introduces a Dropout layer on the outputs of each GRU layer except the last layer\n",
        "    \"\"\"\n",
        "    super(EncoderRNN, self).__init__()\n",
        "    self.hidden_size = hidden_size\n",
        "\n",
        "    # Embedding layer that transforms word indices into dense vectors of size 'hidden_size'.\n",
        "    self.embedding = nn.Embedding(input_size, hidden_size)\n",
        "\n",
        "    # Defines the GRU (Gated Recurrent Unit) with both input and output dimensions of 'hidden_size'.\n",
        "    # 'batch_first=True' indicates that the first input dimension is the batch (batch_size, seq_len, hidden_size).\n",
        "    self.gru = nn.GRU(hidden_size, hidden_size, batch_first=True)\n",
        "\n",
        "    # Dropout applied after the embedding layer to prevent overfitting.\n",
        "    self.dropout = nn.Dropout(dropout_p)\n",
        "\n",
        "  def forward(self, input):\n",
        "    \"\"\"\n",
        "    Defines the forward pass of the model.\n",
        "\n",
        "    Parameter:\n",
        "    - input: Sequence of word indices of size (batch_size, seq_len).\n",
        "\n",
        "    Returns:\n",
        "    - output: GRU outputs for each step in the sequence (batch_size, seq_len, hidden_size).\n",
        "    - hidden: The last hidden state vector of the GRU (1, batch_size, hidden_size).\n",
        "        \"\"\"\n",
        "    embedded = self.dropout(self.embedding(input))\n",
        "    output, hidden = self.gru(embedded)\n",
        "    return output, hidden"
      ]
    },
    {
      "cell_type": "code",
      "execution_count": null,
      "metadata": {
        "id": "5PkAR0J5O29i"
      },
      "outputs": [],
      "source": [
        "class DecoderRNN(nn.Module):\n",
        "  def __init__(self, hidden_size, output_size):\n",
        "    \"\"\"\n",
        "    Initializes the decoding layer (Decoder) of an RNN.\n",
        "\n",
        "    Parameters:\n",
        "    - hidden_size: The size of the hidden state vector.\n",
        "    - output_size: The size of the output vocabulary (number of unique words in the target language).\n",
        "    \"\"\"\n",
        "    super(DecoderRNN, self).__init__()\n",
        "\n",
        "    # Embedding layer that transforms word indices into dense vectors of size 'hidden_size'.\n",
        "    self.embedding = nn.Embedding(output_size, hidden_size)\n",
        "\n",
        "    # Defines a GRU layer that processes input sequences. Both input and output dimensions are 'hidden_size'.\n",
        "    self.gru = nn.GRU(hidden_size, hidden_size, batch_first=True)\n",
        "\n",
        "    # Linear layer that maps the hidden state of the GRU to the output vocabulary space.\n",
        "    self.out = nn.Linear(hidden_size, output_size)\n",
        "\n",
        "  def forward(self, encoder_outputs, encoder_hidden, target_tensor):\n",
        "    \"\"\"\n",
        "    Defines the forward pass for the decoder.\n",
        "\n",
        "    Parameters:\n",
        "    - encoder_outputs: The output sequence from the encoder (batch_size, seq_len, hidden_size).\n",
        "    - encoder_hidden: The last hidden state of the encoder (1, batch_size, hidden_size).\n",
        "    - target_tensor: The target sequence for teacher forcing (optional).\n",
        "\n",
        "    Returns:\n",
        "    - decoder_outputs: The output probabilities (log-softmax) for each time step (batch_size, seq_len, output_size).\n",
        "    - decoder_hidden: The final hidden state of the decoder (1, batch_size, hidden_size).\n",
        "    - None: Placeholder for consistency with other methods (e.g., attention).\n",
        "    \"\"\"\n",
        "    batch_size = encoder_outputs.size(0)\n",
        "\n",
        "    # Initial decoder input is the <SOS> token for every sequence in the batch.\n",
        "    decoder_input = torch.empty(batch_size, 1, dtype=torch.long, device=device).fill_(SOS_token)\n",
        "    decoder_hidden = encoder_hidden\n",
        "    decoder_outputs = []\n",
        "\n",
        "    # Loop through each time step\n",
        "    for i in range(MAX_LENGTH):\n",
        "      # Call the forward_step function to get output and hidden state for the current time step.\n",
        "      decoder_output, decoder_hidden  = self.forward_step(decoder_input, decoder_hidden)\n",
        "      decoder_outputs.append(decoder_output)\n",
        "\n",
        "      if target_tensor is not None:\n",
        "        # Teacher forcing: Use the target token as the next input to the decoder.\n",
        "        decoder_input = target_tensor[:, i].unsqueeze(1)\n",
        "      else:\n",
        "        # Without teacher forcing: use its own predictions as the next input\n",
        "        _, topi = decoder_output.topk(1)\n",
        "        decoder_input = topi.squeeze(-1).detach()\n",
        "\n",
        "    # Concatenate all the decoder outputs along the time step dimension.\n",
        "    decoder_outputs = torch.cat(decoder_outputs, dim=1)\n",
        "\n",
        "    # Apply log softmax to the outputs to get log-probabilities.\n",
        "    decoder_outputs = F.log_softmax(decoder_outputs, dim=-1)\n",
        "\n",
        "    # Return the outputs, final hidden state, and `None` (for consistency with attention models implemented next).\n",
        "    return decoder_outputs, decoder_hidden, None\n",
        "\n",
        "  def forward_step(self, input, hidden):\n",
        "    \"\"\"\n",
        "    Processes a single step in the decoding sequence.\n",
        "\n",
        "    Parameters:\n",
        "    - input: The current input to the decoder (batch_size, 1).\n",
        "    - hidden: The current hidden state of the decoder (1, batch_size, hidden_size).\n",
        "\n",
        "    Returns:\n",
        "    - output: The predicted output (batch_size, 1, output_size).\n",
        "    - hidden: The updated hidden state (1, batch_size, hidden_size).\n",
        "    \"\"\"\n",
        "    output = self.embedding(input)\n",
        "    output = F.relu(output)\n",
        "    output, hidden = self.gru(output, hidden)\n",
        "    output = self.out(output)\n",
        "    return output, hidden"
      ]
    },
    {
      "cell_type": "code",
      "execution_count": null,
      "metadata": {
        "id": "Npzm35dHO6vC"
      },
      "outputs": [],
      "source": [
        "def train_epoch(dataloader, encoder, decoder, encoder_optimizer, decoder_optimizer, criterion):\n",
        "  \"\"\"\n",
        "  Train the encoder and decoder for one epoch.\n",
        "\n",
        "  Parameters:\n",
        "  - dataloader: Iterable that provides batches of input and target tensors.\n",
        "  - encoder: The encoder model.\n",
        "  - decoder: The decoder model.\n",
        "  - encoder_optimizer: Optimizer for updating the encoder's parameters.\n",
        "  - decoder_optimizer: Optimizer for updating the decoder's parameters.\n",
        "  - criterion: Loss function to measure the difference between the predicted and target outputs.\n",
        "\n",
        "  Returns:\n",
        "  - The average loss over the epoch.\n",
        "  \"\"\"\n",
        "  total_loss = 0\n",
        "  for data in dataloader:\n",
        "    input_tensor, target_tensor = data\n",
        "\n",
        "    encoder_optimizer.zero_grad()\n",
        "    decoder_optimizer.zero_grad()\n",
        "\n",
        "    encoder_outputs, encoder_hidden = encoder(input_tensor)\n",
        "    decoder_outputs, _, _ = decoder(encoder_outputs, encoder_hidden, target_tensor=None)\n",
        "\n",
        "    loss = criterion(\n",
        "        decoder_outputs.view(-1, decoder_outputs.size(-1)),\n",
        "        target_tensor.view(-1)\n",
        "    )\n",
        "    loss.backward()\n",
        "\n",
        "    encoder_optimizer.step()\n",
        "    decoder_optimizer.step()\n",
        "\n",
        "    total_loss += loss.item()\n",
        "\n",
        "  return total_loss / len(dataloader)"
      ]
    },
    {
      "cell_type": "code",
      "execution_count": null,
      "metadata": {
        "id": "qplhuA7mO_Ja"
      },
      "outputs": [],
      "source": [
        "def train(train_dataloader, encoder, decoder, n_epochs, learning_rate=0.001):\n",
        "  loss_points = []\n",
        "\n",
        "  plot_losses = []\n",
        "  print_loss_total = 0  # Reset every print_every\n",
        "  plot_loss_total = 0  # Reset every plot_every\n",
        "\n",
        "  encoder_optimizer = optim.Adam(encoder.parameters(), lr=learning_rate)\n",
        "  decoder_optimizer = optim.Adam(decoder.parameters(), lr=learning_rate)\n",
        "  criterion = nn.NLLLoss()\n",
        "\n",
        "  for epoch in range(1, n_epochs + 1):\n",
        "    loss = train_epoch(train_dataloader, encoder, decoder, encoder_optimizer, decoder_optimizer, criterion)\n",
        "    loss_points.append(loss)\n",
        "\n",
        "    if epoch % 10 == 0:\n",
        "      print(f'Epoch: {epoch:4}/{n_epochs:4} - Loss: {loss:.4f}')\n",
        "\n",
        "\n",
        "  return loss_points\n"
      ]
    },
    {
      "cell_type": "code",
      "execution_count": null,
      "metadata": {
        "colab": {
          "base_uri": "https://localhost:8080/"
        },
        "id": "fe2_JL3iPB-r",
        "outputId": "3c7e5b9d-c04f-4998-b2d0-bae6498b5960"
      },
      "outputs": [
        {
          "name": "stdout",
          "output_type": "stream",
          "text": [
            "Epoch:   10/ 300 - Loss: 3.2391\n",
            "Epoch:   20/ 300 - Loss: 3.0694\n",
            "Epoch:   30/ 300 - Loss: 2.9610\n",
            "Epoch:   40/ 300 - Loss: 2.8528\n",
            "Epoch:   50/ 300 - Loss: 2.7015\n",
            "Epoch:   60/ 300 - Loss: 2.5136\n",
            "Epoch:   70/ 300 - Loss: 2.3999\n",
            "Epoch:   80/ 300 - Loss: 2.3074\n",
            "Epoch:   90/ 300 - Loss: 2.2233\n",
            "Epoch:  100/ 300 - Loss: 2.1413\n",
            "Epoch:  110/ 300 - Loss: 2.0741\n",
            "Epoch:  120/ 300 - Loss: 2.0055\n",
            "Epoch:  130/ 300 - Loss: 1.9429\n",
            "Epoch:  140/ 300 - Loss: 1.8883\n",
            "Epoch:  150/ 300 - Loss: 1.8334\n",
            "Epoch:  160/ 300 - Loss: 1.7802\n",
            "Epoch:  170/ 300 - Loss: 1.7250\n",
            "Epoch:  180/ 300 - Loss: 1.6836\n",
            "Epoch:  190/ 300 - Loss: 1.6307\n",
            "Epoch:  200/ 300 - Loss: 1.5873\n",
            "Epoch:  210/ 300 - Loss: 1.5509\n",
            "Epoch:  220/ 300 - Loss: 1.5021\n",
            "Epoch:  230/ 300 - Loss: 1.4590\n",
            "Epoch:  240/ 300 - Loss: 1.4264\n",
            "Epoch:  250/ 300 - Loss: 1.3927\n",
            "Epoch:  260/ 300 - Loss: 1.3541\n",
            "Epoch:  270/ 300 - Loss: 1.3226\n",
            "Epoch:  280/ 300 - Loss: 1.2937\n",
            "Epoch:  290/ 300 - Loss: 1.2553\n",
            "Epoch:  300/ 300 - Loss: 1.2412\n"
          ]
        }
      ],
      "source": [
        "hidden_size = 128\n",
        "batch_size = 1024\n",
        "\n",
        "train_dataloader = get_dataloader(batch_size, sampled_pairs, input_dict, output_dict)\n",
        "\n",
        "encoder = EncoderRNN(\n",
        "  input_size = len(input_dict.keys()),\n",
        "  hidden_size = hidden_size\n",
        ").to(device)\n",
        "\n",
        "decoder = DecoderRNN(\n",
        "  hidden_size = hidden_size,\n",
        "  output_size = len(output_dict.keys())\n",
        ").to(device)\n",
        "\n",
        "\n",
        "loss_points = train(train_dataloader, encoder, decoder, 300, learning_rate=0.001)\n"
      ]
    },
    {
      "cell_type": "code",
      "execution_count": null,
      "metadata": {
        "colab": {
          "base_uri": "https://localhost:8080/",
          "height": 472
        },
        "id": "V48Y7l243pBY",
        "outputId": "429404cd-e716-442e-98ef-5873d1c9affa"
      },
      "outputs": [
        {
          "data": {
            "image/png": "[encoded data removed]",
            "text/plain": [
              "<Figure size 640x480 with 1 Axes>"
            ]
          },
          "metadata": {},
          "output_type": "display_data"
        }
      ],
      "source": [
        "def plot_train_loss(loss_points):\n",
        "  plt.plot(loss_points);\n",
        "  plt.title('Training Loss')\n",
        "  plt.xlabel('Epochs')\n",
        "  plt.ylabel('Loss')\n",
        "plot_train_loss(loss_points);"
      ]
    },
    {
      "cell_type": "code",
      "execution_count": null,
      "metadata": {
        "id": "01B5ib1B31IS"
      },
      "outputs": [],
      "source": [
        "def evaluate(encoder, decoder, sentence):\n",
        "  encoder.eval()\n",
        "  decoder.eval()\n",
        "  with torch.no_grad():\n",
        "    input_tensor = tensorFromSentence(input_dict, sentence)\n",
        "\n",
        "    encoder_outputs, encoder_hidden = encoder(input_tensor)\n",
        "    decoder_outputs, decoder_hidden, decoder_attn = decoder(encoder_outputs, encoder_hidden, target_tensor=None)\n",
        "\n",
        "    _, topi = decoder_outputs.topk(1)\n",
        "    decoded_ids = topi.squeeze()\n",
        "\n",
        "    decoded_words = []\n",
        "    for idx in decoded_ids:\n",
        "        # Obter a palavra correspondente ao índice\n",
        "        # (assumindo que output_dict contém {palavra: índice})\n",
        "\n",
        "        # Se seu output_dict_reverse for {index: palavra}:\n",
        "        # word = output_dict_reverse.get(idx.item(), \"<UNK>\")\n",
        "\n",
        "        # Se seu output_dict_reverse for {palavra: index} e você tiver o output_dict:\n",
        "        word = next((word for word, index in output_dict.items() if index == idx.item()), \"<UNK>\")\n",
        "\n",
        "\n",
        "        # Verificar se a palavra está no output_dict_reverse\n",
        "        # (assumindo que output_dict_reverse contém {palavra: índice_reverso})\n",
        "        # Esse if é apenas para segurança adicional, mas na realidade\n",
        "        # se a palavra estiver no output_dict, deverá ter uma entrada correspondente\n",
        "        # no output_dict_reverse. Se isso não estiver ocorrendo o problema esta na\n",
        "        # criação do output_dict_reverse\n",
        "        if word in output_dict_reverse:\n",
        "            decoded_words.append(word)\n",
        "        else:\n",
        "            print(f\"Palavra não encontrada em output_dict_reverse: {word}\")\n",
        "            decoded_words.append(\"<UNK>\")\n",
        "\n",
        "        if idx.item() == EOS_token:\n",
        "            break\n",
        "    return decoded_words, decoder_attn"
      ]
    },
    {
      "cell_type": "code",
      "execution_count": null,
      "metadata": {
        "id": "128zljrB4MKb"
      },
      "outputs": [],
      "source": [
        "def evaluateRandomly(encoder, decoder, n=5):\n",
        "  for i in range(n):\n",
        "    pair = random.choice(sampled_pairs)\n",
        "    print(f'Input: {pair[0]}')\n",
        "    print(f'Ground truth: {pair[1]}')\n",
        "    output_words, _ = evaluate(encoder, decoder, pair[0])\n",
        "    output_sentence = ''.join(output_words)\n",
        "    print(f'Predicted: {output_sentence}')\n",
        "    print('')"
      ]
    },
    {
      "cell_type": "code",
      "execution_count": null,
      "metadata": {
        "colab": {
          "base_uri": "https://localhost:8080/"
        },
        "id": "-Om3LFZN4YmL",
        "outputId": "5d202b5f-cc52-4127-ad44-abec59b1f2cd"
      },
      "outputs": [
        {
          "name": "stdout",
          "output_type": "stream",
          "text": [
            "Input: You haven't eaten anything.\n",
            "Ground truth: Você não comeu nada.\n",
            "Palavra não encontrada em output_dict_reverse: EOS\n",
            "Predicted: Você    o o     <UNK>\n",
            "\n",
            "Input: I didn't think that I'd be lonely.\n",
            "Ground truth: Eu não pensei que ficaria sozinha.\n",
            "Palavra não encontrada em output_dict_reverse: EOS\n",
            "Predicted: Eu o n o que o <UNK>\n",
            "\n",
            "Input: Did you buy some potatoes?\n",
            "Ground truth: Você comprou batatas?\n",
            "Palavra não encontrada em output_dict_reverse: EOS\n",
            "Predicted: Por que      ??<UNK>\n",
            "\n",
            "Input: You can't say no.\n",
            "Ground truth: Você não pode dizer não.\n",
            "Predicted: Você    não         \n",
            "\n",
            "Input: They went to Australia, didn't they?\n",
            "Ground truth: Elas foram para a Austrália, não foram?\n",
            "Predicted: Eles não estavam amanh    não o\n",
            "\n"
          ]
        }
      ],
      "source": [
        "evaluateRandomly(encoder, decoder)"
      ]
    },
    {
      "cell_type": "markdown",
      "metadata": {
        "id": "D_mYJYyUyvrc"
      },
      "source": [
        "##### Testando com MAX_LENGTH = 70"
      ]
    },
    {
      "cell_type": "code",
      "execution_count": null,
      "metadata": {
        "id": "t-2I4sZkxRrr"
      },
      "outputs": [],
      "source": [
        "MAX_LENGTH = 70 #definindo um Max_length - qual a influência dele aqui? Entendo que seja o tamanho da frase, mas o quão irá influenciar no treinamento?"
      ]
    },
    {
      "cell_type": "code",
      "execution_count": null,
      "metadata": {
        "colab": {
          "base_uri": "https://localhost:8080/"
        },
        "id": "ovEFNtPxxab6",
        "outputId": "e54b9545-195c-4dc3-8102-2c2077601866"
      },
      "outputs": [
        {
          "name": "stdout",
          "output_type": "stream",
          "text": [
            "Epoch:   10/ 300 - Loss: 3.2933\n",
            "Epoch:   20/ 300 - Loss: 3.0909\n",
            "Epoch:   30/ 300 - Loss: 2.9595\n",
            "Epoch:   40/ 300 - Loss: 2.8385\n",
            "Epoch:   50/ 300 - Loss: 2.7127\n",
            "Epoch:   60/ 300 - Loss: 2.4774\n",
            "Epoch:   70/ 300 - Loss: 2.3523\n",
            "Epoch:   80/ 300 - Loss: 2.2495\n",
            "Epoch:   90/ 300 - Loss: 2.1575\n",
            "Epoch:  100/ 300 - Loss: 2.0821\n",
            "Epoch:  110/ 300 - Loss: 2.0144\n",
            "Epoch:  120/ 300 - Loss: 1.9441\n",
            "Epoch:  130/ 300 - Loss: 1.8868\n",
            "Epoch:  140/ 300 - Loss: 1.8313\n",
            "Epoch:  150/ 300 - Loss: 1.7751\n",
            "Epoch:  160/ 300 - Loss: 1.7190\n",
            "Epoch:  170/ 300 - Loss: 1.6728\n",
            "Epoch:  180/ 300 - Loss: 1.6118\n",
            "Epoch:  190/ 300 - Loss: 1.5707\n",
            "Epoch:  200/ 300 - Loss: 1.5204\n",
            "Epoch:  210/ 300 - Loss: 1.4817\n",
            "Epoch:  220/ 300 - Loss: 1.4412\n",
            "Epoch:  230/ 300 - Loss: 1.3987\n",
            "Epoch:  240/ 300 - Loss: 1.3633\n",
            "Epoch:  250/ 300 - Loss: 1.3298\n",
            "Epoch:  260/ 300 - Loss: 1.2908\n",
            "Epoch:  270/ 300 - Loss: 1.2550\n",
            "Epoch:  280/ 300 - Loss: 1.2270\n",
            "Epoch:  290/ 300 - Loss: 1.1903\n",
            "Epoch:  300/ 300 - Loss: 1.1641\n"
          ]
        }
      ],
      "source": [
        "hidden_size = 128\n",
        "batch_size = 1024\n",
        "\n",
        "train_dataloader = get_dataloader(batch_size, sampled_pairs, input_dict, output_dict)\n",
        "\n",
        "encoder = EncoderRNN(\n",
        "  input_size = len(input_dict.keys()),\n",
        "  hidden_size = hidden_size\n",
        ").to(device)\n",
        "\n",
        "decoder = DecoderRNN(\n",
        "  hidden_size = hidden_size,\n",
        "  output_size = len(output_dict.keys())\n",
        ").to(device)\n",
        "\n",
        "\n",
        "loss_points = train(train_dataloader, encoder, decoder, 300, learning_rate=0.001)"
      ]
    },
    {
      "cell_type": "code",
      "execution_count": null,
      "metadata": {
        "colab": {
          "base_uri": "https://localhost:8080/",
          "height": 472
        },
        "id": "j97oqiT9zUT1",
        "outputId": "d5443c62-69b3-4ee9-e8aa-1abc61d30cf7"
      },
      "outputs": [
        {
          "data": {
            "image/png": "[encoded data removed]",
            "text/plain": [
              "<Figure size 640x480 with 1 Axes>"
            ]
          },
          "metadata": {},
          "output_type": "display_data"
        }
      ],
      "source": [
        "plot_train_loss(loss_points)"
      ]
    },
    {
      "cell_type": "code",
      "execution_count": null,
      "metadata": {
        "colab": {
          "base_uri": "https://localhost:8080/"
        },
        "id": "S4mwyYHxzTSO",
        "outputId": "fd900d0a-fc1e-4034-a512-5433aa85de85"
      },
      "outputs": [
        {
          "name": "stdout",
          "output_type": "stream",
          "text": [
            "Input: I miss the army.\n",
            "Ground truth: Sinto falta do exército.\n",
            "Palavra não encontrada em output_dict_reverse: EOS\n",
            "Predicted: Eu gosto a cedo a o o o.<UNK>\n",
            "\n",
            "Input: I wonder if Tom is still confused.\n",
            "Ground truth: Eu me pergunto se o Tom ainda está confuso.\n",
            "Predicted: Me pergunto pergunto Tom Tom Tom Tom     \n",
            "\n",
            "Input: My left foot is asleep.\n",
            "Ground truth: Meu pé esquerdo adormeceu.\n",
            "Palavra não encontrada em output_dict_reverse: EOS\n",
            "Predicted: Meu pai  á de      .<UNK>\n",
            "\n",
            "Input: There's nothing under the chair.\n",
            "Ground truth: Não tem nada debaixo da cadeira.\n",
            "Predicted: Não existe a a  ent ent o o\n",
            "\n",
            "Input: What'll Tom do?\n",
            "Ground truth: O que Tom fará?\n",
            "Palavra não encontrada em output_dict_reverse: EOS\n",
            "Predicted: O que você        o?<UNK>\n",
            "\n"
          ]
        }
      ],
      "source": [
        "evaluateRandomly(encoder, decoder)"
      ]
    },
    {
      "cell_type": "code",
      "execution_count": null,
      "metadata": {
        "colab": {
          "base_uri": "https://localhost:8080/"
        },
        "id": "5BxIdKVFxl4K",
        "outputId": "0eb2cb7e-de24-4568-c16d-34698bb9f172"
      },
      "outputs": [
        {
          "output_type": "stream",
          "name": "stdout",
          "text": [
            "Epoch:   10/ 100 - Loss: 0.6521\n",
            "Epoch:   20/ 100 - Loss: 0.5451\n",
            "Epoch:   30/ 100 - Loss: 0.4803\n",
            "Epoch:   40/ 100 - Loss: 0.4354\n",
            "Epoch:   50/ 100 - Loss: 0.3960\n",
            "Epoch:   60/ 100 - Loss: 0.3670\n",
            "Epoch:   70/ 100 - Loss: 0.3367\n",
            "Epoch:   80/ 100 - Loss: 0.3139\n",
            "Epoch:   90/ 100 - Loss: 0.2938\n",
            "Epoch:  100/ 100 - Loss: 0.2756\n"
          ]
        }
      ],
      "source": [
        "hidden_size = 128\n",
        "batch_size = 32\n",
        "\n",
        "train_dataloader = get_dataloader(batch_size, sampled_pairs, input_dict, output_dict)\n",
        "\n",
        "encoder = EncoderRNN(\n",
        "  input_size = len(input_dict.keys()),\n",
        "  hidden_size = hidden_size\n",
        ").to(device)\n",
        "\n",
        "decoder = DecoderRNN(\n",
        "  hidden_size = hidden_size,\n",
        "  output_size = len(output_dict.keys())\n",
        ").to(device)\n",
        "\n",
        "\n",
        "loss_points = train(train_dataloader, encoder, decoder, 100, learning_rate=0.001)"
      ]
    },
    {
      "cell_type": "code",
      "execution_count": null,
      "metadata": {
        "id": "Z343PkUu2Kjp",
        "colab": {
          "base_uri": "https://localhost:8080/",
          "height": 472
        },
        "outputId": "a0167ed9-8d78-4c0c-bd84-c366353586de"
      },
      "outputs": [
        {
          "output_type": "display_data",
          "data": {
            "text/plain": [
              "<Figure size 640x480 with 1 Axes>"
            ],
            "image/png": "[encoded data removed]"
          },
          "metadata": {}
        }
      ],
      "source": [
        "def plot_train_loss(loss_points):\n",
        "  plt.plot(loss_points);\n",
        "  plt.title('Training Loss')\n",
        "  plt.xlabel('Epochs')\n",
        "  plt.ylabel('Loss')\n",
        "plot_train_loss(loss_points)"
      ]
    },
    {
      "cell_type": "code",
      "execution_count": null,
      "metadata": {
        "id": "1Wqeh0sa5KAs",
        "colab": {
          "base_uri": "https://localhost:8080/"
        },
        "outputId": "cf3a126a-7131-4745-faca-b99d5b10491f"
      },
      "outputs": [
        {
          "output_type": "stream",
          "name": "stdout",
          "text": [
            "Input: Your birthday is coming soon.\n",
            "Ground truth: O seu aniversário está chegando.\n",
            "Palavra não encontrada em output_dict_reverse: EOS\n",
            "Predicted: O seu nome          <UNK>\n",
            "\n",
            "Input: His chances of being elected are good.\n",
            "Ground truth: Ele tem boas chances de ser eleito.\n",
            "Palavra não encontrada em output_dict_reverse: EOS\n",
            "Predicted: A poss    matou de antes.<UNK>\n",
            "\n",
            "Input: This is my younger sister.\n",
            "Ground truth: Esta é a minha irmã caçula.\n",
            "Palavra não encontrada em output_dict_reverse: EOS\n",
            "Predicted: Esse homem chap chap, perna <UNK>\n",
            "\n",
            "Input: Do you like this tie?\n",
            "Ground truth: Você gosta dessa gravata?\n",
            "Palavra não encontrada em output_dict_reverse: EOS\n",
            "Predicted: O projeto faz?<UNK>\n",
            "\n",
            "Input: Tom couldn't help smiling.\n",
            "Ground truth: Tom não conseguia parar de sorrir.\n",
            "Palavra não encontrada em output_dict_reverse: EOS\n",
            "Predicted: Tom Tom n o ningu ajuda.<UNK>\n",
            "\n"
          ]
        }
      ],
      "source": [
        "evaluateRandomly(encoder, decoder)"
      ]
    },
    {
      "cell_type": "markdown",
      "metadata": {
        "id": "Xhf243oP7fRF"
      },
      "source": [
        "Mesmo diminuíndo o erro progressivamente, podemos ver pelas previsões que ainda estamos tendo resultados bem ruins, melhores em comparação ao MAX_LENGTH menos, mas ainda assim sem bater com o Ground truth.."
      ]
    },
    {
      "cell_type": "markdown",
      "metadata": {
        "id": "04Zt4C-qdceq"
      },
      "source": [
        "#### E se eu tentar teacher reinforcing?"
      ]
    },
    {
      "cell_type": "code",
      "execution_count": null,
      "metadata": {
        "id": "Ihmxj7VSdfl4"
      },
      "outputs": [],
      "source": [
        "def train_epoch(dataloader, encoder, decoder, encoder_optimizer, decoder_optimizer, criterion):\n",
        "  \"\"\"\n",
        "  Train the encoder and decoder for one epoch.\n",
        "\n",
        "  Parameters:\n",
        "  - dataloader: Iterable that provides batches of input and target tensors.\n",
        "  - encoder: The encoder model.\n",
        "  - decoder: The decoder model.\n",
        "  - encoder_optimizer: Optimizer for updating the encoder's parameters.\n",
        "  - decoder_optimizer: Optimizer for updating the decoder's parameters.\n",
        "  - criterion: Loss function to measure the difference between the predicted and target outputs.\n",
        "\n",
        "  Returns:\n",
        "  - The average loss over the epoch.\n",
        "  \"\"\"\n",
        "  total_loss = 0\n",
        "  for data in dataloader:\n",
        "    input_tensor, target_tensor = data\n",
        "\n",
        "    encoder_optimizer.zero_grad()\n",
        "    decoder_optimizer.zero_grad()\n",
        "\n",
        "    encoder_outputs, encoder_hidden = encoder(input_tensor)\n",
        "    decoder_outputs, _, _ = decoder(encoder_outputs, encoder_hidden, target_tensor)\n",
        "\n",
        "    loss = criterion(\n",
        "        decoder_outputs.view(-1, decoder_outputs.size(-1)),\n",
        "        target_tensor.view(-1)\n",
        "    )\n",
        "    loss.backward()\n",
        "\n",
        "    encoder_optimizer.step()\n",
        "    decoder_optimizer.step()\n",
        "\n",
        "    total_loss += loss.item()\n",
        "\n",
        "  return total_loss / len(dataloader)"
      ]
    },
    {
      "cell_type": "code",
      "execution_count": null,
      "metadata": {
        "colab": {
          "base_uri": "https://localhost:8080/"
        },
        "id": "oKFWK9SIdfl5",
        "outputId": "a83b8150-a341-4989-9af7-0cb9d935650d"
      },
      "outputs": [
        {
          "name": "stdout",
          "output_type": "stream",
          "text": [
            "Epoch:   10/ 300 - Loss: 2.6306\n",
            "Epoch:   20/ 300 - Loss: 2.2699\n",
            "Epoch:   30/ 300 - Loss: 2.0531\n",
            "Epoch:   40/ 300 - Loss: 1.8626\n",
            "Epoch:   50/ 300 - Loss: 1.7031\n",
            "Epoch:   60/ 300 - Loss: 1.5737\n",
            "Epoch:   70/ 300 - Loss: 1.4686\n",
            "Epoch:   80/ 300 - Loss: 1.3774\n",
            "Epoch:   90/ 300 - Loss: 1.2916\n",
            "Epoch:  100/ 300 - Loss: 1.2100\n",
            "Epoch:  110/ 300 - Loss: 1.1299\n",
            "Epoch:  120/ 300 - Loss: 1.0555\n",
            "Epoch:  130/ 300 - Loss: 0.9851\n",
            "Epoch:  140/ 300 - Loss: 0.9209\n",
            "Epoch:  150/ 300 - Loss: 0.8618\n",
            "Epoch:  160/ 300 - Loss: 0.8074\n",
            "Epoch:  170/ 300 - Loss: 0.7580\n",
            "Epoch:  180/ 300 - Loss: 0.7125\n",
            "Epoch:  190/ 300 - Loss: 0.6696\n",
            "Epoch:  200/ 300 - Loss: 0.6305\n",
            "Epoch:  210/ 300 - Loss: 0.5958\n",
            "Epoch:  220/ 300 - Loss: 0.5636\n",
            "Epoch:  230/ 300 - Loss: 0.5333\n",
            "Epoch:  240/ 300 - Loss: 0.5054\n",
            "Epoch:  250/ 300 - Loss: 0.4802\n",
            "Epoch:  260/ 300 - Loss: 0.4563\n",
            "Epoch:  270/ 300 - Loss: 0.4324\n",
            "Epoch:  280/ 300 - Loss: 0.4131\n",
            "Epoch:  290/ 300 - Loss: 0.3932\n",
            "Epoch:  300/ 300 - Loss: 0.3739\n"
          ]
        }
      ],
      "source": [
        "hidden_size = 128\n",
        "batch_size = 1024\n",
        "\n",
        "train_dataloader = get_dataloader(batch_size, sampled_pairs, input_dict, output_dict)\n",
        "\n",
        "encoder = EncoderRNN(\n",
        "  input_size = len(input_dict.keys()),\n",
        "  hidden_size = hidden_size\n",
        ").to(device)\n",
        "\n",
        "decoder = DecoderRNN(\n",
        "  hidden_size = hidden_size,\n",
        "  output_size = len(output_dict.keys())\n",
        ").to(device)\n",
        "\n",
        "\n",
        "loss_points = train(train_dataloader, encoder, decoder, 300, learning_rate=0.001)\n"
      ]
    },
    {
      "cell_type": "code",
      "execution_count": null,
      "metadata": {
        "colab": {
          "base_uri": "https://localhost:8080/",
          "height": 472
        },
        "id": "z57gyvOcuSU-",
        "outputId": "0a5a9aa0-c5d6-4a6f-cfb6-6a3f4e50b86b"
      },
      "outputs": [
        {
          "data": {
            "image/png": "[encoded data removed]",
            "text/plain": [
              "<Figure size 640x480 with 1 Axes>"
            ]
          },
          "metadata": {},
          "output_type": "display_data"
        }
      ],
      "source": [
        "plot_train_loss(loss_points);"
      ]
    },
    {
      "cell_type": "code",
      "execution_count": null,
      "metadata": {
        "colab": {
          "base_uri": "https://localhost:8080/"
        },
        "id": "EynC-yquuSU_",
        "outputId": "6ab3088d-3111-4e26-ed13-d5a3e967c770"
      },
      "outputs": [
        {
          "name": "stdout",
          "output_type": "stream",
          "text": [
            "Input: Tom became nervous.\n",
            "Ground truth: Tom ficou nervoso.\n",
            "Predicted: Tom continuou a oferta, não gosta o dia\n",
            "\n",
            "Input: Do we have to do all that?\n",
            "Ground truth: Temos que fazer tudo isso?\n",
            "Palavra não encontrada em output_dict_reverse: EOS\n",
            "Predicted: Você tem que fazer isso?<UNK>\n",
            "\n",
            "Input: You are our new neighbor.\n",
            "Ground truth: Você é nosso novo vizinho.\n",
            "Predicted: Você é alérgico a diferença, nã\n",
            "\n",
            "Input: I think he was speaking Latin.\n",
            "Ground truth: Acho que ele estava falando latim.\n",
            "Predicted: Acho que ele precisa tentar beijar mas o Tom,\n",
            "\n",
            "Input: Aren't you retired?\n",
            "Ground truth: Você não está aposentada?\n",
            "Palavra não encontrada em output_dict_reverse: EOS\n",
            "Predicted: Tom não sabe essa pergunta?<UNK>\n",
            "\n"
          ]
        }
      ],
      "source": [
        "evaluateRandomly(encoder, decoder)"
      ]
    },
    {
      "cell_type": "markdown",
      "metadata": {
        "id": "GkdT2jne8HwX"
      },
      "source": [
        "Nesse caso podemos ver que houve uma melhoria no sentido de que ao menos algumas palavras do Ground truth aparecendo e nestes exemplos não tivemos nenhum caso de começar a delirar."
      ]
    },
    {
      "cell_type": "markdown",
      "metadata": {
        "id": "5pQ3ipKbr3ez"
      },
      "source": [
        "### Com Bahdanau attention"
      ]
    },
    {
      "cell_type": "code",
      "execution_count": null,
      "metadata": {
        "id": "L6AMJEOZruNN"
      },
      "outputs": [],
      "source": [
        "# Bahdanau attention, also known as additive attention, is a commonly used\n",
        "# attention mechanism in sequence-to-sequence models, particularly in\n",
        "# neural machine translation tasks. It was introduced by Bahdanau et al.\n",
        "# in their paper titled [Neural Machine Translation by Jointly Learning to\n",
        "# Align and Translate](https://arxiv.org/pdf/1409.0473.pdf). This\n",
        "# attention mechanism employs a learned alignment model to compute\n",
        "# attention scores between the encoder and decoder hidden states. It\n",
        "# utilizes a feed-forward neural network to calculate alignment scores.\n",
        "\n",
        "class BahdanauAttention(nn.Module):\n",
        "  def __init__(self, hidden_size):\n",
        "    '''Initialize the BahdanauAttention class.\n",
        "\n",
        "    Parameters:\n",
        "    - hidden_size: The size of the hidden state used in the attention mechanism.\n",
        "    '''\n",
        "    super(BahdanauAttention, self).__init__()\n",
        "    self.Wa = nn.Linear(hidden_size, hidden_size)\n",
        "    self.Ua = nn.Linear(hidden_size, hidden_size)\n",
        "    self.Va = nn.Linear(hidden_size, 1)\n",
        "\n",
        "  def forward(self, query, keys):\n",
        "    scores = self.Va(torch.tanh(self.Wa(query) + self.Ua(keys)))\n",
        "    scores = scores.squeeze(2).unsqueeze(1)\n",
        "\n",
        "    weights = F.softmax(scores, dim=-1)\n",
        "    context = torch.bmm(weights, keys)\n",
        "    return context, weights  # Return the context vector and attention weights."
      ]
    },
    {
      "cell_type": "code",
      "execution_count": null,
      "metadata": {
        "id": "_soZFeCdruNN"
      },
      "outputs": [],
      "source": [
        "class AttnDecoderRNN(nn.Module):\n",
        "  def __init__(self, hidden_size, output_size, dropout_p=0.1):\n",
        "    \"\"\"\n",
        "    Initializes the decoding layer (Decoder with Attention) of an RNN.\n",
        "\n",
        "    Parameters:\n",
        "    - hidden_size: The size of the hidden state vector.\n",
        "    - output_size: The size of the output vocabulary (number of unique words in the target language).\n",
        "    - dropout_p: The dropout probability for regularization during training.\n",
        "    \"\"\"\n",
        "    super(AttnDecoderRNN, self).__init__()\n",
        "\n",
        "    # Embedding layer transforms word indices into dense vectors of size 'hidden_size'.\n",
        "    self.embedding = nn.Embedding(output_size, hidden_size)\n",
        "\n",
        "    # Attention mechanism to compute context vectors from encoder outputs.\n",
        "    self.attention = BahdanauAttention(hidden_size)\n",
        "\n",
        "    # GRU layer that processes the combined input of embeddings and context vectors.\n",
        "    self.gru = nn.GRU(2 * hidden_size, hidden_size, batch_first=True)\n",
        "\n",
        "    # Linear layer maps the GRU output to the output vocabulary space.\n",
        "    self.out = nn.Linear(hidden_size, output_size)\n",
        "\n",
        "    # Dropout layer for regularization to prevent overfitting during training.\n",
        "    self.dropout = nn.Dropout(dropout_p)\n",
        "\n",
        "  def forward(self, encoder_outputs, encoder_hidden, target_tensor=None):\n",
        "    \"\"\"\n",
        "    Defines the forward pass for the attention decoder.\n",
        "\n",
        "    Parameters:\n",
        "    - encoder_outputs: The output sequences from the encoder (shape: batch_size, seq_len, hidden_size).\n",
        "    - encoder_hidden: The last hidden state of the encoder (shape: 1, batch_size, hidden_size).\n",
        "    - target_tensor: The target sequence for teacher forcing (optional).\n",
        "\n",
        "    Returns:\n",
        "    - decoder_outputs: The output probabilities (log-softmax) for each time step (shape: batch_size, seq_len, output_size).\n",
        "    - decoder_hidden: The final hidden state of the decoder (shape: 1, batch_size, hidden_size).\n",
        "    - attentions: The attention weights for each time step (shape: batch_size, seq_len).\n",
        "    \"\"\"\n",
        "    batch_size = encoder_outputs.size(0)\n",
        "    decoder_input = torch.empty(batch_size, 1, dtype=torch.long, device=device).fill_(SOS_token)\n",
        "    decoder_hidden = encoder_hidden\n",
        "    decoder_outputs = []\n",
        "    attentions = []\n",
        "\n",
        "    # Loop through each time step to generate the output sequence.\n",
        "    for i in range(MAX_LENGTH):\n",
        "      # Call the forward_step function to get output, hidden state, and attention weights for the current time step.\n",
        "      decoder_output, decoder_hidden, attn_weights = self.forward_step(decoder_input, decoder_hidden, encoder_outputs)\n",
        "      decoder_outputs.append(decoder_output)\n",
        "      attentions.append(attn_weights)\n",
        "\n",
        "      if target_tensor is not None:\n",
        "        # Teacher forcing: Feed the target token as the next input to the decoder.\n",
        "        decoder_input = target_tensor[:, i].unsqueeze(1)\n",
        "      else:\n",
        "        # Without teacher forcing: Use its own predictions as the next input.\n",
        "        _, topi = decoder_output.topk(1)\n",
        "        decoder_input = topi.squeeze(-1).detach()  # detach from history as input\n",
        "\n",
        "    # Concatenate all decoder outputs along the time step dimension.\n",
        "    decoder_outputs = torch.cat(decoder_outputs, dim=1)\n",
        "\n",
        "    # Apply log softmax to the outputs to get log-probabilities.\n",
        "    decoder_outputs = F.log_softmax(decoder_outputs, dim=-1)\n",
        "\n",
        "    # Concatenate all attention weights along the time step dimension.\n",
        "    attentions = torch.cat(attentions, dim=1)\n",
        "\n",
        "    # Return the outputs, final hidden state, and attention weights.\n",
        "    return decoder_outputs, decoder_hidden, attentions\n",
        "\n",
        "\n",
        "  def forward_step(self, input, hidden, encoder_outputs):\n",
        "    \"\"\"\n",
        "    Processes a single step in the decoding sequence with attention.\n",
        "\n",
        "    Parameters:\n",
        "    - input: The current input to the decoder (shape: batch_size, 1).\n",
        "    - hidden: The current hidden state of the decoder (shape: 1, batch_size, hidden_size).\n",
        "    - encoder_outputs: The outputs from the encoder (shape: batch_size, seq_len, hidden_size).\n",
        "\n",
        "    Returns:\n",
        "    - output: The predicted output (shape: batch_size, 1, output_size).\n",
        "    - hidden: The updated hidden state (shape: 1, batch_size, hidden_size).\n",
        "    - attn_weights: The attention weights for the current input (shape: batch_size, seq_len).\n",
        "    \"\"\"\n",
        "    # Get the embedded representation of the current input with dropout for regularization.\n",
        "    embedded =  self.dropout(self.embedding(input))\n",
        "\n",
        "    # Permute hidden state to match the query shape for the attention mechanism.\n",
        "    query = hidden.permute(1, 0, 2)\n",
        "\n",
        "    # Compute the context vector and attention weights using the attention mechanism.\n",
        "    context, attn_weights = self.attention(query, encoder_outputs)\n",
        "\n",
        "    # Concatenate the embedded input and the context vector for the GRU.\n",
        "    input_gru = torch.cat((embedded, context), dim=2)\n",
        "\n",
        "    # Pass the combined input through the GRU layer to get the output and updated hidden state.\n",
        "    output, hidden = self.gru(input_gru, hidden)\n",
        "\n",
        "    # Map the GRU output to the output vocabulary space using the linear layer.\n",
        "    output = self.out(output)\n",
        "\n",
        "    return output, hidden, attn_weights"
      ]
    },
    {
      "cell_type": "code",
      "execution_count": null,
      "metadata": {
        "colab": {
          "base_uri": "https://localhost:8080/"
        },
        "id": "bJhsrNKrruNN",
        "outputId": "b198c05e-b355-405d-8bd3-1f1934dc82cb"
      },
      "outputs": [
        {
          "name": "stdout",
          "output_type": "stream",
          "text": [
            "Epoch:   10/ 300 - Loss: 2.5202\n",
            "Epoch:   20/ 300 - Loss: 2.2140\n",
            "Epoch:   30/ 300 - Loss: 2.0364\n",
            "Epoch:   40/ 300 - Loss: 1.8635\n",
            "Epoch:   50/ 300 - Loss: 1.6984\n",
            "Epoch:   60/ 300 - Loss: 1.5508\n",
            "Epoch:   70/ 300 - Loss: 1.4120\n",
            "Epoch:   80/ 300 - Loss: 1.2775\n",
            "Epoch:   90/ 300 - Loss: 1.1534\n",
            "Epoch:  100/ 300 - Loss: 1.0374\n",
            "Epoch:  110/ 300 - Loss: 0.9320\n",
            "Epoch:  120/ 300 - Loss: 0.8359\n",
            "Epoch:  130/ 300 - Loss: 0.7485\n",
            "Epoch:  140/ 300 - Loss: 0.6680\n",
            "Epoch:  150/ 300 - Loss: 0.5945\n",
            "Epoch:  160/ 300 - Loss: 0.5308\n",
            "Epoch:  170/ 300 - Loss: 0.4756\n",
            "Epoch:  180/ 300 - Loss: 0.4257\n",
            "Epoch:  190/ 300 - Loss: 0.3830\n",
            "Epoch:  200/ 300 - Loss: 0.3469\n",
            "Epoch:  210/ 300 - Loss: 0.3142\n",
            "Epoch:  220/ 300 - Loss: 0.2867\n",
            "Epoch:  230/ 300 - Loss: 0.2625\n",
            "Epoch:  240/ 300 - Loss: 0.2418\n",
            "Epoch:  250/ 300 - Loss: 0.2233\n",
            "Epoch:  260/ 300 - Loss: 0.2059\n",
            "Epoch:  270/ 300 - Loss: 0.1910\n",
            "Epoch:  280/ 300 - Loss: 0.1767\n",
            "Epoch:  290/ 300 - Loss: 0.1649\n",
            "Epoch:  300/ 300 - Loss: 0.1538\n"
          ]
        }
      ],
      "source": [
        "hidden_size = 128\n",
        "batch_size = 1024\n",
        "\n",
        "train_dataloader = get_dataloader(batch_size, sampled_pairs, input_dict, output_dict)\n",
        "\n",
        "encoder = EncoderRNN(\n",
        "  input_size = len(input_dict.keys()),\n",
        "  hidden_size = hidden_size\n",
        ").to(device)\n",
        "\n",
        "# decoder = DecoderRNN(\n",
        "decoder = AttnDecoderRNN(\n",
        "  hidden_size = hidden_size,\n",
        "  output_size = len(output_dict.keys())\n",
        ").to(device)\n",
        "\n",
        "\n",
        "loss_points = train(train_dataloader, encoder, decoder, 300, learning_rate=0.001)\n"
      ]
    },
    {
      "cell_type": "code",
      "execution_count": null,
      "metadata": {
        "colab": {
          "base_uri": "https://localhost:8080/",
          "height": 472
        },
        "id": "KIdC5E94ruNN",
        "outputId": "bd74856c-fdf1-44a3-b711-635f0ece056b"
      },
      "outputs": [
        {
          "data": {
            "image/png": "[encoded data removed]",
            "text/plain": [
              "<Figure size 640x480 with 1 Axes>"
            ]
          },
          "metadata": {},
          "output_type": "display_data"
        }
      ],
      "source": [
        "plot_train_loss(loss_points);"
      ]
    },
    {
      "cell_type": "code",
      "execution_count": null,
      "metadata": {
        "colab": {
          "base_uri": "https://localhost:8080/"
        },
        "id": "fdSrwSwOruNO",
        "outputId": "6ab0e638-cf49-4ed4-9f93-b9878613446d"
      },
      "outputs": [
        {
          "name": "stdout",
          "output_type": "stream",
          "text": [
            "Input: I want you to wear this.\n",
            "Ground truth: Eu quero que você use isso.\n",
            "Palavra não encontrada em output_dict_reverse: EOS\n",
            "Predicted: Eu quero que você soubesse esse assunto.<UNK>\n",
            "\n",
            "Input: I want to pay in installments.\n",
            "Ground truth: Quero pagar à prestação.\n",
            "Palavra não encontrada em output_dict_reverse: EOS\n",
            "Predicted: Eu quero contatá em particular.<UNK>\n",
            "\n",
            "Input: May I turn the lights off?\n",
            "Ground truth: Eu poderia desligar as luzes?\n",
            "Predicted: Mais eu ' a diferença a diferença?\n",
            "\n",
            "Input: Has Tom quit drinking?\n",
            "Ground truth: O Tom parou de beber?\n",
            "Palavra não encontrada em output_dict_reverse: EOS\n",
            "Predicted: Quando o Tom está sozinho em Boston?<UNK>\n",
            "\n",
            "Input: Tom is doing much better.\n",
            "Ground truth: Tom está bem melhor.\n",
            "Palavra não encontrada em output_dict_reverse: EOS\n",
            "Predicted: Na Tom está fazendo muito melhor.<UNK>\n",
            "\n"
          ]
        }
      ],
      "source": [
        "evaluateRandomly(encoder, decoder)"
      ]
    },
    {
      "cell_type": "markdown",
      "metadata": {
        "id": "CoKlvmW99U2B"
      },
      "source": [
        "Podemos ver aqui uma melhoria significativa. Ainda encontramos o erro do EOS (embora ele esteja presente no output_dict_reverse) mas podemos ver frases quanse completas ou aparencendo nas frases com palavras a mais. No entanto, veja o exemplo de desligar as luzes, ainda vemos defeitos."
      ]
    },
    {
      "cell_type": "markdown",
      "metadata": {
        "id": "DUdbQ8XF0f9y"
      },
      "source": [
        "#### E com attention + teacher forcing?"
      ]
    },
    {
      "cell_type": "code",
      "execution_count": null,
      "metadata": {
        "id": "fz1i4AQj0qiX"
      },
      "outputs": [],
      "source": [
        "class AttnDecoderRNN(nn.Module):\n",
        "  def __init__(self, hidden_size, output_size, dropout_p=0.1):\n",
        "    \"\"\"\n",
        "    Initializes the decoding layer (Decoder with Attention) of an RNN.\n",
        "\n",
        "    Parameters:\n",
        "    - hidden_size: The size of the hidden state vector.\n",
        "    - output_size: The size of the output vocabulary (number of unique words in the target language).\n",
        "    - dropout_p: The dropout probability for regularization during training.\n",
        "    \"\"\"\n",
        "    super(AttnDecoderRNN, self).__init__()\n",
        "\n",
        "    # Embedding layer transforms word indices into dense vectors of size 'hidden_size'.\n",
        "    self.embedding = nn.Embedding(output_size, hidden_size)\n",
        "\n",
        "    # Attention mechanism to compute context vectors from encoder outputs.\n",
        "    self.attention = BahdanauAttention(hidden_size)\n",
        "\n",
        "    # GRU layer that processes the combined input of embeddings and context vectors.\n",
        "    self.gru = nn.GRU(2 * hidden_size, hidden_size, batch_first=True)\n",
        "\n",
        "    # Linear layer maps the GRU output to the output vocabulary space.\n",
        "    self.out = nn.Linear(hidden_size, output_size)\n",
        "\n",
        "    # Dropout layer for regularization to prevent overfitting during training.\n",
        "    self.dropout = nn.Dropout(dropout_p)\n",
        "\n",
        "  def forward(self, encoder_outputs, encoder_hidden, target_tensor):\n",
        "    \"\"\"\n",
        "    Defines the forward pass for the attention decoder.\n",
        "\n",
        "    Parameters:\n",
        "    - encoder_outputs: The output sequences from the encoder (shape: batch_size, seq_len, hidden_size).\n",
        "    - encoder_hidden: The last hidden state of the encoder (shape: 1, batch_size, hidden_size).\n",
        "    - target_tensor: The target sequence for teacher forcing (optional).\n",
        "\n",
        "    Returns:\n",
        "    - decoder_outputs: The output probabilities (log-softmax) for each time step (shape: batch_size, seq_len, output_size).\n",
        "    - decoder_hidden: The final hidden state of the decoder (shape: 1, batch_size, hidden_size).\n",
        "    - attentions: The attention weights for each time step (shape: batch_size, seq_len).\n",
        "    \"\"\"\n",
        "    batch_size = encoder_outputs.size(0)\n",
        "    decoder_input = torch.empty(batch_size, 1, dtype=torch.long, device=device).fill_(SOS_token)\n",
        "    decoder_hidden = encoder_hidden\n",
        "    decoder_outputs = []\n",
        "    attentions = []\n",
        "\n",
        "    # Loop through each time step to generate the output sequence.\n",
        "    for i in range(MAX_LENGTH):\n",
        "      # Call the forward_step function to get output, hidden state, and attention weights for the current time step.\n",
        "      decoder_output, decoder_hidden, attn_weights = self.forward_step(decoder_input, decoder_hidden, encoder_outputs)\n",
        "      decoder_outputs.append(decoder_output)\n",
        "      attentions.append(attn_weights)\n",
        "\n",
        "      if target_tensor is not None:\n",
        "        # Teacher forcing: Feed the target token as the next input to the decoder.\n",
        "        decoder_input = target_tensor[:, i].unsqueeze(1)\n",
        "      else:\n",
        "        # Without teacher forcing: Use its own predictions as the next input.\n",
        "        _, topi = decoder_output.topk(1)\n",
        "        decoder_input = topi.squeeze(-1).detach()  # detach from history as input\n",
        "\n",
        "    # Concatenate all decoder outputs along the time step dimension.\n",
        "    decoder_outputs = torch.cat(decoder_outputs, dim=1)\n",
        "\n",
        "    # Apply log softmax to the outputs to get log-probabilities.\n",
        "    decoder_outputs = F.log_softmax(decoder_outputs, dim=-1)\n",
        "\n",
        "    # Concatenate all attention weights along the time step dimension.\n",
        "    attentions = torch.cat(attentions, dim=1)\n",
        "\n",
        "    # Return the outputs, final hidden state, and attention weights.\n",
        "    return decoder_outputs, decoder_hidden, attentions\n",
        "\n",
        "\n",
        "  def forward_step(self, input, hidden, encoder_outputs):\n",
        "    \"\"\"\n",
        "    Processes a single step in the decoding sequence with attention.\n",
        "\n",
        "    Parameters:\n",
        "    - input: The current input to the decoder (shape: batch_size, 1).\n",
        "    - hidden: The current hidden state of the decoder (shape: 1, batch_size, hidden_size).\n",
        "    - encoder_outputs: The outputs from the encoder (shape: batch_size, seq_len, hidden_size).\n",
        "\n",
        "    Returns:\n",
        "    - output: The predicted output (shape: batch_size, 1, output_size).\n",
        "    - hidden: The updated hidden state (shape: 1, batch_size, hidden_size).\n",
        "    - attn_weights: The attention weights for the current input (shape: batch_size, seq_len).\n",
        "    \"\"\"\n",
        "    # Get the embedded representation of the current input with dropout for regularization.\n",
        "    embedded =  self.dropout(self.embedding(input))\n",
        "\n",
        "    # Permute hidden state to match the query shape for the attention mechanism.\n",
        "    query = hidden.permute(1, 0, 2)\n",
        "\n",
        "    # Compute the context vector and attention weights using the attention mechanism.\n",
        "    context, attn_weights = self.attention(query, encoder_outputs)\n",
        "\n",
        "    # Concatenate the embedded input and the context vector for the GRU.\n",
        "    input_gru = torch.cat((embedded, context), dim=2)\n",
        "\n",
        "    # Pass the combined input through the GRU layer to get the output and updated hidden state.\n",
        "    output, hidden = self.gru(input_gru, hidden)\n",
        "\n",
        "    # Map the GRU output to the output vocabulary space using the linear layer.\n",
        "    output = self.out(output)\n",
        "\n",
        "    return output, hidden, attn_weights"
      ]
    },
    {
      "cell_type": "code",
      "execution_count": null,
      "metadata": {
        "colab": {
          "base_uri": "https://localhost:8080/"
        },
        "id": "TRUQpFDr0zoC",
        "outputId": "a82c8313-146c-4032-fe73-1478eb39b53f"
      },
      "outputs": [
        {
          "name": "stdout",
          "output_type": "stream",
          "text": [
            "Epoch:   10/ 300 - Loss: 2.4746\n",
            "Epoch:   20/ 300 - Loss: 2.1890\n",
            "Epoch:   30/ 300 - Loss: 2.0290\n",
            "Epoch:   40/ 300 - Loss: 1.8623\n",
            "Epoch:   50/ 300 - Loss: 1.7083\n",
            "Epoch:   60/ 300 - Loss: 1.5723\n",
            "Epoch:   70/ 300 - Loss: 1.4475\n",
            "Epoch:   80/ 300 - Loss: 1.3281\n",
            "Epoch:   90/ 300 - Loss: 1.2180\n",
            "Epoch:  100/ 300 - Loss: 1.1123\n",
            "Epoch:  110/ 300 - Loss: 1.0111\n",
            "Epoch:  120/ 300 - Loss: 0.9184\n",
            "Epoch:  130/ 300 - Loss: 0.8296\n",
            "Epoch:  140/ 300 - Loss: 0.7484\n",
            "Epoch:  150/ 300 - Loss: 0.6739\n",
            "Epoch:  160/ 300 - Loss: 0.6058\n",
            "Epoch:  170/ 300 - Loss: 0.5439\n",
            "Epoch:  180/ 300 - Loss: 0.4886\n",
            "Epoch:  190/ 300 - Loss: 0.4411\n",
            "Epoch:  200/ 300 - Loss: 0.3965\n",
            "Epoch:  210/ 300 - Loss: 0.3588\n",
            "Epoch:  220/ 300 - Loss: 0.3263\n",
            "Epoch:  230/ 300 - Loss: 0.2974\n",
            "Epoch:  240/ 300 - Loss: 0.2712\n",
            "Epoch:  250/ 300 - Loss: 0.2501\n",
            "Epoch:  260/ 300 - Loss: 0.2301\n",
            "Epoch:  270/ 300 - Loss: 0.2109\n",
            "Epoch:  280/ 300 - Loss: 0.1945\n",
            "Epoch:  290/ 300 - Loss: 0.1812\n",
            "Epoch:  300/ 300 - Loss: 0.1668\n"
          ]
        }
      ],
      "source": [
        "hidden_size = 128\n",
        "batch_size = 1024\n",
        "\n",
        "train_dataloader = get_dataloader(batch_size, sampled_pairs, input_dict, output_dict)\n",
        "\n",
        "encoder = EncoderRNN(\n",
        "  input_size = len(input_dict.keys()),\n",
        "  hidden_size = hidden_size\n",
        ").to(device)\n",
        "\n",
        "# decoder = DecoderRNN(\n",
        "decoder = AttnDecoderRNN(\n",
        "  hidden_size = hidden_size,\n",
        "  output_size = len(output_dict.keys())\n",
        ").to(device)\n",
        "\n",
        "\n",
        "loss_points = train(train_dataloader, encoder, decoder, 300, learning_rate=0.001)"
      ]
    },
    {
      "cell_type": "code",
      "execution_count": null,
      "metadata": {
        "colab": {
          "base_uri": "https://localhost:8080/",
          "height": 472
        },
        "id": "qOHx7B2P09Jy",
        "outputId": "732dcde6-9171-43b7-f452-4d88516d4b32"
      },
      "outputs": [
        {
          "data": {
            "image/png": "[encoded data removed]",
            "text/plain": [
              "<Figure size 640x480 with 1 Axes>"
            ]
          },
          "metadata": {},
          "output_type": "display_data"
        }
      ],
      "source": [
        "plot_train_loss(loss_points);"
      ]
    },
    {
      "cell_type": "code",
      "execution_count": null,
      "metadata": {
        "colab": {
          "base_uri": "https://localhost:8080/"
        },
        "id": "kYt2vpPn0_u6",
        "outputId": "de798379-1ebf-4136-c219-a9a756b87c50"
      },
      "outputs": [
        {
          "name": "stdout",
          "output_type": "stream",
          "text": [
            "Input: I hope Tom isn't embarrassed.\n",
            "Ground truth: Eu espero que o Tom não esteja com vergonha.\n",
            "Predicted: Por que eu espero que o Tom não \n",
            "\n",
            "Input: You are not Japanese.\n",
            "Ground truth: Você não é japonês.\n",
            "Palavra não encontrada em output_dict_reverse: EOS\n",
            "Predicted: Não é não estamos noite.<UNK>\n",
            "\n",
            "Input: She writes with her left hand.\n",
            "Ground truth: Ela escreve com a mão esquerda.\n",
            "Predicted: Apesar de amigos do mão de mão.\n",
            "\n",
            "Input: You've had a really rough day, haven't you?\n",
            "Ground truth: Você teve um dia bem difícil, não teve?\n",
            "Predicted: Você já assinou muito bem, não est\n",
            "\n",
            "Input: Tom knew who was trying to kill him.\n",
            "Ground truth: Tom sabia quem estava tentando matá-lo.\n",
            "Predicted: Quando o Tom sabia que foi fácil ele \n",
            "\n"
          ]
        }
      ],
      "source": [
        "evaluateRandomly(encoder, decoder)"
      ]
    },
    {
      "cell_type": "markdown",
      "metadata": {
        "id": "7-0sFdaSrEsI"
      },
      "source": [
        "## Usando o modelo do PyTorch:"
      ]
    },
    {
      "cell_type": "code",
      "execution_count": null,
      "metadata": {
        "id": "6katNJ2G2ITW"
      },
      "outputs": [],
      "source": [
        "from __future__ import unicode_literals, print_function, division\n",
        "from io import open\n",
        "import unicodedata\n",
        "import re\n",
        "import random\n",
        "import gdown\n",
        "\n",
        "import torch\n",
        "import torch.nn as nn\n",
        "from torch import optim\n",
        "import torch.nn.functional as F\n",
        "\n",
        "import numpy as np\n",
        "from torch.utils.data import TensorDataset, DataLoader, RandomSampler\n",
        "from matplotlib.ticker import FixedLocator #para fazer gráficos com palavras\n",
        "%matplotlib inline\n",
        "\n",
        "device = torch.device(\"cuda\" if torch.cuda.is_available() else \"cpu\")"
      ]
    },
    {
      "cell_type": "code",
      "execution_count": null,
      "metadata": {
        "colab": {
          "base_uri": "https://localhost:8080/",
          "height": 109
        },
        "id": "5fnX3AN4-Xf3",
        "outputId": "83a78de7-6a14-4a13-de2e-12e74097e035"
      },
      "outputs": [
        {
          "output_type": "stream",
          "name": "stderr",
          "text": [
            "Downloading...\n",
            "From: https://drive.google.com/uc?id=1Dt96VaplAImAPwJP1-FjHZQiP-0Tcvi1\n",
            "To: /content/por.txt\n",
            "100%|██████████| 28.3M/28.3M [00:00<00:00, 180MB/s]\n"
          ]
        },
        {
          "output_type": "execute_result",
          "data": {
            "text/plain": [
              "'por.txt'"
            ],
            "application/vnd.google.colaboratory.intrinsic+json": {
              "type": "string"
            }
          },
          "metadata": {},
          "execution_count": 4
        }
      ],
      "source": [
        "device = torch.device(\"cuda\" if torch.cuda.is_available() else \"cpu\")\n",
        "url = 'https://drive.google.com/uc?id=1Dt96VaplAImAPwJP1-FjHZQiP-0Tcvi1'\n",
        "file = 'por.txt'\n",
        "gdown.download(url, file, quiet=False)"
      ]
    },
    {
      "cell_type": "code",
      "execution_count": null,
      "metadata": {
        "id": "fyEJZ4sLYTPG"
      },
      "outputs": [],
      "source": [
        "SOS_token = 0\n",
        "EOS_token = 1\n",
        "\n",
        "class Lang:\n",
        "    def __init__(self, name):\n",
        "        self.name = name\n",
        "        self.word2index = {}\n",
        "        self.word2count = {}\n",
        "        self.index2word = {0: \"SOS\", 1: \"EOS\"}\n",
        "        self.n_words = 2  # Count SOS and EOS\n",
        "\n",
        "    def addSentence(self, sentence):\n",
        "        for word in sentence.split(' '):\n",
        "            self.addWord(word)\n",
        "\n",
        "    def addWord(self, word):\n",
        "        if word not in self.word2index:\n",
        "            self.word2index[word] = self.n_words\n",
        "            self.word2count[word] = 1\n",
        "            self.index2word[self.n_words] = word\n",
        "            self.n_words += 1\n",
        "        else:\n",
        "            self.word2count[word] += 1\n",
        "\n",
        "    def get(self, word, default=None):\n",
        "      return self.word2index.get(word, default)"
      ]
    },
    {
      "cell_type": "code",
      "execution_count": null,
      "metadata": {
        "id": "lYlDyqwBzJY3"
      },
      "outputs": [],
      "source": [
        "# Transforma a palavra em ASCII - American Standard Code for Information Interchange. Se trata de uma forma de codificação que atribui a cada\n",
        "# caracter, símbolo e comando de controle um valor numérico entre 0 e 127. Isso permite fazer o \"indexes from Sentence\" de uma maneira sempre igual\n",
        "# e semelhante.\n",
        "def unicodeToAscii(s):\n",
        "    return ''.join(\n",
        "        c for c in unicodedata.normalize('NFD', s)\n",
        "        if unicodedata.category(c) != 'Mn'\n",
        "    )\n",
        "\n",
        "# Retira os valores com acentos e letras maiúsculas/minúsculas\n",
        "def normalizeString(s):\n",
        "    s = unicodeToAscii(s.lower().strip())\n",
        "    s = re.sub(r\"([.!?])\", r\" \\1\", s)\n",
        "    s = re.sub(r\"[^a-zA-Z!?]+\", r\" \", s)\n",
        "    return s.strip()"
      ]
    },
    {
      "cell_type": "markdown",
      "metadata": {
        "id": "TiLgCNhg3-R-"
      },
      "source": [
        "Como temos a tradução entre duas línguas, criamos um dicionário para cada uma delas."
      ]
    },
    {
      "cell_type": "code",
      "execution_count": null,
      "metadata": {
        "id": "s01Zd_eSzJY4"
      },
      "outputs": [],
      "source": [
        "def readLangs(lang1, lang2, reverse=False):\n",
        "    print(\"Reading lines...\")\n",
        "\n",
        "    lines = open('por.txt', encoding='utf-8').\\\n",
        "        read().strip().split('\\n') #Separa cada linha do dataset\n",
        "\n",
        "    # Separa cada linha em duas frases: de uma língua e de outra língua.\n",
        "    pairs = [[s for s in l.split('\\t')[:2]] for l in lines] #Detalhe aqui para o :2 no final, pois o dataset inclui uma referência ao final.\n",
        "\n",
        "    # Se considerarmos reverse=True, estamos fazendo a tradução reversa, isto é, se nosso dataset é inglês -> português, ao adicionar o\n",
        "    #reverse estamos traduzindo de português para inglês.\n",
        "    if reverse:\n",
        "        pairs = [list(reversed(p)) for p in pairs]\n",
        "        input_lang = Lang(lang2)\n",
        "        output_lang = Lang(lang1)\n",
        "    else:\n",
        "        input_lang = Lang(lang1)\n",
        "        output_lang = Lang(lang2)\n",
        "\n",
        "    return input_lang, output_lang, pairs"
      ]
    },
    {
      "cell_type": "code",
      "execution_count": null,
      "metadata": {
        "id": "p6DqCVUtzJY4"
      },
      "outputs": [],
      "source": [
        "MAX_LENGTH = 5 #Vai determinar o tamanho máximo da frase que estamos tomando.\n",
        "\n",
        "def filterPair(p):\n",
        "    return len(p[0].split(' ')) < MAX_LENGTH and \\\n",
        "        len(p[1].split(' ')) < MAX_LENGTH\n",
        "\n",
        "\n",
        "def filterPairs(pairs):\n",
        "    return [pair for pair in pairs if filterPair(pair)]"
      ]
    },
    {
      "cell_type": "markdown",
      "metadata": {
        "id": "S-h_59-Hm82u"
      },
      "source": [
        "Unimos então estas funções através da preparação dos dados: nela vamos separar os pares em input e ouput, filtrar em frases que tenham no máximo o MAX_LENGTH de palavras e separar conforme a quantidade de dados:"
      ]
    },
    {
      "cell_type": "code",
      "execution_count": null,
      "metadata": {
        "colab": {
          "base_uri": "https://localhost:8080/"
        },
        "id": "WQhkHtWczJY4",
        "outputId": "b5169bd2-279a-435a-b78c-ff2353eb79e4"
      },
      "outputs": [
        {
          "output_type": "stream",
          "name": "stdout",
          "text": [
            "Reading lines...\n",
            "Read 193633 sentence pairs\n",
            "Trimmed to 40762 sentence pairs\n",
            "Counting words...\n",
            "Counted words:\n",
            "eng 10246\n",
            "por 16389\n",
            "[\"It's so boring.\", 'Isso é muito chato!']\n"
          ]
        }
      ],
      "source": [
        "def prepareData(lang1, lang2, reverse=False):\n",
        "    input_lang, output_lang, pairs = readLangs(lang1, lang2, reverse)\n",
        "    print(\"Read %s sentence pairs\" % len(pairs))\n",
        "    pairs = filterPairs(pairs)\n",
        "    print(\"Trimmed to %s sentence pairs\" % len(pairs))\n",
        "    print(\"Counting words...\")\n",
        "    for pair in pairs:\n",
        "        input_lang.addSentence(pair[0])\n",
        "        output_lang.addSentence(pair[1])\n",
        "    print(\"Counted words:\")\n",
        "    print(input_lang.name, input_lang.n_words)\n",
        "    print(output_lang.name, output_lang.n_words)\n",
        "    return input_lang, output_lang, pairs\n",
        "\n",
        "input_lang, output_lang, pairs = prepareData('eng', 'por', False)\n",
        "print(random.choice(pairs))"
      ]
    },
    {
      "cell_type": "markdown",
      "metadata": {
        "id": "qtbcF9ghnWEM"
      },
      "source": [
        "Definindo o Encoder, exatamente como está definido no modelo do EP."
      ]
    },
    {
      "cell_type": "code",
      "execution_count": null,
      "metadata": {
        "id": "eUjHL2khzJY4"
      },
      "outputs": [],
      "source": [
        "class EncoderRNN(nn.Module):\n",
        "    def __init__(self, input_size, hidden_size, dropout_p=0.1):\n",
        "        super(EncoderRNN, self).__init__()\n",
        "        self.hidden_size = hidden_size\n",
        "\n",
        "        self.embedding = nn.Embedding(input_size, hidden_size)\n",
        "        self.gru = nn.GRU(hidden_size, hidden_size, batch_first=True)\n",
        "        self.dropout = nn.Dropout(dropout_p)\n",
        "\n",
        "    def forward(self, input):\n",
        "        embedded = self.dropout(self.embedding(input))\n",
        "        output, hidden = self.gru(embedded)\n",
        "        return output, hidden"
      ]
    },
    {
      "cell_type": "code",
      "execution_count": null,
      "metadata": {
        "id": "sHc2gfwbzJY4"
      },
      "outputs": [],
      "source": [
        "class DecoderRNN(nn.Module):\n",
        "    def __init__(self, hidden_size, output_size):\n",
        "        super(DecoderRNN, self).__init__()\n",
        "        self.embedding = nn.Embedding(output_size, hidden_size)\n",
        "        self.gru = nn.GRU(hidden_size, hidden_size, batch_first=True)\n",
        "        self.out = nn.Linear(hidden_size, output_size)\n",
        "\n",
        "    def forward(self, encoder_outputs, encoder_hidden, target_tensor=None):\n",
        "        batch_size = encoder_outputs.size(0)\n",
        "        decoder_input = torch.empty(batch_size, 1, dtype=torch.long, device=device).fill_(SOS_token)\n",
        "        decoder_hidden = encoder_hidden\n",
        "        decoder_outputs = []\n",
        "\n",
        "        for i in range(MAX_LENGTH):\n",
        "            decoder_output, decoder_hidden  = self.forward_step(decoder_input, decoder_hidden)\n",
        "            decoder_outputs.append(decoder_output)\n",
        "\n",
        "            if target_tensor is not None:\n",
        "                # Teacher forcing: Feed the target as the next input\n",
        "                decoder_input = target_tensor[:, i].unsqueeze(1) # Teacher forcing\n",
        "            else:\n",
        "                # Without teacher forcing: use its own predictions as the next input\n",
        "                _, topi = decoder_output.topk(1)\n",
        "                decoder_input = topi.squeeze(-1).detach()  # detach from history as input\n",
        "\n",
        "        decoder_outputs = torch.cat(decoder_outputs, dim=1)\n",
        "        decoder_outputs = F.log_softmax(decoder_outputs, dim=-1)\n",
        "        return decoder_outputs, decoder_hidden, None # We return `None` for consistency in the training loop\n",
        "\n",
        "    def forward_step(self, input, hidden):\n",
        "        output = self.embedding(input)\n",
        "        output = F.relu(output)\n",
        "        output, hidden = self.gru(output, hidden)\n",
        "        output = self.out(output)\n",
        "        return output, hidden"
      ]
    },
    {
      "cell_type": "code",
      "execution_count": null,
      "metadata": {
        "id": "RsRqpwALzJY5"
      },
      "outputs": [],
      "source": [
        "class BahdanauAttention(nn.Module):\n",
        "    def __init__(self, hidden_size):\n",
        "        super(BahdanauAttention, self).__init__()\n",
        "        self.Wa = nn.Linear(hidden_size, hidden_size)\n",
        "        self.Ua = nn.Linear(hidden_size, hidden_size)\n",
        "        self.Va = nn.Linear(hidden_size, 1)\n",
        "\n",
        "    def forward(self, query, keys):\n",
        "        scores = self.Va(torch.tanh(self.Wa(query) + self.Ua(keys)))\n",
        "        scores = scores.squeeze(2).unsqueeze(1)\n",
        "\n",
        "        weights = F.softmax(scores, dim=-1)\n",
        "        context = torch.bmm(weights, keys)\n",
        "\n",
        "        return context, weights\n",
        "\n",
        "class AttnDecoderRNN(nn.Module):\n",
        "    def __init__(self, hidden_size, output_size, dropout_p=0.1):\n",
        "        super(AttnDecoderRNN, self).__init__()\n",
        "        self.embedding = nn.Embedding(output_size, hidden_size)\n",
        "        self.attention = BahdanauAttention(hidden_size)\n",
        "        self.gru = nn.GRU(2 * hidden_size, hidden_size, batch_first=True)\n",
        "        self.out = nn.Linear(hidden_size, output_size)\n",
        "        self.dropout = nn.Dropout(dropout_p)\n",
        "\n",
        "    def forward(self, encoder_outputs, encoder_hidden, target_tensor=None):\n",
        "        batch_size = encoder_outputs.size(0)\n",
        "        decoder_input = torch.empty(batch_size, 1, dtype=torch.long, device=device).fill_(SOS_token)\n",
        "        decoder_hidden = encoder_hidden\n",
        "        decoder_outputs = []\n",
        "        attentions = []\n",
        "\n",
        "        for i in range(MAX_LENGTH):\n",
        "            decoder_output, decoder_hidden, attn_weights = self.forward_step(\n",
        "                decoder_input, decoder_hidden, encoder_outputs\n",
        "            )\n",
        "            decoder_outputs.append(decoder_output)\n",
        "            attentions.append(attn_weights)\n",
        "\n",
        "            if target_tensor is not None:\n",
        "                # Teacher forcing: Feed the target as the next input\n",
        "                decoder_input = target_tensor[:, i].unsqueeze(1) # Teacher forcing\n",
        "            else:\n",
        "                # Without teacher forcing: use its own predictions as the next input\n",
        "                _, topi = decoder_output.topk(1)\n",
        "                decoder_input = topi.squeeze(-1).detach()  # detach from history as input\n",
        "\n",
        "        decoder_outputs = torch.cat(decoder_outputs, dim=1)\n",
        "        decoder_outputs = F.log_softmax(decoder_outputs, dim=-1)\n",
        "        attentions = torch.cat(attentions, dim=1)\n",
        "\n",
        "        return decoder_outputs, decoder_hidden, attentions\n",
        "\n",
        "\n",
        "    def forward_step(self, input, hidden, encoder_outputs):\n",
        "        embedded =  self.dropout(self.embedding(input))\n",
        "\n",
        "        query = hidden.permute(1, 0, 2)\n",
        "        context, attn_weights = self.attention(query, encoder_outputs)\n",
        "        input_gru = torch.cat((embedded, context), dim=2)\n",
        "\n",
        "        output, hidden = self.gru(input_gru, hidden)\n",
        "        output = self.out(output)\n",
        "\n",
        "        return output, hidden, attn_weights"
      ]
    },
    {
      "cell_type": "code",
      "execution_count": null,
      "metadata": {
        "id": "SMyBR6oYzJY5"
      },
      "outputs": [],
      "source": [
        "def indexesFromSentence(lang, sentence):\n",
        "    return [lang.word2index[word] for word in sentence.split(' ')]\n",
        "\n",
        "def tensorFromSentence(lang, sentence):\n",
        "    indexes = indexesFromSentence(lang, sentence)\n",
        "    indexes.append(EOS_token)\n",
        "    return torch.tensor(indexes, dtype=torch.long, device=device).view(1, -1)\n",
        "\n",
        "def tensorsFromPair(pair):\n",
        "    input_tensor = tensorFromSentence(input_lang, pair[0])\n",
        "    target_tensor = tensorFromSentence(output_lang, pair[1])\n",
        "    return (input_tensor, target_tensor)\n",
        "\n",
        "def get_dataloader(batch_size):\n",
        "    input_lang, output_lang, pairs = prepareData('eng', 'por', False)\n",
        "\n",
        "    n = len(pairs)\n",
        "    input_ids = np.zeros((n, MAX_LENGTH), dtype=np.int32)\n",
        "    target_ids = np.zeros((n, MAX_LENGTH), dtype=np.int32)\n",
        "\n",
        "    for idx, (inp, tgt) in enumerate(pairs):\n",
        "        inp_ids = indexesFromSentence(input_lang, inp)\n",
        "        tgt_ids = indexesFromSentence(output_lang, tgt)\n",
        "        inp_ids.append(EOS_token)\n",
        "        tgt_ids.append(EOS_token)\n",
        "        input_ids[idx, :len(inp_ids)] = inp_ids\n",
        "        target_ids[idx, :len(tgt_ids)] = tgt_ids\n",
        "\n",
        "    train_data = TensorDataset(torch.LongTensor(input_ids).to(device),\n",
        "                               torch.LongTensor(target_ids).to(device))\n",
        "\n",
        "    train_sampler = RandomSampler(train_data)\n",
        "    train_dataloader = DataLoader(train_data, sampler=train_sampler, batch_size=batch_size)\n",
        "    return input_lang, output_lang, train_dataloader"
      ]
    },
    {
      "cell_type": "code",
      "execution_count": null,
      "metadata": {
        "id": "QmsIP4OIsQCv"
      },
      "outputs": [],
      "source": [
        "def train_epoch(dataloader, encoder, decoder, encoder_optimizer,\n",
        "          decoder_optimizer, criterion):\n",
        "\n",
        "    total_loss = 0\n",
        "    for data in dataloader:\n",
        "        input_tensor, target_tensor = data\n",
        "\n",
        "        encoder_optimizer.zero_grad()\n",
        "        decoder_optimizer.zero_grad()\n",
        "\n",
        "        encoder_outputs, encoder_hidden = encoder(input_tensor)\n",
        "        decoder_outputs, _, _ = decoder(encoder_outputs, encoder_hidden, None)\n",
        "\n",
        "        loss = criterion(\n",
        "            decoder_outputs.view(-1, decoder_outputs.size(-1)),\n",
        "            target_tensor.view(-1)\n",
        "        )\n",
        "        loss.backward()\n",
        "\n",
        "        encoder_optimizer.step()\n",
        "        decoder_optimizer.step()\n",
        "\n",
        "        total_loss += loss.item()\n",
        "\n",
        "    return total_loss / len(dataloader)"
      ]
    },
    {
      "cell_type": "code",
      "execution_count": null,
      "metadata": {
        "id": "h5OPfD9os2Fw"
      },
      "outputs": [],
      "source": [
        "import time\n",
        "import math\n",
        "\n",
        "def asMinutes(s):\n",
        "    m = math.floor(s / 60)\n",
        "    s -= m * 60\n",
        "    return '%dm %ds' % (m, s)\n",
        "\n",
        "def timeSince(since, percent):\n",
        "    now = time.time()\n",
        "    s = now - since\n",
        "    es = s / (percent)\n",
        "    rs = es - s\n",
        "    return '%s (- %s)' % (asMinutes(s), asMinutes(rs))"
      ]
    },
    {
      "cell_type": "code",
      "execution_count": null,
      "metadata": {
        "id": "f6RK9aMWs5IC"
      },
      "outputs": [],
      "source": [
        "def train(train_dataloader, encoder, decoder, n_epochs, learning_rate=0.001,\n",
        "               print_every=100, plot_every=100):\n",
        "    start = time.time()\n",
        "    plot_losses = []\n",
        "    print_loss_total = 0  # Reset every print_every\n",
        "    plot_loss_total = 0  # Reset every plot_every\n",
        "\n",
        "    encoder_optimizer = optim.Adam(encoder.parameters(), lr=learning_rate)\n",
        "    decoder_optimizer = optim.Adam(decoder.parameters(), lr=learning_rate)\n",
        "    criterion = nn.NLLLoss()\n",
        "\n",
        "    for epoch in range(1, n_epochs + 1):\n",
        "        loss = train_epoch(train_dataloader, encoder, decoder, encoder_optimizer, decoder_optimizer, criterion)\n",
        "        print_loss_total += loss\n",
        "        plot_loss_total += loss\n",
        "\n",
        "        if epoch % print_every == 0:\n",
        "            print_loss_avg = print_loss_total / print_every\n",
        "            print_loss_total = 0\n",
        "            print('%s (%d %d%%) %.4f' % (timeSince(start, epoch / n_epochs),\n",
        "                                        epoch, epoch / n_epochs * 100, print_loss_avg))\n",
        "\n",
        "        if epoch % plot_every == 0:\n",
        "            plot_loss_avg = plot_loss_total / plot_every\n",
        "            plot_losses.append(plot_loss_avg)\n",
        "            plot_loss_total = 0\n",
        "\n",
        "    showPlot(plot_losses)"
      ]
    },
    {
      "cell_type": "code",
      "execution_count": null,
      "metadata": {
        "id": "fCyvctr7s8O8"
      },
      "outputs": [],
      "source": [
        "import matplotlib.pyplot as plt\n",
        "plt.switch_backend('agg')\n",
        "import matplotlib.ticker as ticker\n",
        "import numpy as np\n",
        "\n",
        "def showPlot(points):\n",
        "    plt.figure()\n",
        "    fig, ax = plt.subplots()\n",
        "    # this locator puts ticks at regular intervals\n",
        "    loc = ticker.MultipleLocator(base=0.2)\n",
        "    ax.yaxis.set_major_locator(loc)\n",
        "    plt.plot(points)\n",
        "    display(plt.gcf())"
      ]
    },
    {
      "cell_type": "code",
      "execution_count": null,
      "metadata": {
        "id": "S1RU41-OtGDA"
      },
      "outputs": [],
      "source": [
        "def evaluate(encoder, decoder, sentence, input_lang, output_lang):\n",
        "    with torch.no_grad():\n",
        "        input_tensor = tensorFromSentence(input_lang, sentence)\n",
        "\n",
        "        encoder_outputs, encoder_hidden = encoder(input_tensor)\n",
        "        decoder_outputs, decoder_hidden, decoder_attn = decoder(encoder_outputs, encoder_hidden)\n",
        "\n",
        "        _, topi = decoder_outputs.topk(1)\n",
        "        decoded_ids = topi.squeeze()\n",
        "\n",
        "        decoded_words = []\n",
        "        for idx in decoded_ids:\n",
        "            if idx.item() == EOS_token:\n",
        "                decoded_words.append('<EOS>')\n",
        "                break\n",
        "            decoded_words.append(output_lang.index2word[idx.item()])\n",
        "    return decoded_words, decoder_attn"
      ]
    },
    {
      "cell_type": "code",
      "execution_count": null,
      "metadata": {
        "id": "vJUcJrhDtLgf"
      },
      "outputs": [],
      "source": [
        "def evaluateRandomly(encoder, decoder, n=10):\n",
        "    for i in range(n):\n",
        "        pair = random.choice(pairs)\n",
        "        print('>', pair[0])\n",
        "        print('=', pair[1])\n",
        "        output_words, _ = evaluate(encoder, decoder, pair[0], input_lang, output_lang)\n",
        "        output_sentence = ' '.join(output_words)\n",
        "        print('<', output_sentence)\n",
        "        print('')"
      ]
    },
    {
      "cell_type": "markdown",
      "source": [
        "### Sem attention"
      ],
      "metadata": {
        "id": "jW5MXUeK23u5"
      }
    },
    {
      "cell_type": "code",
      "execution_count": null,
      "metadata": {
        "colab": {
          "base_uri": "https://localhost:8080/",
          "height": 923
        },
        "id": "EXDCDtzl79dK",
        "outputId": "a345a967-4396-44c9-987e-ecc102580f11"
      },
      "outputs": [
        {
          "output_type": "stream",
          "name": "stdout",
          "text": [
            "Reading lines...\n",
            "Read 193633 sentence pairs\n",
            "Trimmed to 40762 sentence pairs\n",
            "Counting words...\n",
            "Counted words:\n",
            "eng 10246\n",
            "por 16389\n",
            "1m 8s (- 21m 49s) (5 5%) 3.0416\n",
            "2m 8s (- 19m 20s) (10 10%) 1.5965\n",
            "3m 9s (- 17m 54s) (15 15%) 1.0561\n",
            "4m 9s (- 16m 39s) (20 20%) 0.8098\n",
            "5m 10s (- 15m 30s) (25 25%) 0.6831\n",
            "6m 9s (- 14m 21s) (30 30%) 0.6055\n",
            "7m 7s (- 13m 14s) (35 35%) 0.5552\n",
            "8m 7s (- 12m 11s) (40 40%) 0.5206\n",
            "9m 6s (- 11m 8s) (45 45%) 0.4957\n",
            "10m 7s (- 10m 7s) (50 50%) 0.4767\n",
            "11m 7s (- 9m 6s) (55 55%) 0.4627\n",
            "12m 9s (- 8m 6s) (60 60%) 0.4504\n",
            "13m 11s (- 7m 6s) (65 65%) 0.4412\n",
            "14m 13s (- 6m 5s) (70 70%) 0.4336\n",
            "15m 14s (- 5m 4s) (75 75%) 0.4262\n",
            "16m 16s (- 4m 4s) (80 80%) 0.4209\n",
            "17m 16s (- 3m 2s) (85 85%) 0.4155\n",
            "18m 16s (- 2m 1s) (90 90%) 0.4108\n",
            "19m 16s (- 1m 0s) (95 95%) 0.4073\n",
            "20m 18s (- 0m 0s) (100 100%) 0.4037\n"
          ]
        },
        {
          "output_type": "display_data",
          "data": {
            "text/plain": [
              "<Figure size 640x480 with 1 Axes>"
            ],
            "image/png": "[encoded data removed]"
          },
          "metadata": {}
        }
      ],
      "source": [
        "hidden_size = 128\n",
        "batch_size = 32\n",
        "\n",
        "input_lang, output_lang, train_dataloader = get_dataloader(batch_size)\n",
        "\n",
        "encoder = EncoderRNN(input_lang.n_words, hidden_size).to(device)\n",
        "decoder = DecoderRNN(hidden_size, output_lang.n_words).to(device)\n",
        "\n",
        "train(train_dataloader, encoder, decoder, 100, print_every=5, plot_every=5)\n"
      ]
    },
    {
      "cell_type": "code",
      "execution_count": null,
      "metadata": {
        "colab": {
          "base_uri": "https://localhost:8080/"
        },
        "id": "3JlDdR_mAJie",
        "outputId": "ecf08a5d-ecaa-4516-9f3e-9a3b80520355"
      },
      "outputs": [
        {
          "output_type": "stream",
          "name": "stdout",
          "text": [
            "> I need medical help.\n",
            "= Preciso de assistência médica.\n",
            "< Preciso de assistência médica. <EOS>\n",
            "\n",
            "> Everything changed.\n",
            "= Tudo mudou.\n",
            "< Tudo isso mudou. <EOS>\n",
            "\n",
            "> Tom saw Mary crying.\n",
            "= Tom viu Mary chorando.\n",
            "< Tom viu Mary chorando. <EOS>\n",
            "\n",
            "> Prices continue to climb.\n",
            "= Os preços seguem subindo.\n",
            "< Os preços seguem subindo. <EOS>\n",
            "\n",
            "> Is Tom any better?\n",
            "= Tom está melhor?\n",
            "< Tom está melhor? <EOS>\n",
            "\n",
            "> I opened the window.\n",
            "= Eu abri a janela.\n",
            "< Eu abri a janela. <EOS>\n",
            "\n",
            "> I'm depressed.\n",
            "= Estou deprimido.\n",
            "< Estou estou muito deprimido. <EOS>\n",
            "\n",
            "> Give us a hand.\n",
            "= Dê-nos uma mão.\n",
            "< Dê-nos uma mão. <EOS>\n",
            "\n",
            "> They're best friends.\n",
            "= Elas são melhores amigas.\n",
            "< Eles são melhores amigas. <EOS>\n",
            "\n",
            "> He will survive.\n",
            "= Ele vai sobreviver.\n",
            "< Ele foi de <EOS>\n",
            "\n"
          ]
        }
      ],
      "source": [
        "encoder.eval()\n",
        "decoder.eval()\n",
        "evaluateRandomly(encoder, decoder)"
      ]
    },
    {
      "cell_type": "markdown",
      "metadata": {
        "id": "DbJoTmTH9tJ4"
      },
      "source": [
        "Veja que, mesmo apresentando um erro maior, a tradução deste modelo é muito melhor, não apresentando nenhum caso de delírio nestes exemplos e completando quase todas as traduções perfeitamente."
      ]
    },
    {
      "cell_type": "markdown",
      "metadata": {
        "id": "ZWc-lIhWAOE9"
      },
      "source": [
        "### Com attention"
      ]
    },
    {
      "cell_type": "code",
      "execution_count": null,
      "metadata": {
        "colab": {
          "base_uri": "https://localhost:8080/",
          "height": 850
        },
        "id": "3K46S8EetN26",
        "outputId": "39f279b5-005c-456c-b450-2b7d9357e688"
      },
      "outputs": [
        {
          "output_type": "stream",
          "name": "stdout",
          "text": [
            "Reading lines...\n",
            "Read 193633 sentence pairs\n",
            "Trimmed to 40762 sentence pairs\n",
            "Counting words...\n",
            "Counted words:\n",
            "eng 10246\n",
            "por 16389\n",
            "1m 24s (- 21m 1s) (5 6%) 2.4081\n",
            "2m 47s (- 19m 33s) (10 12%) 0.8480\n",
            "4m 11s (- 18m 8s) (15 18%) 0.4525\n",
            "5m 34s (- 16m 44s) (20 25%) 0.3292\n",
            "6m 58s (- 15m 20s) (25 31%) 0.2787\n",
            "8m 21s (- 13m 56s) (30 37%) 0.2519\n",
            "9m 45s (- 12m 32s) (35 43%) 0.2354\n",
            "11m 9s (- 11m 9s) (40 50%) 0.2252\n",
            "12m 32s (- 9m 45s) (45 56%) 0.2174\n",
            "13m 57s (- 8m 22s) (50 62%) 0.2121\n",
            "15m 21s (- 6m 58s) (55 68%) 0.2077\n",
            "16m 44s (- 5m 34s) (60 75%) 0.2048\n",
            "18m 7s (- 4m 10s) (65 81%) 0.2018\n",
            "19m 30s (- 2m 47s) (70 87%) 0.1994\n",
            "20m 54s (- 1m 23s) (75 93%) 0.1980\n",
            "22m 17s (- 0m 0s) (80 100%) 0.1964\n"
          ]
        },
        {
          "output_type": "display_data",
          "data": {
            "text/plain": [
              "<Figure size 640x480 with 1 Axes>"
            ],
            "image/png": "[encoded data removed]"
          },
          "metadata": {}
        }
      ],
      "source": [
        "hidden_size = 128\n",
        "batch_size = 32\n",
        "\n",
        "input_lang, output_lang, train_dataloader = get_dataloader(batch_size)\n",
        "\n",
        "encoder = EncoderRNN(input_lang.n_words, hidden_size).to(device)\n",
        "decoder = AttnDecoderRNN(hidden_size, output_lang.n_words).to(device)\n",
        "\n",
        "train(train_dataloader, encoder, decoder, 80, print_every=5, plot_every=5)"
      ]
    },
    {
      "cell_type": "code",
      "execution_count": null,
      "metadata": {
        "colab": {
          "base_uri": "https://localhost:8080/"
        },
        "id": "g4FcEn4I6DdQ",
        "outputId": "42344db4-a701-43fd-c7c2-38569d1b2180"
      },
      "outputs": [
        {
          "output_type": "stream",
          "name": "stdout",
          "text": [
            "> Tom ordered a drink.\n",
            "= Tom pediu uma bebida.\n",
            "< Tom pediu uma bebida. <EOS>\n",
            "\n",
            "> The bird is dead.\n",
            "= O passarinho está morto.\n",
            "< O pássaro está morto. <EOS>\n",
            "\n",
            "> Tom arrived very early.\n",
            "= Tom chegou muito cedo.\n",
            "< Tom chegou muito cedo. <EOS>\n",
            "\n",
            "> Wait there for me.\n",
            "= Aguarde-me ali.\n",
            "< Me espera ali. <EOS>\n",
            "\n",
            "> What's this used for?\n",
            "= Para que serve isso?\n",
            "< Para que serve isso? <EOS>\n",
            "\n",
            "> It's not a virus.\n",
            "= Não é um vírus.\n",
            "< Não é um vírus. <EOS>\n",
            "\n",
            "> Tom called for help.\n",
            "= Tom chamou por ajuda.\n",
            "< Tom chamou por ajuda. <EOS>\n",
            "\n",
            "> Let's cross our fingers.\n",
            "= Vamos cruzar os dedos.\n",
            "< Vamos cruzar os dedos. <EOS>\n",
            "\n",
            "> Consider yourselves lucky.\n",
            "= Considerem-se sortudos.\n",
            "< Considerem-se sortudos. <EOS>\n",
            "\n",
            "> I ate it.\n",
            "= Eu comi isso.\n",
            "< Eu comi isso. <EOS>\n",
            "\n"
          ]
        }
      ],
      "source": [
        "encoder.eval()\n",
        "decoder.eval()\n",
        "evaluateRandomly(encoder, decoder)\n"
      ]
    },
    {
      "cell_type": "markdown",
      "metadata": {
        "id": "NX7kVuCy9-lE"
      },
      "source": [
        "Apesar de, ao adicionar atenção, apresentar um erro levemente maior, veja que as traduções ainda estão bem precisas, ou então fazem algum sentido semântico de alguma forma. Nos exemplos acima vemos os erros:\n",
        "- As senhoras me conhecem? vs Os senhores me conhecem?\n",
        "- Venham me ver. vs Venha me ver.\n",
        "- Comece. vs Comece, entre nisso.\n",
        "- Não grites. vs Não faça nada gritar."
      ]
    },
    {
      "cell_type": "code",
      "execution_count": null,
      "metadata": {
        "id": "QTMr-ONAtoac"
      },
      "outputs": [],
      "source": [
        "def showAttention(input_sentence, output_words, attentions):\n",
        "    fig = plt.figure()\n",
        "    ax = fig.add_subplot(111)\n",
        "    cax = ax.matshow(attentions.cpu().numpy(), cmap='bone')\n",
        "    fig.colorbar(cax)\n",
        "\n",
        "    # Definir a localização dos ticks\n",
        "    ax.xaxis.set_major_locator(FixedLocator(range(len(input_sentence.split(' '))+2)))\n",
        "    ax.yaxis.set_major_locator(FixedLocator(range(len(output_words)+1)))\n",
        "\n",
        "    # Set up axes\n",
        "    ax.set_xticklabels([''] + input_sentence.split(' ') +\n",
        "                       ['<EOS>'], rotation=90)\n",
        "    ax.set_yticklabels([''] + output_words)\n",
        "\n",
        "    # Show label at every tick\n",
        "    ax.xaxis.set_major_locator(ticker.MultipleLocator(1))\n",
        "    ax.yaxis.set_major_locator(ticker.MultipleLocator(1))\n",
        "\n",
        "    display(plt.gcf())\n",
        "\n",
        "\n",
        "def evaluateAndShowAttention(encoder, decoder, n):\n",
        "    for i in range(n):\n",
        "      pair = random.choice(pairs)\n",
        "      output_words,attentions = evaluate(encoder, decoder, pair[0], input_lang, output_lang)\n",
        "      print('input = ', pair[0])\n",
        "      print('output = ', ' '.join(output_words))\n",
        "      showAttention(pair[0], output_words, attentions[0, :len(output_words), :])\n"
      ]
    },
    {
      "cell_type": "code",
      "execution_count": null,
      "metadata": {
        "colab": {
          "base_uri": "https://localhost:8080/",
          "height": 1000
        },
        "id": "nMC_U9olz5jl",
        "outputId": "7dd99d12-ad74-42a4-e287-58c2c07f5e07"
      },
      "outputs": [
        {
          "output_type": "stream",
          "name": "stdout",
          "text": [
            "input =  Everybody was wrong.\n",
            "output =  Todo mundo estava errado. <EOS>\n"
          ]
        },
        {
          "output_type": "display_data",
          "data": {
            "text/plain": [
              "<Figure size 640x480 with 2 Axes>"
            ],
            "image/png": "[encoded data removed]"
          },
          "metadata": {}
        },
        {
          "output_type": "stream",
          "name": "stdout",
          "text": [
            "input =  Here are the details.\n",
            "output =  Aqui estão os detalhes. <EOS>\n"
          ]
        },
        {
          "output_type": "display_data",
          "data": {
            "text/plain": [
              "<Figure size 640x480 with 2 Axes>"
            ],
            "image/png": "[encoded data removed]"
          },
          "metadata": {}
        },
        {
          "output_type": "stream",
          "name": "stdout",
          "text": [
            "input =  The gates were closed.\n",
            "output =  Os portões estavam fechados. <EOS>\n"
          ]
        },
        {
          "output_type": "display_data",
          "data": {
            "text/plain": [
              "<Figure size 640x480 with 2 Axes>"
            ],
            "image/png": "[encoded data removed]"
          },
          "metadata": {}
        },
        {
          "output_type": "stream",
          "name": "stdout",
          "text": [
            "input =  Everyone was asleep.\n",
            "output =  Todo mundo estava dormindo. <EOS>\n"
          ]
        },
        {
          "output_type": "display_data",
          "data": {
            "text/plain": [
              "<Figure size 640x480 with 2 Axes>"
            ],
            "image/png": "[encoded data removed]"
          },
          "metadata": {}
        },
        {
          "output_type": "stream",
          "name": "stdout",
          "text": [
            "input =  He is well paid.\n",
            "output =  Ele é bem pago. <EOS>\n"
          ]
        },
        {
          "output_type": "display_data",
          "data": {
            "text/plain": [
              "<Figure size 640x480 with 2 Axes>"
            ],
            "image/png": "[encoded data removed]"
          },
          "metadata": {}
        }
      ],
      "source": [
        "encoder.eval()\n",
        "decoder.eval()\n",
        "evaluateAndShowAttention(encoder, decoder,5)"
      ]
    },
    {
      "cell_type": "markdown",
      "source": [
        "### e se eu tentar teacher reinforcing?"
      ],
      "metadata": {
        "id": "HhC1D1kVO2Af"
      }
    },
    {
      "cell_type": "code",
      "source": [
        "def train_epoch(dataloader, encoder, decoder, encoder_optimizer, decoder_optimizer, criterion):\n",
        "  \"\"\"\n",
        "  Train the encoder and decoder for one epoch.\n",
        "\n",
        "  Parameters:\n",
        "  - dataloader: Iterable that provides batches of input and target tensors.\n",
        "  - encoder: The encoder model.\n",
        "  - decoder: The decoder model.\n",
        "  - encoder_optimizer: Optimizer for updating the encoder's parameters.\n",
        "  - decoder_optimizer: Optimizer for updating the decoder's parameters.\n",
        "  - criterion: Loss function to measure the difference between the predicted and target outputs.\n",
        "\n",
        "  Returns:\n",
        "  - The average loss over the epoch.\n",
        "  \"\"\"\n",
        "  total_loss = 0\n",
        "  for data in dataloader:\n",
        "    input_tensor, target_tensor = data\n",
        "\n",
        "    encoder_optimizer.zero_grad()\n",
        "    decoder_optimizer.zero_grad()\n",
        "\n",
        "    encoder_outputs, encoder_hidden = encoder(input_tensor)\n",
        "    decoder_outputs, _, _ = decoder(encoder_outputs, encoder_hidden, target_tensor)\n",
        "\n",
        "    loss = criterion(\n",
        "        decoder_outputs.view(-1, decoder_outputs.size(-1)),\n",
        "        target_tensor.view(-1)\n",
        "    )\n",
        "    loss.backward()\n",
        "\n",
        "    encoder_optimizer.step()\n",
        "    decoder_optimizer.step()\n",
        "\n",
        "    total_loss += loss.item()\n",
        "\n",
        "  return total_loss / len(dataloader)"
      ],
      "metadata": {
        "id": "XFPasNJoO1ko"
      },
      "execution_count": null,
      "outputs": []
    },
    {
      "cell_type": "code",
      "source": [
        "hidden_size = 128\n",
        "batch_size = 32\n",
        "\n",
        "input_lang, output_lang, train_dataloader = get_dataloader(batch_size)\n",
        "\n",
        "encoder = EncoderRNN(input_lang.n_words, hidden_size).to(device)\n",
        "decoder = DecoderRNN(hidden_size, output_lang.n_words).to(device)\n",
        "\n",
        "train(train_dataloader, encoder, decoder, 100, print_every=5, plot_every=5)\n"
      ],
      "metadata": {
        "colab": {
          "base_uri": "https://localhost:8080/",
          "height": 923
        },
        "id": "2ErqWm-AO7zZ",
        "outputId": "2ca5839e-703a-42ac-fe31-bdc96029f487"
      },
      "execution_count": null,
      "outputs": [
        {
          "output_type": "stream",
          "name": "stdout",
          "text": [
            "Reading lines...\n",
            "Read 193633 sentence pairs\n",
            "Trimmed to 40762 sentence pairs\n",
            "Counting words...\n",
            "Counted words:\n",
            "eng 10246\n",
            "por 16389\n",
            "0m 59s (- 18m 50s) (5 5%) 2.5350\n",
            "1m 54s (- 17m 12s) (10 10%) 1.0169\n",
            "2m 50s (- 16m 6s) (15 15%) 0.5552\n",
            "3m 45s (- 15m 0s) (20 20%) 0.3834\n",
            "4m 40s (- 14m 0s) (25 25%) 0.3079\n",
            "5m 34s (- 13m 1s) (30 30%) 0.2692\n",
            "6m 29s (- 12m 4s) (35 35%) 0.2468\n",
            "7m 24s (- 11m 6s) (40 40%) 0.2319\n",
            "8m 19s (- 10m 10s) (45 45%) 0.2222\n",
            "9m 14s (- 9m 14s) (50 50%) 0.2149\n",
            "10m 9s (- 8m 18s) (55 55%) 0.2094\n",
            "11m 4s (- 7m 22s) (60 60%) 0.2048\n",
            "11m 59s (- 6m 27s) (65 65%) 0.2013\n",
            "12m 53s (- 5m 31s) (70 70%) 0.1986\n",
            "13m 49s (- 4m 36s) (75 75%) 0.1961\n",
            "14m 43s (- 3m 40s) (80 80%) 0.1934\n",
            "15m 38s (- 2m 45s) (85 85%) 0.1920\n",
            "16m 33s (- 1m 50s) (90 90%) 0.1901\n",
            "17m 28s (- 0m 55s) (95 95%) 0.1889\n",
            "18m 23s (- 0m 0s) (100 100%) 0.1881\n"
          ]
        },
        {
          "output_type": "display_data",
          "data": {
            "text/plain": [
              "<Figure size 640x480 with 1 Axes>"
            ],
            "image/png": "[encoded data removed]"
          },
          "metadata": {}
        }
      ]
    },
    {
      "cell_type": "code",
      "source": [
        "encoder.eval()\n",
        "decoder.eval()\n",
        "evaluateRandomly(encoder, decoder)"
      ],
      "metadata": {
        "colab": {
          "base_uri": "https://localhost:8080/"
        },
        "id": "rKfpFwGuPIYJ",
        "outputId": "5ca0ca77-e4e6-44a7-a526-91b8487b955d"
      },
      "execution_count": null,
      "outputs": [
        {
          "output_type": "stream",
          "name": "stdout",
          "text": [
            "> He crossed the street.\n",
            "= Ele atravessou a rua.\n",
            "< Ele atravessava a rua. <EOS>\n",
            "\n",
            "> You're back again.\n",
            "= Você voltou, de novo.\n",
            "< Você voltou, outra vez. <EOS>\n",
            "\n",
            "> He doesn't allow interruptions.\n",
            "= Ele não admite interrupções.\n",
            "< Ele não admite interrupções. <EOS>\n",
            "\n",
            "> Tom whispered.\n",
            "= Tom sussurrou.\n",
            "< Tom sussurrou. o traíram. <EOS>\n",
            "\n",
            "> Are you listening?\n",
            "= Você está me ouvindo?\n",
            "< Você está ouvindo? <EOS>\n",
            "\n",
            "> Don't blame the victim.\n",
            "= Não culpe a vítima.\n",
            "< Não culpe a vítima. <EOS>\n",
            "\n",
            "> I feel horrible.\n",
            "= Eu me sinto horrivel.\n",
            "< Sinto-me sem horrível. <EOS>\n",
            "\n",
            "> This is delicious.\n",
            "= Isto é delicioso.\n",
            "< Este peru está delicioso. <EOS>\n",
            "\n",
            "> We need time.\n",
            "= Precisamos de tempo.\n",
            "< Precisamos de tempo. <EOS>\n",
            "\n",
            "> He loves soccer.\n",
            "= Ele adora futebol.\n",
            "< Ele adora futebol. <EOS>\n",
            "\n"
          ]
        }
      ]
    },
    {
      "cell_type": "markdown",
      "source": [
        "### Mudando o tamanho do batch size"
      ],
      "metadata": {
        "id": "ycwiOHyTTxxB"
      }
    },
    {
      "cell_type": "code",
      "source": [
        "hidden_size = 128\n",
        "batch_size = 1024\n",
        "\n",
        "input_lang, output_lang, train_dataloader = get_dataloader(batch_size)\n",
        "\n",
        "encoder = EncoderRNN(input_lang.n_words, hidden_size).to(device)\n",
        "decoder = DecoderRNN(hidden_size, output_lang.n_words).to(device)\n",
        "\n",
        "train(train_dataloader, encoder, decoder, 100, print_every=5, plot_every=5)"
      ],
      "metadata": {
        "colab": {
          "base_uri": "https://localhost:8080/",
          "height": 923
        },
        "id": "sTcOVgo3TxVx",
        "outputId": "1125a0a4-6d74-42b4-b044-40a62af2e45b"
      },
      "execution_count": null,
      "outputs": [
        {
          "output_type": "stream",
          "name": "stdout",
          "text": [
            "Reading lines...\n",
            "Read 193633 sentence pairs\n",
            "Trimmed to 40762 sentence pairs\n",
            "Counting words...\n",
            "Counted words:\n",
            "eng 10246\n",
            "por 16389\n",
            "0m 13s (- 4m 14s) (5 5%) 5.1349\n",
            "0m 25s (- 3m 53s) (10 10%) 3.6403\n",
            "0m 38s (- 3m 37s) (15 15%) 2.8357\n",
            "0m 50s (- 3m 23s) (20 20%) 2.2948\n",
            "1m 3s (- 3m 10s) (25 25%) 1.8908\n",
            "1m 15s (- 2m 56s) (30 30%) 1.5732\n",
            "1m 28s (- 2m 43s) (35 35%) 1.3158\n",
            "1m 40s (- 2m 31s) (40 40%) 1.1071\n",
            "1m 53s (- 2m 18s) (45 45%) 0.9391\n",
            "2m 5s (- 2m 5s) (50 50%) 0.8047\n",
            "2m 18s (- 1m 53s) (55 55%) 0.6968\n",
            "2m 30s (- 1m 40s) (60 60%) 0.6107\n",
            "2m 43s (- 1m 27s) (65 65%) 0.5404\n",
            "2m 55s (- 1m 15s) (70 70%) 0.4835\n",
            "3m 8s (- 1m 2s) (75 75%) 0.4366\n",
            "3m 20s (- 0m 50s) (80 80%) 0.3979\n",
            "3m 33s (- 0m 37s) (85 85%) 0.3650\n",
            "3m 45s (- 0m 25s) (90 90%) 0.3374\n",
            "3m 58s (- 0m 12s) (95 95%) 0.3137\n",
            "4m 10s (- 0m 0s) (100 100%) 0.2935\n"
          ]
        },
        {
          "output_type": "display_data",
          "data": {
            "text/plain": [
              "<Figure size 640x480 with 1 Axes>"
            ],
            "image/png": "[encoded data removed]"
          },
          "metadata": {}
        }
      ]
    },
    {
      "cell_type": "code",
      "source": [
        "encoder.eval()\n",
        "decoder.eval()\n",
        "evaluateRandomly(encoder, decoder)"
      ],
      "metadata": {
        "colab": {
          "base_uri": "https://localhost:8080/"
        },
        "id": "PyCiGx94T4bN",
        "outputId": "094d1433-48f7-4730-d14c-e5f07a6b2b1b"
      },
      "execution_count": null,
      "outputs": [
        {
          "output_type": "stream",
          "name": "stdout",
          "text": [
            "> What did you forget?\n",
            "= O que você esqueceu?\n",
            "< O que você esqueceu? <EOS>\n",
            "\n",
            "> Everything is all right.\n",
            "= Está tudo em ordem.\n",
            "< Está tudo bem. <EOS>\n",
            "\n",
            "> Boston is changing.\n",
            "= Boston está mudando.\n",
            "< Boston está a vodca? <EOS>\n",
            "\n",
            "> Who is absent?\n",
            "= Quem está ausente?\n",
            "< Quem está comendo isso? <EOS>\n",
            "\n",
            "> It wasn't my mistake.\n",
            "= Não foi erro meu.\n",
            "< Não foi erro meu. <EOS>\n",
            "\n",
            "> I owe you $30.\n",
            "= Devo-lhe trinta dólares.\n",
            "< Devo-lhe trinta dólares. <EOS>\n",
            "\n",
            "> What did you order?\n",
            "= O que você pediu?\n",
            "< O que você pediu? <EOS>\n",
            "\n",
            "> We're psychics.\n",
            "= Somos médiuns.\n",
            "< Somos apenas um apartamento. <EOS>\n",
            "\n",
            "> I'm not unhappy.\n",
            "= Não sou infeliz.\n",
            "< Não sou infeliz. <EOS>\n",
            "\n",
            "> I'll come right now.\n",
            "= Já venho.\n",
            "< Já volto. <EOS>\n",
            "\n"
          ]
        }
      ]
    },
    {
      "cell_type": "markdown",
      "metadata": {
        "id": "cf-xthSAWz70"
      },
      "source": [
        "### Utilizando as frases aleatórias e o modelo do Pytorch"
      ]
    },
    {
      "cell_type": "markdown",
      "metadata": {
        "id": "U2opyP5XH62f"
      },
      "source": [
        "Mas será que isso não é um problema dos dados? Em um dos casos temos frases curtas, no outro temos frases aleatórias.... Vamos verificar isso..."
      ]
    },
    {
      "cell_type": "code",
      "execution_count": null,
      "metadata": {
        "colab": {
          "base_uri": "https://localhost:8080/"
        },
        "id": "wf0r09RZIhPf",
        "outputId": "188adcb2-ddce-49e5-e89b-ae73e4069d50"
      },
      "outputs": [
        {
          "name": "stderr",
          "output_type": "stream",
          "text": [
            "Downloading...\n",
            "From: https://drive.google.com/uc?id=1Dt96VaplAImAPwJP1-FjHZQiP-0Tcvi1\n",
            "To: /content/por.txt\n",
            "100%|██████████| 28.3M/28.3M [00:00<00:00, 76.8MB/s]\n"
          ]
        },
        {
          "name": "stdout",
          "output_type": "stream",
          "text": [
            "\n",
            "Read 193633 samples from por.txt\n",
            "\n",
            "[\"I said I'd do it.\", 'Eu disse que faria.']\n",
            "[\"Tom wanted to kiss Mary, but he didn't have the nerve to try.\", 'Tom queria beijar Maria, mas ele não tinha a coragem de tentar.']\n",
            "['She needs you.', 'Ela precisa de você.']\n",
            "['He is the owner of this land.', 'Ele é o dono desta terra.']\n",
            "[\"It's unnecessary.\", 'Não é necessária.']\n",
            "['Her dress is blue with white polka dots.', 'Seu vestido é azul com bolinhas brancas.']\n",
            "['Tom threw rocks at Mary.', 'Tom atirou pedras em Mary.']\n",
            "[\"I can't look at this photo without being reminded of my school days.\", 'Não posso olhar essa foto sem me lembrar dos meus dias na escola.']\n",
            "['I hope that is not the case.', 'Espero que esse não seja o caso.']\n",
            "['I ended up telling Tom what you told me not to tell him.', 'Eu terminei dizendo a Tom o que você me disse para não dizer a ele.']\n",
            "['Can you give me an example?', 'Você poderia me dar um exemplo?']\n",
            "['What would you do if you failed?', 'O que você faria se fracassasse?']\n",
            "['We used to swim in this lake.', 'Nós nadávamos neste lago.']\n",
            "['A promise is a promise.', 'Uma promessa é uma promessa.']\n",
            "[\"He doesn't appreciate favors.\", 'Ele é mal-agradecido.']\n"
          ]
        }
      ],
      "source": [
        "def readDataset(reverse=False): #Utilizando um link online para realizar puxar o dataset\n",
        "  url = 'https://drive.google.com/uc?id=1Dt96VaplAImAPwJP1-FjHZQiP-0Tcvi1'\n",
        "  file = 'por.txt'\n",
        "  gdown.download(url, file, quiet=False)\n",
        "  lines = open(file, encoding='utf-8').read().strip().split('\\n') #abrindo cada linha\n",
        "  pairs = [[s for s in l.split('\\t')[:2]] for l in lines] #tomando apenas os dois primeiros itens\n",
        "  # (o dataset vem com uma informação extra na terceira coluna, sendo os créditos de onde foi retirado)\n",
        "  print()\n",
        "  print(f'Read {len(pairs)} samples from {file}')\n",
        "  print()\n",
        "  print(\"\\n\".join(map(str, random.sample(pairs, 15))))\n",
        "  return  pairs\n",
        "\n",
        "pairs = readDataset()"
      ]
    },
    {
      "cell_type": "code",
      "execution_count": null,
      "metadata": {
        "colab": {
          "base_uri": "https://localhost:8080/"
        },
        "id": "2wI__MgMIhPg",
        "outputId": "ccd9df2f-2d69-4a58-cb23-4110eaaeeba5"
      },
      "outputs": [
        {
          "name": "stdout",
          "output_type": "stream",
          "text": [
            "Digite o tamanho da amostra: 40000\n",
            "Amostra de tamanho 40000 criada\n"
          ]
        }
      ],
      "source": [
        "sample_size = int(input(\"Digite o tamanho da amostra: \"))\n",
        "print(f\"Amostra de tamanho {sample_size} criada\")\n",
        "sampled_pairs = random.sample(pairs, sample_size)"
      ]
    },
    {
      "cell_type": "code",
      "execution_count": null,
      "metadata": {
        "colab": {
          "base_uri": "https://localhost:8080/"
        },
        "id": "yeEGPMvDIhPg",
        "outputId": "a430b1fd-f621-4f57-cc44-f9e42aa32ab0"
      },
      "outputs": [
        {
          "name": "stdout",
          "output_type": "stream",
          "text": [
            "Number of input words: 8331\n",
            "Number of output words: 12440\n"
          ]
        }
      ],
      "source": [
        "SOS_token = 0\n",
        "EOS_token = 1\n",
        "space_token = 2\n",
        "\n",
        "\n",
        "def prepareData(pairs):\n",
        "  input_dict  = {\"SOS\": SOS_token, \"EOS\": EOS_token, \" \": space_token}\n",
        "  output_dict = {\"SOS\": SOS_token, \"EOS\": EOS_token, \" \": space_token}\n",
        "\n",
        "  input_dict_reverse  = {SOS_token: \"SOS\", EOS_token: \"EOS\", \" \": space_token}\n",
        "  output_dict_reverse = {SOS_token: \"SOS\", EOS_token: \"EOS\", \" \": space_token}\n",
        "\n",
        "  for pair in pairs:\n",
        "    ipt, tgt = pair\n",
        "\n",
        "    mask = '([^a-zA-Z0-9])' #para tirar todos os inputs que não sejam letras ou números e separar acentos\n",
        "    result = [token for token in re.split(mask, ipt) if token.strip()]\n",
        "    for word_input in result:\n",
        "      if word_input not in input_dict:\n",
        "        next_int = max(input_dict.values()) + 1\n",
        "        input_dict[word_input] = next_int\n",
        "        input_dict_reverse[next_int] = word_input\n",
        "\n",
        "    for word_output in re.split(mask, tgt):\n",
        "      if word_output not in output_dict:\n",
        "        next_int = max(output_dict.values()) + 1\n",
        "        output_dict[word_output] = next_int\n",
        "        output_dict_reverse[word_output] = word_output  # Adicione essa linha\n",
        "\n",
        "  print(f'Number of input words: {len(input_dict.keys())}')\n",
        "  print(f'Number of output words: {len(output_dict.keys())}')\n",
        "\n",
        "  return input_dict, output_dict, input_dict_reverse, output_dict_reverse\n",
        "\n",
        "input_dict, output_dict, input_dict_reverse, output_dict_reverse = prepareData(sampled_pairs)"
      ]
    },
    {
      "cell_type": "code",
      "execution_count": null,
      "metadata": {
        "colab": {
          "base_uri": "https://localhost:8080/"
        },
        "id": "vUq74nE0IhPg",
        "outputId": "f551b0b7-138e-469b-c62f-60471eb66bbb"
      },
      "outputs": [
        {
          "name": "stdout",
          "output_type": "stream",
          "text": [
            "'There's nothing left to worry about.' => [50, 13, 87, 2, 1015, 2, 275, 2, 34, 2, 569, 2, 187, 9]\n",
            "'Eu acredito que você gosta do seu trabalho' => [67, 2, 1778, 2, 37, 2, 129, 28, 2, 220, 2, 175, 2, 697, 2, 177]\n"
          ]
        }
      ],
      "source": [
        "def indexesFromSentence(language_dict, sentence, verbose=False):\n",
        "  '''\n",
        "    Função utilitária para converter uma sentença em índices\n",
        "  '''\n",
        "  encoded = []\n",
        "  for word in re.split('([^a-zA-Z0-9])', sentence):\n",
        "    if word.strip():\n",
        "      encoded.append(language_dict.get(word, language_dict[' ']))\n",
        "    elif word == ' ':\n",
        "      encoded.append(language_dict[' '])\n",
        "  if verbose:\n",
        "    print(f\"'{sentence}' => {encoded}\")\n",
        "  return encoded\n",
        "\n",
        "indexesFromSentence(input_dict, \"There's nothing left to worry about.\", verbose=True);\n",
        "indexesFromSentence(output_dict, 'Eu acredito que você gosta do seu trabalho', verbose=True);"
      ]
    },
    {
      "cell_type": "code",
      "execution_count": null,
      "metadata": {
        "colab": {
          "base_uri": "https://localhost:8080/"
        },
        "id": "SNI7b9n-IhPh",
        "outputId": "26988bf3-bf6f-4e9c-ea0b-cc3d7d0813fb"
      },
      "outputs": [
        {
          "name": "stdout",
          "output_type": "stream",
          "text": [
            "Input: Tom went to Australia.\n",
            "Output: Tom foi à Austrália.\n"
          ]
        },
        {
          "data": {
            "text/plain": [
              "(tensor([[  0,  31,   2, 500,   2,  34,   2, 306,   9,   1]], device='cuda:0'),\n",
              " tensor([[  0,  33,   2,  19,   2, 347,   2, 334,  25, 335,   8,   1]],\n",
              "        device='cuda:0'))"
            ]
          },
          "execution_count": 17,
          "metadata": {},
          "output_type": "execute_result"
        }
      ],
      "source": [
        "# Funções utilitárias\n",
        "def tensorFromSentence(language_dict, sentence):\n",
        "  indexes = indexesFromSentence(language_dict, sentence)\n",
        "  indexes.insert(0, SOS_token)\n",
        "  indexes.append(EOS_token)\n",
        "  return torch.tensor(indexes, dtype=torch.long, device=device).view(1, -1)\n",
        "\n",
        "def tensorsFromPair(pair):\n",
        "    input_tensor = tensorFromSentence(input_dict, pair[0])\n",
        "    target_tensor = tensorFromSentence(output_dict, pair[1])\n",
        "    return (input_tensor, target_tensor)\n",
        "\n",
        "sample = random.sample(sampled_pairs, 1)\n",
        "ipt, out = sample[0]\n",
        "print(f'Input: {ipt}')\n",
        "print(f'Output: {out}')\n",
        "tensorsFromPair([ipt,out])"
      ]
    },
    {
      "cell_type": "code",
      "execution_count": null,
      "metadata": {
        "id": "jEyRbJ9fIhPh"
      },
      "outputs": [],
      "source": [
        "def get_dataloader(batch_size, pairs, input_dict, output_dict):\n",
        "  n = len(pairs)\n",
        "  input_ids = np.zeros((n, MAX_LENGTH), dtype=np.int32)\n",
        "  target_ids = np.zeros((n, MAX_LENGTH), dtype=np.int32)\n",
        "\n",
        "  for idx, (inp, tgt) in enumerate(pairs):\n",
        "    inp_ids = indexesFromSentence(input_dict, inp)\n",
        "    tgt_ids = indexesFromSentence(output_dict, tgt)\n",
        "    inp_ids.append(EOS_token)\n",
        "    tgt_ids.append(EOS_token)\n",
        "    input_ids[idx, :min(len(inp_ids), MAX_LENGTH)] = inp_ids[:MAX_LENGTH]\n",
        "    target_ids[idx, :min(len(tgt_ids), MAX_LENGTH)] = tgt_ids[:MAX_LENGTH]\n",
        "\n",
        "  train_data = TensorDataset(torch.LongTensor(input_ids).to(device), torch.LongTensor(target_ids).to(device))\n",
        "\n",
        "  train_sampler = RandomSampler(train_data)\n",
        "  train_dataloader = DataLoader(train_data, sampler=train_sampler, batch_size=batch_size)\n",
        "  return train_dataloader"
      ]
    },
    {
      "cell_type": "code",
      "execution_count": null,
      "metadata": {
        "colab": {
          "base_uri": "https://localhost:8080/",
          "height": 777
        },
        "id": "h_vQqQFJI-Fg",
        "outputId": "af0ca17d-c406-44bb-c439-cfdb8a3642cd"
      },
      "outputs": [
        {
          "name": "stdout",
          "output_type": "stream",
          "text": [
            "2m 17s (- 43m 30s) (5 5%) 1.5076\n",
            "4m 25s (- 39m 45s) (10 10%) 0.9256\n",
            "6m 31s (- 37m 0s) (15 15%) 0.7134\n",
            "8m 41s (- 34m 45s) (20 20%) 0.5855\n",
            "10m 48s (- 32m 24s) (25 25%) 0.4998\n",
            "12m 57s (- 30m 13s) (30 30%) 0.4382\n",
            "15m 6s (- 28m 2s) (35 35%) 0.3924\n",
            "17m 13s (- 25m 50s) (40 40%) 0.3560\n",
            "19m 21s (- 23m 39s) (45 45%) 0.3277\n",
            "21m 29s (- 21m 29s) (50 50%) 0.3038\n",
            "23m 38s (- 19m 20s) (55 55%) 0.2842\n",
            "25m 46s (- 17m 10s) (60 60%) 0.2671\n",
            "27m 54s (- 15m 1s) (65 65%) 0.2528\n",
            "30m 1s (- 12m 52s) (70 70%) 0.2399\n",
            "32m 9s (- 10m 43s) (75 75%) 0.2290\n",
            "34m 18s (- 8m 34s) (80 80%) 0.2188\n",
            "36m 25s (- 6m 25s) (85 85%) 0.2101\n",
            "38m 33s (- 4m 17s) (90 90%) 0.2018\n",
            "40m 41s (- 2m 8s) (95 95%) 0.1947\n",
            "42m 49s (- 0m 0s) (100 100%) 0.1878\n"
          ]
        },
        {
          "data": {
            "image/png": "[encoded data removed]",
            "text/plain": [
              "<Figure size 640x480 with 1 Axes>"
            ]
          },
          "metadata": {},
          "output_type": "display_data"
        }
      ],
      "source": [
        "hidden_size = 128\n",
        "batch_size = 32\n",
        "MAX_LENGTH = 18\n",
        "\n",
        "train_dataloader = get_dataloader(batch_size, sampled_pairs, input_dict, output_dict)\n",
        "\n",
        "encoder = EncoderRNN(len(input_dict), hidden_size).to(device)\n",
        "decoder = DecoderRNN(hidden_size, len(output_dict)).to(device)\n",
        "\n",
        "train(train_dataloader, encoder, decoder, 100, print_every=5, plot_every=5)\n"
      ]
    },
    {
      "cell_type": "code",
      "execution_count": null,
      "metadata": {
        "id": "v3HwdaAlDMRi"
      },
      "outputs": [],
      "source": [
        "def evaluate(encoder, decoder, sentence):\n",
        "  encoder.eval()\n",
        "  decoder.eval()\n",
        "  with torch.no_grad():\n",
        "    input_tensor = tensorFromSentence(input_dict, sentence)\n",
        "\n",
        "    encoder_outputs, encoder_hidden = encoder(input_tensor)\n",
        "    decoder_outputs, decoder_hidden, decoder_attn = decoder(encoder_outputs, encoder_hidden, target_tensor=None)\n",
        "\n",
        "    _, topi = decoder_outputs.topk(1)\n",
        "    decoded_ids = topi.squeeze()\n",
        "\n",
        "    decoded_words = []\n",
        "    for idx in decoded_ids:\n",
        "        # Obter a palavra correspondente ao índice\n",
        "        # (assumindo que output_dict contém {palavra: índice})\n",
        "\n",
        "        # Se seu output_dict_reverse for {index: palavra}:\n",
        "        # word = output_dict_reverse.get(idx.item(), \"<UNK>\")\n",
        "\n",
        "        # Se seu output_dict_reverse for {palavra: index} e você tiver o output_dict:\n",
        "        word = next((word for word, index in output_dict.items() if index == idx.item()), \"<UNK>\")\n",
        "\n",
        "\n",
        "        # Verificar se a palavra está no output_dict_reverse\n",
        "        # (assumindo que output_dict_reverse contém {palavra: índice_reverso})\n",
        "        # Esse if é apenas para segurança adicional, mas na realidade\n",
        "        # se a palavra estiver no output_dict, deverá ter uma entrada correspondente\n",
        "        # no output_dict_reverse. Se isso não estiver ocorrendo o problema esta na\n",
        "        # criação do output_dict_reverse\n",
        "        if word in output_dict_reverse:\n",
        "            decoded_words.append(word)\n",
        "        else:\n",
        "            print(f\"Palavra não encontrada em output_dict_reverse: {word}\")\n",
        "            decoded_words.append(\"<UNK>\")\n",
        "\n",
        "        if idx.item() == EOS_token:\n",
        "            break\n",
        "    return decoded_words, decoder_attn"
      ]
    },
    {
      "cell_type": "code",
      "execution_count": null,
      "metadata": {
        "id": "AyutjfGlDMRj"
      },
      "outputs": [],
      "source": [
        "def evaluateRandomly(encoder, decoder, n=5):\n",
        "  for i in range(n):\n",
        "    pair = random.choice(sampled_pairs)\n",
        "    print(f'Input: {pair[0]}')\n",
        "    print(f'Ground truth: {pair[1]}')\n",
        "    output_words, _ = evaluate(encoder, decoder, pair[0])\n",
        "    output_sentence = ''.join(output_words)\n",
        "    print(f'Predicted: {output_sentence}')\n",
        "    print('')"
      ]
    },
    {
      "cell_type": "code",
      "execution_count": null,
      "metadata": {
        "colab": {
          "base_uri": "https://localhost:8080/"
        },
        "id": "7wPIc3PjWq25",
        "outputId": "85438381-5ffd-437b-fbac-c45df2cae67f"
      },
      "outputs": [
        {
          "name": "stdout",
          "output_type": "stream",
          "text": [
            "Input: I knew you couldn't wait.\n",
            "Ground truth: Eu sabia que você não podia esperar.\n",
            "Palavra não encontrada em output_dict_reverse: EOS\n",
            "Predicted: Eu sabia que você queria contar.<UNK>\n",
            "\n",
            "Input: Tom won't tolerate this.\n",
            "Ground truth: Tom não vai tolerar isso.\n",
            "Palavra não encontrada em output_dict_reverse: EOS\n",
            "Predicted: Tom não vai ligar para isso.<UNK>\n",
            "\n",
            "Input: Tom bought a rug.\n",
            "Ground truth: Tom comprou um tapete.\n",
            "Palavra não encontrada em output_dict_reverse: EOS\n",
            "Predicted: Tom comprou um tapete turco.<UNK>\n",
            "\n",
            "Input: Tom's silence made Mary angry.\n",
            "Ground truth: O silêncio do Tom fez a Mary ficar furiosa.\n",
            "Predicted: O silêncio de Tom foi difícil de \n",
            "\n",
            "Input: Do you think Tom was annoyed?\n",
            "Ground truth: Você acha que Tom ficou irritado?\n",
            "Palavra não encontrada em output_dict_reverse: EOS\n",
            "Predicted: O que Tom estava triste?<UNK>\n",
            "\n"
          ]
        }
      ],
      "source": [
        "evaluateRandomly(encoder, decoder)"
      ]
    },
    {
      "cell_type": "markdown",
      "metadata": {
        "id": "l55EqX9ZQjKw"
      },
      "source": [
        "e com esta amostra de frases mais longas + attention:"
      ]
    },
    {
      "cell_type": "code",
      "execution_count": null,
      "metadata": {
        "colab": {
          "base_uri": "https://localhost:8080/",
          "height": 777
        },
        "id": "NPpSDKlaQy7t",
        "outputId": "38cd57ce-0c97-42f3-9f11-9ad4ecd4efd5"
      },
      "outputs": [
        {
          "name": "stdout",
          "output_type": "stream",
          "text": [
            "4m 1s (- 76m 20s) (5 5%) 1.3233\n",
            "7m 51s (- 70m 47s) (10 10%) 0.5835\n",
            "11m 43s (- 66m 27s) (15 15%) 0.3939\n",
            "15m 34s (- 62m 19s) (20 20%) 0.3078\n",
            "19m 27s (- 58m 22s) (25 25%) 0.2574\n",
            "23m 19s (- 54m 26s) (30 30%) 0.2233\n",
            "27m 8s (- 50m 24s) (35 35%) 0.1982\n",
            "30m 58s (- 46m 27s) (40 40%) 0.1793\n",
            "34m 47s (- 42m 31s) (45 45%) 0.1639\n",
            "38m 36s (- 38m 36s) (50 50%) 0.1518\n",
            "42m 23s (- 34m 41s) (55 55%) 0.1417\n",
            "46m 12s (- 30m 48s) (60 60%) 0.1333\n",
            "50m 0s (- 26m 55s) (65 65%) 0.1259\n",
            "53m 48s (- 23m 3s) (70 70%) 0.1199\n",
            "57m 37s (- 19m 12s) (75 75%) 0.1143\n",
            "61m 26s (- 15m 21s) (80 80%) 0.1093\n",
            "65m 14s (- 11m 30s) (85 85%) 0.1046\n",
            "69m 3s (- 7m 40s) (90 90%) 0.1013\n",
            "72m 53s (- 3m 50s) (95 95%) 0.0976\n",
            "76m 41s (- 0m 0s) (100 100%) 0.0952\n"
          ]
        },
        {
          "data": {
            "image/png": "[encoded data removed]",
            "text/plain": [
              "<Figure size 640x480 with 1 Axes>"
            ]
          },
          "metadata": {},
          "output_type": "display_data"
        }
      ],
      "source": [
        "hidden_size = 128\n",
        "batch_size = 32\n",
        "MAX_LENGTH = 18\n",
        "\n",
        "train_dataloader = get_dataloader(batch_size, sampled_pairs, input_dict, output_dict)\n",
        "\n",
        "encoder = EncoderRNN(len(input_dict), hidden_size).to(device)\n",
        "decoder = AttnDecoderRNN(hidden_size, len(output_dict)).to(device)\n",
        "\n",
        "train(train_dataloader, encoder, decoder, 100, print_every=5, plot_every=5)\n"
      ]
    },
    {
      "cell_type": "code",
      "execution_count": null,
      "metadata": {
        "colab": {
          "base_uri": "https://localhost:8080/"
        },
        "id": "6SQ4OFzeQ9wK",
        "outputId": "719ef0d3-6af3-49be-b826-c2b8ebc9d54c"
      },
      "outputs": [
        {
          "name": "stdout",
          "output_type": "stream",
          "text": [
            "Input: The pain was unbearable.\n",
            "Ground truth: A dor era insuportável.\n",
            "Palavra não encontrada em output_dict_reverse: EOS\n",
            "Predicted: A dor era insuportável único insuportária.<UNK>\n",
            "\n",
            "Input: Many people make that mistake.\n",
            "Ground truth: Muitas pessoas cometem esse erro.\n",
            "Palavra não encontrada em output_dict_reverse: EOS\n",
            "Predicted: Os carros a fazer isso mesmo.<UNK>\n",
            "\n",
            "Input: What subjects do you like best?\n",
            "Ground truth: De qual assunto você mais gosta?\n",
            "Palavra não encontrada em output_dict_reverse: EOS\n",
            "Predicted: De qual assunto você mais gosta?<UNK>\n",
            "\n",
            "Input: We didn't hear Tom leave, but we heard Mary.\n",
            "Ground truth: Não ouvimos Tom sair, mas ouvimos Mary.\n",
            "Palavra não encontrada em output_dict_reverse: EOS\n",
            "Predicted: Não ouvimos Tom sair, mas ouvimos Mary.<UNK>\n",
            "\n",
            "Input: There is a possibility that we won't have to shut down the factory.\n",
            "Ground truth: Existe a possibilidade de não termos de fechar a fábrica.\n",
            "Predicted: Tem uma possibilidade de possibilidade que nós teremos \n",
            "\n"
          ]
        }
      ],
      "source": [
        "evaluateRandomly(encoder, decoder)\n"
      ]
    },
    {
      "cell_type": "markdown",
      "metadata": {
        "id": "zAqJ3Lv_uXCM"
      },
      "source": [
        "Veja que é engraçado que o erro está muito pequeno, mas ao vermos como a tradução está acontecendo realmente, vemos que não está sendo eficiente para frases maiores e amostras aleatórios, mesmo aumentando a amostra e adicionando atenção, e tendo a mesma medida de erro e métodos de otimização."
      ]
    },
    {
      "cell_type": "markdown",
      "metadata": {
        "id": "oVRMYwJarJsx"
      },
      "source": [
        "\n",
        "\n",
        "---\n",
        "\n"
      ]
    },
    {
      "cell_type": "markdown",
      "metadata": {
        "id": "K2mPIuKMIu8o"
      },
      "source": [
        "# Problemas e comentários:\n",
        "1. Inicialmente, gostaria de ter feito um modelo de tradução de português para outra língua, mas estava muito dificil encontrar datasets que ligassem ambos de uma maneira mais acessível. Inclusive, ao pesquisar sobre dataset envolvendo português brasileiro, a maioria que encontrei envolvia a análise de sentimentos de tweets brasileiros (aparentemente, somos famosos online pelo ódio no twitter), uma produção sobre fernando pessoa (https://www.kaggle.com/code/mpwolke/llama-3-2-portuguese-fernando-pessoa) e um dataset da bíblia traduzida em que uma pessoa está tentando treinar uma LLM para responder perguntas referentes a bíblia.  \n",
        "\n",
        "\n",
        "\n",
        "### Comentários e dúvidas sobre o EP3:\n",
        " 5. Não há a inclusão do begin of sentence nas palavras codificadas. Para isto deveria incluir uma linha de inclusão do BOS, ou realmente não há a necessidade de usá-lo?  "
      ]
    },
    {
      "cell_type": "code",
      "execution_count": null,
      "metadata": {
        "id": "GHF95kXNq-Mr"
      },
      "outputs": [],
      "source": []
    }
  ],
  "metadata": {
    "colab": {
      "provenance": [],
      "gpuType": "T4"
    },
    "kernelspec": {
      "display_name": "Python 3",
      "name": "python3"
    },
    "language_info": {
      "codemirror_mode": {
        "name": "ipython",
        "version": 3
      },
      "file_extension": ".py",
      "mimetype": "text/x-python",
      "name": "python",
      "nbconvert_exporter": "python",
      "pygments_lexer": "ipython3",
      "version": "3.11.7"
    },
    "accelerator": "GPU"
  },
  "nbformat": 4,
  "nbformat_minor": 0
}